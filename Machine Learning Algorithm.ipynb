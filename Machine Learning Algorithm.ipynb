{
 "cells": [
  {
   "cell_type": "code",
   "execution_count": 1,
   "id": "529643af",
   "metadata": {
    "_cell_guid": "b1076dfc-b9ad-4769-8c92-a6c4dae69d19",
    "_uuid": "8f2839f25d086af736a60e9eeb907d3b93b6e0e5",
    "execution": {
     "iopub.execute_input": "2021-12-26T04:43:07.597669Z",
     "iopub.status.busy": "2021-12-26T04:43:07.594494Z",
     "iopub.status.idle": "2021-12-26T04:43:07.605448Z",
     "shell.execute_reply": "2021-12-26T04:43:07.606127Z",
     "shell.execute_reply.started": "2021-12-26T04:34:27.019995Z"
    },
    "papermill": {
     "duration": 0.140597,
     "end_time": "2021-12-26T04:43:07.606518",
     "exception": false,
     "start_time": "2021-12-26T04:43:07.465921",
     "status": "completed"
    },
    "tags": []
   },
   "outputs": [
    {
     "name": "stdout",
     "output_type": "stream",
     "text": [
      "/kaggle/input/2021-uofmn-travelers-modeling-competition/submission_sample.csv\n",
      "/kaggle/input/2021-uofmn-travelers-modeling-competition/train_2021.csv\n",
      "/kaggle/input/2021-uofmn-travelers-modeling-competition/test_2021.csv\n"
     ]
    }
   ],
   "source": [
    "# This Python 3 environment comes with many helpful analytics libraries installed\n",
    "# It is defined by the kaggle/python Docker image: https://github.com/kaggle/docker-python\n",
    "# For example, here's several helpful packages to load\n",
    "\n",
    "import numpy as np # linear algebra\n",
    "import pandas as pd # data processing, CSV file I/O (e.g. pd.read_csv)\n",
    "\n",
    "# Input data files are available in the read-only \"../input/\" directory\n",
    "# For example, running this (by clicking run or pressing Shift+Enter) will list all files under the input directory\n",
    "\n",
    "import os\n",
    "for dirname, _, filenames in os.walk('/kaggle/input'):\n",
    "    for filename in filenames:\n",
    "        print(os.path.join(dirname, filename))\n",
    "\n",
    "# You can write up to 20GB to the current directory (/kaggle/working/) that gets preserved as output when you create a version using \"Save & Run All\" \n",
    "# You can also write temporary files to /kaggle/temp/, but they won't be saved outside of the current session"
   ]
  },
  {
   "cell_type": "code",
   "execution_count": 2,
   "id": "7a8a6a26",
   "metadata": {
    "execution": {
     "iopub.execute_input": "2021-12-26T04:43:07.861275Z",
     "iopub.status.busy": "2021-12-26T04:43:07.858424Z",
     "iopub.status.idle": "2021-12-26T04:43:08.891248Z",
     "shell.execute_reply": "2021-12-26T04:43:08.890697Z",
     "shell.execute_reply.started": "2021-12-26T04:34:27.058331Z"
    },
    "papermill": {
     "duration": 1.156528,
     "end_time": "2021-12-26T04:43:08.891411",
     "exception": false,
     "start_time": "2021-12-26T04:43:07.734883",
     "status": "completed"
    },
    "tags": []
   },
   "outputs": [],
   "source": [
    "import pandas as pd\n",
    "import numpy as np\n",
    "import matplotlib.pyplot as plt\n",
    "plt.style.use('ggplot')\n",
    "import seaborn as sns\n",
    "import warnings\n",
    "warnings.filterwarnings('ignore')"
   ]
  },
  {
   "cell_type": "markdown",
   "id": "6d3f8a7b",
   "metadata": {
    "papermill": {
     "duration": 0.115504,
     "end_time": "2021-12-26T04:43:09.125072",
     "exception": false,
     "start_time": "2021-12-26T04:43:09.009568",
     "status": "completed"
    },
    "tags": []
   },
   "source": [
    "# Explorary Data Analysis"
   ]
  },
  {
   "cell_type": "code",
   "execution_count": 3,
   "id": "4a435581",
   "metadata": {
    "execution": {
     "iopub.execute_input": "2021-12-26T04:43:09.359060Z",
     "iopub.status.busy": "2021-12-26T04:43:09.358402Z",
     "iopub.status.idle": "2021-12-26T04:43:09.468069Z",
     "shell.execute_reply": "2021-12-26T04:43:09.468583Z",
     "shell.execute_reply.started": "2021-12-26T04:34:28.165222Z"
    },
    "papermill": {
     "duration": 0.228501,
     "end_time": "2021-12-26T04:43:09.468784",
     "exception": false,
     "start_time": "2021-12-26T04:43:09.240283",
     "status": "completed"
    },
    "tags": []
   },
   "outputs": [],
   "source": [
    "train = pd.read_csv('../input/2021-uofmn-travelers-modeling-competition/train_2021.csv')"
   ]
  },
  {
   "cell_type": "code",
   "execution_count": 4,
   "id": "1d85dda1",
   "metadata": {
    "execution": {
     "iopub.execute_input": "2021-12-26T04:43:09.703002Z",
     "iopub.status.busy": "2021-12-26T04:43:09.702258Z",
     "iopub.status.idle": "2021-12-26T04:43:09.710547Z",
     "shell.execute_reply": "2021-12-26T04:43:09.710023Z",
     "shell.execute_reply.started": "2021-12-26T04:34:28.290094Z"
    },
    "papermill": {
     "duration": 0.126845,
     "end_time": "2021-12-26T04:43:09.710723",
     "exception": false,
     "start_time": "2021-12-26T04:43:09.583878",
     "status": "completed"
    },
    "tags": []
   },
   "outputs": [
    {
     "data": {
      "text/plain": [
       "(17998, 25)"
      ]
     },
     "execution_count": 4,
     "metadata": {},
     "output_type": "execute_result"
    }
   ],
   "source": [
    "train.shape"
   ]
  },
  {
   "cell_type": "code",
   "execution_count": 5,
   "id": "a0f1ef6b",
   "metadata": {
    "execution": {
     "iopub.execute_input": "2021-12-26T04:43:09.945595Z",
     "iopub.status.busy": "2021-12-26T04:43:09.944950Z",
     "iopub.status.idle": "2021-12-26T04:43:09.959876Z",
     "shell.execute_reply": "2021-12-26T04:43:09.959253Z",
     "shell.execute_reply.started": "2021-12-26T04:34:28.301404Z"
    },
    "papermill": {
     "duration": 0.134514,
     "end_time": "2021-12-26T04:43:09.960018",
     "exception": false,
     "start_time": "2021-12-26T04:43:09.825504",
     "status": "completed"
    },
    "tags": []
   },
   "outputs": [
    {
     "data": {
      "text/plain": [
       "0    15182\n",
       "1     2816\n",
       "Name: fraud, dtype: int64"
      ]
     },
     "execution_count": 5,
     "metadata": {},
     "output_type": "execute_result"
    }
   ],
   "source": [
    "train['fraud'].value_counts()\n",
    "#We know that the class is heavily skewed, the fraud rate is 15.6% as stated by Travelers."
   ]
  },
  {
   "cell_type": "code",
   "execution_count": 6,
   "id": "2b2aa11f",
   "metadata": {
    "execution": {
     "iopub.execute_input": "2021-12-26T04:43:10.214075Z",
     "iopub.status.busy": "2021-12-26T04:43:10.213393Z",
     "iopub.status.idle": "2021-12-26T04:43:10.220894Z",
     "shell.execute_reply": "2021-12-26T04:43:10.221492Z",
     "shell.execute_reply.started": "2021-12-26T04:34:28.321869Z"
    },
    "papermill": {
     "duration": 0.144379,
     "end_time": "2021-12-26T04:43:10.221680",
     "exception": false,
     "start_time": "2021-12-26T04:43:10.077301",
     "status": "completed"
    },
    "tags": []
   },
   "outputs": [
    {
     "data": {
      "text/plain": [
       "claim_number                 0\n",
       "age_of_driver                0\n",
       "gender                       0\n",
       "marital_status               5\n",
       "safty_rating                 0\n",
       "annual_income                0\n",
       "high_education_ind           0\n",
       "address_change_ind           0\n",
       "living_status                0\n",
       "zip_code                     0\n",
       "claim_date                   0\n",
       "claim_day_of_week            0\n",
       "accident_site                0\n",
       "past_num_of_claims           0\n",
       "witness_present_ind        132\n",
       "liab_prct                    0\n",
       "channel                      0\n",
       "policy_report_filed_ind      0\n",
       "claim_est_payout            17\n",
       "age_of_vehicle               8\n",
       "vehicle_category             0\n",
       "vehicle_price                0\n",
       "vehicle_color                0\n",
       "vehicle_weight               0\n",
       "fraud                        0\n",
       "dtype: int64"
      ]
     },
     "execution_count": 6,
     "metadata": {},
     "output_type": "execute_result"
    }
   ],
   "source": [
    "train.isna().sum()"
   ]
  },
  {
   "cell_type": "code",
   "execution_count": 7,
   "id": "052bd36f",
   "metadata": {
    "execution": {
     "iopub.execute_input": "2021-12-26T04:43:10.456773Z",
     "iopub.status.busy": "2021-12-26T04:43:10.456043Z",
     "iopub.status.idle": "2021-12-26T04:43:10.486695Z",
     "shell.execute_reply": "2021-12-26T04:43:10.487240Z",
     "shell.execute_reply.started": "2021-12-26T04:34:28.341458Z"
    },
    "papermill": {
     "duration": 0.149809,
     "end_time": "2021-12-26T04:43:10.487422",
     "exception": false,
     "start_time": "2021-12-26T04:43:10.337613",
     "status": "completed"
    },
    "tags": []
   },
   "outputs": [],
   "source": [
    "#Dropping data with missing value because there's so little of them\n",
    "train.dropna(inplace=True)"
   ]
  },
  {
   "cell_type": "code",
   "execution_count": 8,
   "id": "f6877ee7",
   "metadata": {
    "execution": {
     "iopub.execute_input": "2021-12-26T04:43:10.742751Z",
     "iopub.status.busy": "2021-12-26T04:43:10.725855Z",
     "iopub.status.idle": "2021-12-26T04:43:10.751833Z",
     "shell.execute_reply": "2021-12-26T04:43:10.751235Z",
     "shell.execute_reply.started": "2021-12-26T04:34:28.365778Z"
    },
    "papermill": {
     "duration": 0.147362,
     "end_time": "2021-12-26T04:43:10.751995",
     "exception": false,
     "start_time": "2021-12-26T04:43:10.604633",
     "status": "completed"
    },
    "tags": []
   },
   "outputs": [
    {
     "data": {
      "text/plain": [
       "claim_number               0\n",
       "age_of_driver              0\n",
       "gender                     0\n",
       "marital_status             0\n",
       "safty_rating               0\n",
       "annual_income              0\n",
       "high_education_ind         0\n",
       "address_change_ind         0\n",
       "living_status              0\n",
       "zip_code                   0\n",
       "claim_date                 0\n",
       "claim_day_of_week          0\n",
       "accident_site              0\n",
       "past_num_of_claims         0\n",
       "witness_present_ind        0\n",
       "liab_prct                  0\n",
       "channel                    0\n",
       "policy_report_filed_ind    0\n",
       "claim_est_payout           0\n",
       "age_of_vehicle             0\n",
       "vehicle_category           0\n",
       "vehicle_price              0\n",
       "vehicle_color              0\n",
       "vehicle_weight             0\n",
       "fraud                      0\n",
       "dtype: int64"
      ]
     },
     "execution_count": 8,
     "metadata": {},
     "output_type": "execute_result"
    }
   ],
   "source": [
    "train.isna().sum()"
   ]
  },
  {
   "cell_type": "code",
   "execution_count": 9,
   "id": "5940a0cb",
   "metadata": {
    "execution": {
     "iopub.execute_input": "2021-12-26T04:43:11.013924Z",
     "iopub.status.busy": "2021-12-26T04:43:11.012851Z",
     "iopub.status.idle": "2021-12-26T04:43:11.028805Z",
     "shell.execute_reply": "2021-12-26T04:43:11.029439Z",
     "shell.execute_reply.started": "2021-12-26T04:34:28.381796Z"
    },
    "papermill": {
     "duration": 0.157042,
     "end_time": "2021-12-26T04:43:11.029626",
     "exception": false,
     "start_time": "2021-12-26T04:43:10.872584",
     "status": "completed"
    },
    "tags": []
   },
   "outputs": [
    {
     "name": "stdout",
     "output_type": "stream",
     "text": [
      "<class 'pandas.core.frame.DataFrame'>\n",
      "Int64Index: 17836 entries, 0 to 17997\n",
      "Data columns (total 25 columns):\n",
      " #   Column                   Non-Null Count  Dtype  \n",
      "---  ------                   --------------  -----  \n",
      " 0   claim_number             17836 non-null  int64  \n",
      " 1   age_of_driver            17836 non-null  int64  \n",
      " 2   gender                   17836 non-null  object \n",
      " 3   marital_status           17836 non-null  float64\n",
      " 4   safty_rating             17836 non-null  int64  \n",
      " 5   annual_income            17836 non-null  int64  \n",
      " 6   high_education_ind       17836 non-null  int64  \n",
      " 7   address_change_ind       17836 non-null  int64  \n",
      " 8   living_status            17836 non-null  object \n",
      " 9   zip_code                 17836 non-null  int64  \n",
      " 10  claim_date               17836 non-null  object \n",
      " 11  claim_day_of_week        17836 non-null  object \n",
      " 12  accident_site            17836 non-null  object \n",
      " 13  past_num_of_claims       17836 non-null  int64  \n",
      " 14  witness_present_ind      17836 non-null  float64\n",
      " 15  liab_prct                17836 non-null  int64  \n",
      " 16  channel                  17836 non-null  object \n",
      " 17  policy_report_filed_ind  17836 non-null  int64  \n",
      " 18  claim_est_payout         17836 non-null  float64\n",
      " 19  age_of_vehicle           17836 non-null  float64\n",
      " 20  vehicle_category         17836 non-null  object \n",
      " 21  vehicle_price            17836 non-null  float64\n",
      " 22  vehicle_color            17836 non-null  object \n",
      " 23  vehicle_weight           17836 non-null  float64\n",
      " 24  fraud                    17836 non-null  int64  \n",
      "dtypes: float64(6), int64(11), object(8)\n",
      "memory usage: 3.5+ MB\n"
     ]
    }
   ],
   "source": [
    "train.info()"
   ]
  },
  {
   "cell_type": "code",
   "execution_count": 10,
   "id": "909eeff2",
   "metadata": {
    "execution": {
     "iopub.execute_input": "2021-12-26T04:43:11.303829Z",
     "iopub.status.busy": "2021-12-26T04:43:11.303122Z",
     "iopub.status.idle": "2021-12-26T04:43:11.371476Z",
     "shell.execute_reply": "2021-12-26T04:43:11.370913Z",
     "shell.execute_reply.started": "2021-12-26T04:34:28.408179Z"
    },
    "papermill": {
     "duration": 0.220394,
     "end_time": "2021-12-26T04:43:11.371632",
     "exception": false,
     "start_time": "2021-12-26T04:43:11.151238",
     "status": "completed"
    },
    "tags": []
   },
   "outputs": [],
   "source": [
    "#Make sure the datatype are appropriate\n",
    "train['witness_present_ind']=train['witness_present_ind'].astype(int)\n",
    "train['marital_status']=train['marital_status'].astype(int)\n",
    "train['claim_number']=train['claim_number'].astype(str)\n",
    "train['fraud']=train['fraud'].astype(str)\n",
    "train['annual_income']=train['annual_income'].astype(float)\n",
    "train['zip_code']=train['zip_code'].astype(str)\n",
    "train['gender'] = train['gender'].astype('category')\n",
    "train['living_status'] = train['living_status'].astype('category')\n",
    "train['accident_site'] = train['accident_site'].astype('category')\n",
    "train['channel'] = train['channel'].astype('category')\n",
    "train['vehicle_category'] = train['vehicle_category'].astype('category')"
   ]
  },
  {
   "cell_type": "code",
   "execution_count": 11,
   "id": "00649087",
   "metadata": {
    "execution": {
     "iopub.execute_input": "2021-12-26T04:43:11.629223Z",
     "iopub.status.busy": "2021-12-26T04:43:11.628520Z",
     "iopub.status.idle": "2021-12-26T04:43:11.644590Z",
     "shell.execute_reply": "2021-12-26T04:43:11.645130Z",
     "shell.execute_reply.started": "2021-12-26T04:34:28.476127Z"
    },
    "papermill": {
     "duration": 0.152072,
     "end_time": "2021-12-26T04:43:11.645315",
     "exception": false,
     "start_time": "2021-12-26T04:43:11.493243",
     "status": "completed"
    },
    "tags": []
   },
   "outputs": [
    {
     "name": "stdout",
     "output_type": "stream",
     "text": [
      "<class 'pandas.core.frame.DataFrame'>\n",
      "Int64Index: 17836 entries, 0 to 17997\n",
      "Data columns (total 25 columns):\n",
      " #   Column                   Non-Null Count  Dtype   \n",
      "---  ------                   --------------  -----   \n",
      " 0   claim_number             17836 non-null  object  \n",
      " 1   age_of_driver            17836 non-null  int64   \n",
      " 2   gender                   17836 non-null  category\n",
      " 3   marital_status           17836 non-null  int64   \n",
      " 4   safty_rating             17836 non-null  int64   \n",
      " 5   annual_income            17836 non-null  float64 \n",
      " 6   high_education_ind       17836 non-null  int64   \n",
      " 7   address_change_ind       17836 non-null  int64   \n",
      " 8   living_status            17836 non-null  category\n",
      " 9   zip_code                 17836 non-null  object  \n",
      " 10  claim_date               17836 non-null  object  \n",
      " 11  claim_day_of_week        17836 non-null  object  \n",
      " 12  accident_site            17836 non-null  category\n",
      " 13  past_num_of_claims       17836 non-null  int64   \n",
      " 14  witness_present_ind      17836 non-null  int64   \n",
      " 15  liab_prct                17836 non-null  int64   \n",
      " 16  channel                  17836 non-null  category\n",
      " 17  policy_report_filed_ind  17836 non-null  int64   \n",
      " 18  claim_est_payout         17836 non-null  float64 \n",
      " 19  age_of_vehicle           17836 non-null  float64 \n",
      " 20  vehicle_category         17836 non-null  category\n",
      " 21  vehicle_price            17836 non-null  float64 \n",
      " 22  vehicle_color            17836 non-null  object  \n",
      " 23  vehicle_weight           17836 non-null  float64 \n",
      " 24  fraud                    17836 non-null  object  \n",
      "dtypes: category(5), float64(5), int64(9), object(6)\n",
      "memory usage: 2.9+ MB\n"
     ]
    }
   ],
   "source": [
    "train.info()"
   ]
  },
  {
   "cell_type": "code",
   "execution_count": 12,
   "id": "1a6fe0c3",
   "metadata": {
    "execution": {
     "iopub.execute_input": "2021-12-26T04:43:11.889064Z",
     "iopub.status.busy": "2021-12-26T04:43:11.888028Z",
     "iopub.status.idle": "2021-12-26T04:43:12.775209Z",
     "shell.execute_reply": "2021-12-26T04:43:12.775728Z",
     "shell.execute_reply.started": "2021-12-26T04:34:28.502997Z"
    },
    "papermill": {
     "duration": 1.01247,
     "end_time": "2021-12-26T04:43:12.775921",
     "exception": false,
     "start_time": "2021-12-26T04:43:11.763451",
     "status": "completed"
    },
    "tags": []
   },
   "outputs": [
    {
     "data": {
      "image/png": "[encoded data removed]",
      "text/plain": [
       "<Figure size 1296x864 with 2 Axes>"
      ]
     },
     "metadata": {},
     "output_type": "display_data"
    }
   ],
   "source": [
    "#Check for correlation between variables\n",
    "plt.figure(figsize = (18, 12))\n",
    "\n",
    "corr = train.corr()\n",
    "mask = np.triu(np.ones_like(corr, dtype = bool))\n",
    "\n",
    "sns.heatmap(data = corr, mask = mask, annot = True, fmt = '.2g', linewidth = 1)\n",
    "plt.show()\n",
    "#We see that age_of_driver are highly correlated with annual_income"
   ]
  },
  {
   "cell_type": "code",
   "execution_count": 13,
   "id": "94d69177",
   "metadata": {
    "execution": {
     "iopub.execute_input": "2021-12-26T04:43:13.025028Z",
     "iopub.status.busy": "2021-12-26T04:43:13.023976Z",
     "iopub.status.idle": "2021-12-26T04:43:13.034757Z",
     "shell.execute_reply": "2021-12-26T04:43:13.035284Z",
     "shell.execute_reply.started": "2021-12-26T04:34:29.361308Z"
    },
    "papermill": {
     "duration": 0.13709,
     "end_time": "2021-12-26T04:43:13.035466",
     "exception": false,
     "start_time": "2021-12-26T04:43:12.898376",
     "status": "completed"
    },
    "tags": []
   },
   "outputs": [],
   "source": [
    "#To fit a boxplot for outlier, only consider numerical variable\n",
    "Z = train.select_dtypes(include = [('int64'),('float64')])"
   ]
  },
  {
   "cell_type": "code",
   "execution_count": 14,
   "id": "31eb4431",
   "metadata": {
    "execution": {
     "iopub.execute_input": "2021-12-26T04:43:13.281338Z",
     "iopub.status.busy": "2021-12-26T04:43:13.280289Z",
     "iopub.status.idle": "2021-12-26T04:43:13.291091Z",
     "shell.execute_reply": "2021-12-26T04:43:13.291642Z",
     "shell.execute_reply.started": "2021-12-26T04:34:29.372968Z"
    },
    "papermill": {
     "duration": 0.13545,
     "end_time": "2021-12-26T04:43:13.291825",
     "exception": false,
     "start_time": "2021-12-26T04:43:13.156375",
     "status": "completed"
    },
    "tags": []
   },
   "outputs": [
    {
     "data": {
      "text/plain": [
       "age_of_driver                 3.272167\n",
       "marital_status                0.287356\n",
       "safty_rating                  3.192164\n",
       "annual_income               232.272012\n",
       "high_education_ind            0.300757\n",
       "address_change_ind            0.422932\n",
       "past_num_of_claims            1.807666\n",
       "witness_present_ind           0.767536\n",
       "liab_prct                    22.949825\n",
       "policy_report_filed_ind       0.399776\n",
       "claim_est_payout            987.678652\n",
       "age_of_vehicle                1.018988\n",
       "vehicle_price              6233.923899\n",
       "vehicle_weight             6312.152579\n",
       "dtype: float64"
      ]
     },
     "execution_count": 14,
     "metadata": {},
     "output_type": "execute_result"
    }
   ],
   "source": [
    "#Coefficient of variation\n",
    "Z.var()/Z.mean()\n",
    "#We know that some features have high variances where we will dealt with later by scaling"
   ]
  },
  {
   "cell_type": "code",
   "execution_count": 15,
   "id": "979fc125",
   "metadata": {
    "execution": {
     "iopub.execute_input": "2021-12-26T04:43:13.540083Z",
     "iopub.status.busy": "2021-12-26T04:43:13.539026Z",
     "iopub.status.idle": "2021-12-26T04:43:15.232497Z",
     "shell.execute_reply": "2021-12-26T04:43:15.233022Z",
     "shell.execute_reply.started": "2021-12-26T04:34:29.387638Z"
    },
    "papermill": {
     "duration": 1.819253,
     "end_time": "2021-12-26T04:43:15.233193",
     "exception": false,
     "start_time": "2021-12-26T04:43:13.413940",
     "status": "completed"
    },
    "tags": []
   },
   "outputs": [
    {
     "data": {
      "image/png": "[encoded data removed]",
      "text/plain": [
       "<Figure size 1440x1080 with 14 Axes>"
      ]
     },
     "metadata": {},
     "output_type": "display_data"
    }
   ],
   "source": [
    "#Boxplot to check for outlier and data range\n",
    "plt.figure(figsize = (20, 15))\n",
    "plotnumber = 1\n",
    "\n",
    "for col in Z.columns:\n",
    "    if plotnumber <= 30:\n",
    "        ax = plt.subplot(5, 5, plotnumber)\n",
    "        sns.boxplot(Z[col])\n",
    "        plt.xlabel(col, fontsize = 15)\n",
    "    \n",
    "    plotnumber += 1\n",
    "plt.tight_layout()\n",
    "plt.show()\n",
    "#There's indeed outlier in the dataset"
   ]
  },
  {
   "cell_type": "code",
   "execution_count": 16,
   "id": "7c6d6be2",
   "metadata": {
    "execution": {
     "iopub.execute_input": "2021-12-26T04:43:15.481553Z",
     "iopub.status.busy": "2021-12-26T04:43:15.480523Z",
     "iopub.status.idle": "2021-12-26T04:43:15.495426Z",
     "shell.execute_reply": "2021-12-26T04:43:15.496014Z",
     "shell.execute_reply.started": "2021-12-26T04:34:30.920208Z"
    },
    "papermill": {
     "duration": 0.140859,
     "end_time": "2021-12-26T04:43:15.496189",
     "exception": false,
     "start_time": "2021-12-26T04:43:15.355330",
     "status": "completed"
    },
    "tags": []
   },
   "outputs": [
    {
     "data": {
      "text/plain": [
       "(17732, 25)"
      ]
     },
     "execution_count": 16,
     "metadata": {},
     "output_type": "execute_result"
    }
   ],
   "source": [
    "percentile = train['annual_income'].quantile(0.995)\n",
    "train = train[train['annual_income'] < percentile]\n",
    "train = train[train['annual_income'] > 25000]\n",
    "train.shape"
   ]
  },
  {
   "cell_type": "code",
   "execution_count": 17,
   "id": "d2af9c7a",
   "metadata": {
    "execution": {
     "iopub.execute_input": "2021-12-26T04:43:15.747680Z",
     "iopub.status.busy": "2021-12-26T04:43:15.746637Z",
     "iopub.status.idle": "2021-12-26T04:43:15.757188Z",
     "shell.execute_reply": "2021-12-26T04:43:15.757778Z",
     "shell.execute_reply.started": "2021-12-26T04:34:30.938149Z"
    },
    "papermill": {
     "duration": 0.139168,
     "end_time": "2021-12-26T04:43:15.757961",
     "exception": false,
     "start_time": "2021-12-26T04:43:15.618793",
     "status": "completed"
    },
    "tags": []
   },
   "outputs": [
    {
     "data": {
      "text/plain": [
       "(17574, 25)"
      ]
     },
     "execution_count": 17,
     "metadata": {},
     "output_type": "execute_result"
    }
   ],
   "source": [
    "train = train[train['past_num_of_claims'] < 5]\n",
    "train.shape"
   ]
  },
  {
   "cell_type": "code",
   "execution_count": 18,
   "id": "25b8e8e2",
   "metadata": {
    "execution": {
     "iopub.execute_input": "2021-12-26T04:43:16.010085Z",
     "iopub.status.busy": "2021-12-26T04:43:16.009102Z",
     "iopub.status.idle": "2021-12-26T04:43:16.020474Z",
     "shell.execute_reply": "2021-12-26T04:43:16.021116Z",
     "shell.execute_reply.started": "2021-12-26T04:34:30.950471Z"
    },
    "papermill": {
     "duration": 0.138322,
     "end_time": "2021-12-26T04:43:16.021290",
     "exception": false,
     "start_time": "2021-12-26T04:43:15.882968",
     "status": "completed"
    },
    "tags": []
   },
   "outputs": [
    {
     "data": {
      "text/plain": [
       "(17486, 25)"
      ]
     },
     "execution_count": 18,
     "metadata": {},
     "output_type": "execute_result"
    }
   ],
   "source": [
    "percentile = train['claim_est_payout'].quantile(0.995)\n",
    "train = train[train['claim_est_payout'] < percentile]\n",
    "train.shape"
   ]
  },
  {
   "cell_type": "code",
   "execution_count": 19,
   "id": "9b1bb9e9",
   "metadata": {
    "execution": {
     "iopub.execute_input": "2021-12-26T04:43:16.275320Z",
     "iopub.status.busy": "2021-12-26T04:43:16.274158Z",
     "iopub.status.idle": "2021-12-26T04:43:16.285798Z",
     "shell.execute_reply": "2021-12-26T04:43:16.286418Z",
     "shell.execute_reply.started": "2021-12-26T04:34:30.965735Z"
    },
    "papermill": {
     "duration": 0.140541,
     "end_time": "2021-12-26T04:43:16.286601",
     "exception": false,
     "start_time": "2021-12-26T04:43:16.146060",
     "status": "completed"
    },
    "tags": []
   },
   "outputs": [
    {
     "data": {
      "text/plain": [
       "(17398, 25)"
      ]
     },
     "execution_count": 19,
     "metadata": {},
     "output_type": "execute_result"
    }
   ],
   "source": [
    "percentile = train['vehicle_price'].quantile(0.995)\n",
    "train = train[train['vehicle_price'] < percentile]\n",
    "train.shape"
   ]
  },
  {
   "cell_type": "code",
   "execution_count": 20,
   "id": "fc6f3654",
   "metadata": {
    "execution": {
     "iopub.execute_input": "2021-12-26T04:43:16.544537Z",
     "iopub.status.busy": "2021-12-26T04:43:16.543635Z",
     "iopub.status.idle": "2021-12-26T04:43:16.551916Z",
     "shell.execute_reply": "2021-12-26T04:43:16.552409Z",
     "shell.execute_reply.started": "2021-12-26T04:34:30.980697Z"
    },
    "papermill": {
     "duration": 0.140799,
     "end_time": "2021-12-26T04:43:16.552604",
     "exception": false,
     "start_time": "2021-12-26T04:43:16.411805",
     "status": "completed"
    },
    "tags": []
   },
   "outputs": [
    {
     "data": {
      "text/plain": [
       "(17311, 25)"
      ]
     },
     "execution_count": 20,
     "metadata": {},
     "output_type": "execute_result"
    }
   ],
   "source": [
    "percentile = train['vehicle_weight'].quantile(0.995)\n",
    "train = train[train['vehicle_weight'] < percentile]\n",
    "train.shape"
   ]
  },
  {
   "cell_type": "code",
   "execution_count": 21,
   "id": "68d95c20",
   "metadata": {
    "execution": {
     "iopub.execute_input": "2021-12-26T04:43:16.840610Z",
     "iopub.status.busy": "2021-12-26T04:43:16.839890Z",
     "iopub.status.idle": "2021-12-26T04:43:16.842151Z",
     "shell.execute_reply": "2021-12-26T04:43:16.842752Z",
     "shell.execute_reply.started": "2021-12-26T04:34:30.996683Z"
    },
    "papermill": {
     "duration": 0.162413,
     "end_time": "2021-12-26T04:43:16.842924",
     "exception": false,
     "start_time": "2021-12-26T04:43:16.680511",
     "status": "completed"
    },
    "tags": []
   },
   "outputs": [],
   "source": [
    "#Dropping the variable which we assumed unneeded in prediction.\n",
    "#To improve algorithm running time, we decide to drop zip_code and claim_date, but will implement them in our R modelling\n",
    "to_drop = ['claim_number','zip_code','claim_date','claim_day_of_week','vehicle_color']\n",
    "train.drop(to_drop, inplace = True, axis = 1)"
   ]
  },
  {
   "cell_type": "code",
   "execution_count": 22,
   "id": "f3941dfb",
   "metadata": {
    "execution": {
     "iopub.execute_input": "2021-12-26T04:43:17.098117Z",
     "iopub.status.busy": "2021-12-26T04:43:17.097332Z",
     "iopub.status.idle": "2021-12-26T04:43:17.103162Z",
     "shell.execute_reply": "2021-12-26T04:43:17.103793Z",
     "shell.execute_reply.started": "2021-12-26T04:34:31.005616Z"
    },
    "papermill": {
     "duration": 0.136993,
     "end_time": "2021-12-26T04:43:17.103969",
     "exception": false,
     "start_time": "2021-12-26T04:43:16.966976",
     "status": "completed"
    },
    "tags": []
   },
   "outputs": [],
   "source": [
    "#We decided to drop age_of_driver as it is highly correlated with annual_income\n",
    "#age_of_driver has some extremely high outlier e.g. as high as 200\n",
    "train.drop(columns = ['age_of_driver'], inplace = True, axis = 1)"
   ]
  },
  {
   "cell_type": "code",
   "execution_count": 23,
   "id": "ee5bfaf3",
   "metadata": {
    "execution": {
     "iopub.execute_input": "2021-12-26T04:43:17.354735Z",
     "iopub.status.busy": "2021-12-26T04:43:17.354056Z",
     "iopub.status.idle": "2021-12-26T04:43:17.371375Z",
     "shell.execute_reply": "2021-12-26T04:43:17.371862Z",
     "shell.execute_reply.started": "2021-12-26T04:34:31.019077Z"
    },
    "papermill": {
     "duration": 0.14449,
     "end_time": "2021-12-26T04:43:17.372045",
     "exception": false,
     "start_time": "2021-12-26T04:43:17.227555",
     "status": "completed"
    },
    "tags": []
   },
   "outputs": [
    {
     "name": "stdout",
     "output_type": "stream",
     "text": [
      "<class 'pandas.core.frame.DataFrame'>\n",
      "Int64Index: 17311 entries, 0 to 17997\n",
      "Data columns (total 19 columns):\n",
      " #   Column                   Non-Null Count  Dtype   \n",
      "---  ------                   --------------  -----   \n",
      " 0   gender                   17311 non-null  category\n",
      " 1   marital_status           17311 non-null  int64   \n",
      " 2   safty_rating             17311 non-null  int64   \n",
      " 3   annual_income            17311 non-null  float64 \n",
      " 4   high_education_ind       17311 non-null  int64   \n",
      " 5   address_change_ind       17311 non-null  int64   \n",
      " 6   living_status            17311 non-null  category\n",
      " 7   accident_site            17311 non-null  category\n",
      " 8   past_num_of_claims       17311 non-null  int64   \n",
      " 9   witness_present_ind      17311 non-null  int64   \n",
      " 10  liab_prct                17311 non-null  int64   \n",
      " 11  channel                  17311 non-null  category\n",
      " 12  policy_report_filed_ind  17311 non-null  int64   \n",
      " 13  claim_est_payout         17311 non-null  float64 \n",
      " 14  age_of_vehicle           17311 non-null  float64 \n",
      " 15  vehicle_category         17311 non-null  category\n",
      " 16  vehicle_price            17311 non-null  float64 \n",
      " 17  vehicle_weight           17311 non-null  float64 \n",
      " 18  fraud                    17311 non-null  object  \n",
      "dtypes: category(5), float64(5), int64(8), object(1)\n",
      "memory usage: 2.1+ MB\n"
     ]
    }
   ],
   "source": [
    "train.info()"
   ]
  },
  {
   "cell_type": "markdown",
   "id": "e5fef8a9",
   "metadata": {
    "papermill": {
     "duration": 0.125568,
     "end_time": "2021-12-26T04:43:17.622461",
     "exception": false,
     "start_time": "2021-12-26T04:43:17.496893",
     "status": "completed"
    },
    "tags": []
   },
   "source": [
    "# Data Preprocessing"
   ]
  },
  {
   "cell_type": "code",
   "execution_count": 24,
   "id": "380d226c",
   "metadata": {
    "execution": {
     "iopub.execute_input": "2021-12-26T04:43:17.880561Z",
     "iopub.status.busy": "2021-12-26T04:43:17.879857Z",
     "iopub.status.idle": "2021-12-26T04:43:17.883119Z",
     "shell.execute_reply": "2021-12-26T04:43:17.882562Z",
     "shell.execute_reply.started": "2021-12-26T04:34:31.044880Z"
    },
    "papermill": {
     "duration": 0.134818,
     "end_time": "2021-12-26T04:43:17.883279",
     "exception": false,
     "start_time": "2021-12-26T04:43:17.748461",
     "status": "completed"
    },
    "tags": []
   },
   "outputs": [],
   "source": [
    "#Separate predictors and response\n",
    "X = train.drop('fraud', axis = 1)\n",
    "y = train['fraud']"
   ]
  },
  {
   "cell_type": "code",
   "execution_count": 25,
   "id": "5a364d8c",
   "metadata": {
    "execution": {
     "iopub.execute_input": "2021-12-26T04:43:18.142132Z",
     "iopub.status.busy": "2021-12-26T04:43:18.141355Z",
     "iopub.status.idle": "2021-12-26T04:43:18.146808Z",
     "shell.execute_reply": "2021-12-26T04:43:18.147387Z",
     "shell.execute_reply.started": "2021-12-26T04:34:31.053026Z"
    },
    "papermill": {
     "duration": 0.13584,
     "end_time": "2021-12-26T04:43:18.147571",
     "exception": false,
     "start_time": "2021-12-26T04:43:18.011731",
     "status": "completed"
    },
    "tags": []
   },
   "outputs": [],
   "source": [
    "#Extracting categorical columns\n",
    "cat_train = X.select_dtypes(include = ['object','category'])"
   ]
  },
  {
   "cell_type": "code",
   "execution_count": 26,
   "id": "ecc3678b",
   "metadata": {
    "execution": {
     "iopub.execute_input": "2021-12-26T04:43:18.400209Z",
     "iopub.status.busy": "2021-12-26T04:43:18.399355Z",
     "iopub.status.idle": "2021-12-26T04:43:18.414724Z",
     "shell.execute_reply": "2021-12-26T04:43:18.415224Z",
     "shell.execute_reply.started": "2021-12-26T04:34:31.066838Z"
    },
    "papermill": {
     "duration": 0.142865,
     "end_time": "2021-12-26T04:43:18.415396",
     "exception": false,
     "start_time": "2021-12-26T04:43:18.272531",
     "status": "completed"
    },
    "tags": []
   },
   "outputs": [
    {
     "data": {
      "text/html": [
       "<div>\n",
       "<style scoped>\n",
       "    .dataframe tbody tr th:only-of-type {\n",
       "        vertical-align: middle;\n",
       "    }\n",
       "\n",
       "    .dataframe tbody tr th {\n",
       "        vertical-align: top;\n",
       "    }\n",
       "\n",
       "    .dataframe thead th {\n",
       "        text-align: right;\n",
       "    }\n",
       "</style>\n",
       "<table border=\"1\" class=\"dataframe\">\n",
       "  <thead>\n",
       "    <tr style=\"text-align: right;\">\n",
       "      <th></th>\n",
       "      <th>gender</th>\n",
       "      <th>living_status</th>\n",
       "      <th>accident_site</th>\n",
       "      <th>channel</th>\n",
       "      <th>vehicle_category</th>\n",
       "    </tr>\n",
       "  </thead>\n",
       "  <tbody>\n",
       "    <tr>\n",
       "      <th>0</th>\n",
       "      <td>M</td>\n",
       "      <td>Rent</td>\n",
       "      <td>Local</td>\n",
       "      <td>Broker</td>\n",
       "      <td>Compact</td>\n",
       "    </tr>\n",
       "    <tr>\n",
       "      <th>1</th>\n",
       "      <td>F</td>\n",
       "      <td>Rent</td>\n",
       "      <td>Highway</td>\n",
       "      <td>Online</td>\n",
       "      <td>Large</td>\n",
       "    </tr>\n",
       "    <tr>\n",
       "      <th>2</th>\n",
       "      <td>F</td>\n",
       "      <td>Own</td>\n",
       "      <td>Local</td>\n",
       "      <td>Broker</td>\n",
       "      <td>Compact</td>\n",
       "    </tr>\n",
       "    <tr>\n",
       "      <th>3</th>\n",
       "      <td>F</td>\n",
       "      <td>Own</td>\n",
       "      <td>Local</td>\n",
       "      <td>Broker</td>\n",
       "      <td>Medium</td>\n",
       "    </tr>\n",
       "    <tr>\n",
       "      <th>4</th>\n",
       "      <td>M</td>\n",
       "      <td>Rent</td>\n",
       "      <td>Highway</td>\n",
       "      <td>Broker</td>\n",
       "      <td>Medium</td>\n",
       "    </tr>\n",
       "  </tbody>\n",
       "</table>\n",
       "</div>"
      ],
      "text/plain": [
       "  gender living_status accident_site channel vehicle_category\n",
       "0      M          Rent         Local  Broker          Compact\n",
       "1      F          Rent       Highway  Online            Large\n",
       "2      F           Own         Local  Broker          Compact\n",
       "3      F           Own         Local  Broker           Medium\n",
       "4      M          Rent       Highway  Broker           Medium"
      ]
     },
     "execution_count": 26,
     "metadata": {},
     "output_type": "execute_result"
    }
   ],
   "source": [
    "cat_train.head()"
   ]
  },
  {
   "cell_type": "code",
   "execution_count": 27,
   "id": "1271adef",
   "metadata": {
    "execution": {
     "iopub.execute_input": "2021-12-26T04:43:18.672744Z",
     "iopub.status.busy": "2021-12-26T04:43:18.671829Z",
     "iopub.status.idle": "2021-12-26T04:43:18.684765Z",
     "shell.execute_reply": "2021-12-26T04:43:18.685349Z",
     "shell.execute_reply.started": "2021-12-26T04:34:31.091004Z"
    },
    "papermill": {
     "duration": 0.144953,
     "end_time": "2021-12-26T04:43:18.685531",
     "exception": false,
     "start_time": "2021-12-26T04:43:18.540578",
     "status": "completed"
    },
    "tags": []
   },
   "outputs": [
    {
     "name": "stdout",
     "output_type": "stream",
     "text": [
      "gender: \n",
      "['M', 'F']\n",
      "Categories (2, object): ['F', 'M']\n",
      "\n",
      "living_status: \n",
      "['Rent', 'Own']\n",
      "Categories (2, object): ['Own', 'Rent']\n",
      "\n",
      "accident_site: \n",
      "['Local', 'Highway', 'Parking Lot']\n",
      "Categories (3, object): ['Highway', 'Local', 'Parking Lot']\n",
      "\n",
      "channel: \n",
      "['Broker', 'Online', 'Phone']\n",
      "Categories (3, object): ['Broker', 'Online', 'Phone']\n",
      "\n",
      "vehicle_category: \n",
      "['Compact', 'Large', 'Medium']\n",
      "Categories (3, object): ['Compact', 'Large', 'Medium']\n",
      "\n"
     ]
    }
   ],
   "source": [
    "for col in cat_train.columns:\n",
    "    print(f\"{col}: \\n{cat_train[col].unique()}\\n\")"
   ]
  },
  {
   "cell_type": "code",
   "execution_count": 28,
   "id": "1064f49c",
   "metadata": {
    "execution": {
     "iopub.execute_input": "2021-12-26T04:43:18.949742Z",
     "iopub.status.busy": "2021-12-26T04:43:18.949036Z",
     "iopub.status.idle": "2021-12-26T04:43:18.959020Z",
     "shell.execute_reply": "2021-12-26T04:43:18.959609Z",
     "shell.execute_reply.started": "2021-12-26T04:34:31.108932Z"
    },
    "papermill": {
     "duration": 0.145422,
     "end_time": "2021-12-26T04:43:18.959819",
     "exception": false,
     "start_time": "2021-12-26T04:43:18.814397",
     "status": "completed"
    },
    "tags": []
   },
   "outputs": [],
   "source": [
    "#So that machine can calculate numerical distance between data\n",
    "cat_train = pd.get_dummies(cat_train, drop_first = True)"
   ]
  },
  {
   "cell_type": "code",
   "execution_count": 29,
   "id": "3d0f568d",
   "metadata": {
    "execution": {
     "iopub.execute_input": "2021-12-26T04:43:19.217018Z",
     "iopub.status.busy": "2021-12-26T04:43:19.216198Z",
     "iopub.status.idle": "2021-12-26T04:43:19.226625Z",
     "shell.execute_reply": "2021-12-26T04:43:19.227125Z",
     "shell.execute_reply.started": "2021-12-26T04:34:31.122020Z"
    },
    "papermill": {
     "duration": 0.138764,
     "end_time": "2021-12-26T04:43:19.227304",
     "exception": false,
     "start_time": "2021-12-26T04:43:19.088540",
     "status": "completed"
    },
    "tags": []
   },
   "outputs": [
    {
     "data": {
      "text/html": [
       "<div>\n",
       "<style scoped>\n",
       "    .dataframe tbody tr th:only-of-type {\n",
       "        vertical-align: middle;\n",
       "    }\n",
       "\n",
       "    .dataframe tbody tr th {\n",
       "        vertical-align: top;\n",
       "    }\n",
       "\n",
       "    .dataframe thead th {\n",
       "        text-align: right;\n",
       "    }\n",
       "</style>\n",
       "<table border=\"1\" class=\"dataframe\">\n",
       "  <thead>\n",
       "    <tr style=\"text-align: right;\">\n",
       "      <th></th>\n",
       "      <th>gender_M</th>\n",
       "      <th>living_status_Rent</th>\n",
       "      <th>accident_site_Local</th>\n",
       "      <th>accident_site_Parking Lot</th>\n",
       "      <th>channel_Online</th>\n",
       "      <th>channel_Phone</th>\n",
       "      <th>vehicle_category_Large</th>\n",
       "      <th>vehicle_category_Medium</th>\n",
       "    </tr>\n",
       "  </thead>\n",
       "  <tbody>\n",
       "    <tr>\n",
       "      <th>0</th>\n",
       "      <td>1</td>\n",
       "      <td>1</td>\n",
       "      <td>1</td>\n",
       "      <td>0</td>\n",
       "      <td>0</td>\n",
       "      <td>0</td>\n",
       "      <td>0</td>\n",
       "      <td>0</td>\n",
       "    </tr>\n",
       "    <tr>\n",
       "      <th>1</th>\n",
       "      <td>0</td>\n",
       "      <td>1</td>\n",
       "      <td>0</td>\n",
       "      <td>0</td>\n",
       "      <td>1</td>\n",
       "      <td>0</td>\n",
       "      <td>1</td>\n",
       "      <td>0</td>\n",
       "    </tr>\n",
       "    <tr>\n",
       "      <th>2</th>\n",
       "      <td>0</td>\n",
       "      <td>0</td>\n",
       "      <td>1</td>\n",
       "      <td>0</td>\n",
       "      <td>0</td>\n",
       "      <td>0</td>\n",
       "      <td>0</td>\n",
       "      <td>0</td>\n",
       "    </tr>\n",
       "    <tr>\n",
       "      <th>3</th>\n",
       "      <td>0</td>\n",
       "      <td>0</td>\n",
       "      <td>1</td>\n",
       "      <td>0</td>\n",
       "      <td>0</td>\n",
       "      <td>0</td>\n",
       "      <td>0</td>\n",
       "      <td>1</td>\n",
       "    </tr>\n",
       "    <tr>\n",
       "      <th>4</th>\n",
       "      <td>1</td>\n",
       "      <td>1</td>\n",
       "      <td>0</td>\n",
       "      <td>0</td>\n",
       "      <td>0</td>\n",
       "      <td>0</td>\n",
       "      <td>0</td>\n",
       "      <td>1</td>\n",
       "    </tr>\n",
       "  </tbody>\n",
       "</table>\n",
       "</div>"
      ],
      "text/plain": [
       "   gender_M  living_status_Rent  accident_site_Local  \\\n",
       "0         1                   1                    1   \n",
       "1         0                   1                    0   \n",
       "2         0                   0                    1   \n",
       "3         0                   0                    1   \n",
       "4         1                   1                    0   \n",
       "\n",
       "   accident_site_Parking Lot  channel_Online  channel_Phone  \\\n",
       "0                          0               0              0   \n",
       "1                          0               1              0   \n",
       "2                          0               0              0   \n",
       "3                          0               0              0   \n",
       "4                          0               0              0   \n",
       "\n",
       "   vehicle_category_Large  vehicle_category_Medium  \n",
       "0                       0                        0  \n",
       "1                       1                        0  \n",
       "2                       0                        0  \n",
       "3                       0                        1  \n",
       "4                       0                        1  "
      ]
     },
     "execution_count": 29,
     "metadata": {},
     "output_type": "execute_result"
    }
   ],
   "source": [
    "cat_train.head()"
   ]
  },
  {
   "cell_type": "code",
   "execution_count": 30,
   "id": "988baa3e",
   "metadata": {
    "execution": {
     "iopub.execute_input": "2021-12-26T04:43:19.486929Z",
     "iopub.status.busy": "2021-12-26T04:43:19.486124Z",
     "iopub.status.idle": "2021-12-26T04:43:19.492439Z",
     "shell.execute_reply": "2021-12-26T04:43:19.493036Z",
     "shell.execute_reply.started": "2021-12-26T04:34:31.136802Z"
    },
    "papermill": {
     "duration": 0.135459,
     "end_time": "2021-12-26T04:43:19.493230",
     "exception": false,
     "start_time": "2021-12-26T04:43:19.357771",
     "status": "completed"
    },
    "tags": []
   },
   "outputs": [],
   "source": [
    "# extracting the numerical columns\n",
    "num_train = X.select_dtypes(include = [('int64'),('float64')])"
   ]
  },
  {
   "cell_type": "code",
   "execution_count": 31,
   "id": "93173ff5",
   "metadata": {
    "execution": {
     "iopub.execute_input": "2021-12-26T04:43:19.750740Z",
     "iopub.status.busy": "2021-12-26T04:43:19.749971Z",
     "iopub.status.idle": "2021-12-26T04:43:19.765040Z",
     "shell.execute_reply": "2021-12-26T04:43:19.765491Z",
     "shell.execute_reply.started": "2021-12-26T04:34:31.149178Z"
    },
    "papermill": {
     "duration": 0.144281,
     "end_time": "2021-12-26T04:43:19.765691",
     "exception": false,
     "start_time": "2021-12-26T04:43:19.621410",
     "status": "completed"
    },
    "tags": []
   },
   "outputs": [
    {
     "data": {
      "text/html": [
       "<div>\n",
       "<style scoped>\n",
       "    .dataframe tbody tr th:only-of-type {\n",
       "        vertical-align: middle;\n",
       "    }\n",
       "\n",
       "    .dataframe tbody tr th {\n",
       "        vertical-align: top;\n",
       "    }\n",
       "\n",
       "    .dataframe thead th {\n",
       "        text-align: right;\n",
       "    }\n",
       "</style>\n",
       "<table border=\"1\" class=\"dataframe\">\n",
       "  <thead>\n",
       "    <tr style=\"text-align: right;\">\n",
       "      <th></th>\n",
       "      <th>marital_status</th>\n",
       "      <th>safty_rating</th>\n",
       "      <th>annual_income</th>\n",
       "      <th>high_education_ind</th>\n",
       "      <th>address_change_ind</th>\n",
       "      <th>past_num_of_claims</th>\n",
       "      <th>witness_present_ind</th>\n",
       "      <th>liab_prct</th>\n",
       "      <th>policy_report_filed_ind</th>\n",
       "      <th>claim_est_payout</th>\n",
       "      <th>age_of_vehicle</th>\n",
       "      <th>vehicle_price</th>\n",
       "      <th>vehicle_weight</th>\n",
       "    </tr>\n",
       "  </thead>\n",
       "  <tbody>\n",
       "    <tr>\n",
       "      <th>0</th>\n",
       "      <td>1</td>\n",
       "      <td>85</td>\n",
       "      <td>38301.0</td>\n",
       "      <td>1</td>\n",
       "      <td>1</td>\n",
       "      <td>1</td>\n",
       "      <td>0</td>\n",
       "      <td>74</td>\n",
       "      <td>0</td>\n",
       "      <td>7530.940993</td>\n",
       "      <td>9.0</td>\n",
       "      <td>12885.45235</td>\n",
       "      <td>16161.33381</td>\n",
       "    </tr>\n",
       "    <tr>\n",
       "      <th>1</th>\n",
       "      <td>0</td>\n",
       "      <td>75</td>\n",
       "      <td>30445.0</td>\n",
       "      <td>0</td>\n",
       "      <td>1</td>\n",
       "      <td>1</td>\n",
       "      <td>1</td>\n",
       "      <td>79</td>\n",
       "      <td>0</td>\n",
       "      <td>2966.024895</td>\n",
       "      <td>4.0</td>\n",
       "      <td>29429.45218</td>\n",
       "      <td>28691.96422</td>\n",
       "    </tr>\n",
       "    <tr>\n",
       "      <th>2</th>\n",
       "      <td>0</td>\n",
       "      <td>87</td>\n",
       "      <td>38923.0</td>\n",
       "      <td>0</td>\n",
       "      <td>1</td>\n",
       "      <td>0</td>\n",
       "      <td>0</td>\n",
       "      <td>0</td>\n",
       "      <td>0</td>\n",
       "      <td>6283.888333</td>\n",
       "      <td>3.0</td>\n",
       "      <td>21701.18195</td>\n",
       "      <td>22090.94758</td>\n",
       "    </tr>\n",
       "    <tr>\n",
       "      <th>3</th>\n",
       "      <td>1</td>\n",
       "      <td>58</td>\n",
       "      <td>40605.0</td>\n",
       "      <td>1</td>\n",
       "      <td>0</td>\n",
       "      <td>3</td>\n",
       "      <td>0</td>\n",
       "      <td>99</td>\n",
       "      <td>1</td>\n",
       "      <td>6169.747994</td>\n",
       "      <td>4.0</td>\n",
       "      <td>13198.27344</td>\n",
       "      <td>38329.58106</td>\n",
       "    </tr>\n",
       "    <tr>\n",
       "      <th>4</th>\n",
       "      <td>1</td>\n",
       "      <td>95</td>\n",
       "      <td>36380.0</td>\n",
       "      <td>1</td>\n",
       "      <td>0</td>\n",
       "      <td>0</td>\n",
       "      <td>1</td>\n",
       "      <td>7</td>\n",
       "      <td>0</td>\n",
       "      <td>4541.387150</td>\n",
       "      <td>7.0</td>\n",
       "      <td>38060.21122</td>\n",
       "      <td>25876.56319</td>\n",
       "    </tr>\n",
       "  </tbody>\n",
       "</table>\n",
       "</div>"
      ],
      "text/plain": [
       "   marital_status  safty_rating  annual_income  high_education_ind  \\\n",
       "0               1            85        38301.0                   1   \n",
       "1               0            75        30445.0                   0   \n",
       "2               0            87        38923.0                   0   \n",
       "3               1            58        40605.0                   1   \n",
       "4               1            95        36380.0                   1   \n",
       "\n",
       "   address_change_ind  past_num_of_claims  witness_present_ind  liab_prct  \\\n",
       "0                   1                   1                    0         74   \n",
       "1                   1                   1                    1         79   \n",
       "2                   1                   0                    0          0   \n",
       "3                   0                   3                    0         99   \n",
       "4                   0                   0                    1          7   \n",
       "\n",
       "   policy_report_filed_ind  claim_est_payout  age_of_vehicle  vehicle_price  \\\n",
       "0                        0       7530.940993             9.0    12885.45235   \n",
       "1                        0       2966.024895             4.0    29429.45218   \n",
       "2                        0       6283.888333             3.0    21701.18195   \n",
       "3                        1       6169.747994             4.0    13198.27344   \n",
       "4                        0       4541.387150             7.0    38060.21122   \n",
       "\n",
       "   vehicle_weight  \n",
       "0     16161.33381  \n",
       "1     28691.96422  \n",
       "2     22090.94758  \n",
       "3     38329.58106  \n",
       "4     25876.56319  "
      ]
     },
     "execution_count": 31,
     "metadata": {},
     "output_type": "execute_result"
    }
   ],
   "source": [
    "num_train.head()"
   ]
  },
  {
   "cell_type": "code",
   "execution_count": 32,
   "id": "efdc1eb4",
   "metadata": {
    "execution": {
     "iopub.execute_input": "2021-12-26T04:43:20.023594Z",
     "iopub.status.busy": "2021-12-26T04:43:20.022899Z",
     "iopub.status.idle": "2021-12-26T04:43:20.028350Z",
     "shell.execute_reply": "2021-12-26T04:43:20.028845Z",
     "shell.execute_reply.started": "2021-12-26T04:34:31.169631Z"
    },
    "papermill": {
     "duration": 0.13605,
     "end_time": "2021-12-26T04:43:20.029025",
     "exception": false,
     "start_time": "2021-12-26T04:43:19.892975",
     "status": "completed"
    },
    "tags": []
   },
   "outputs": [],
   "source": [
    "# combining the Numerical and Categorical dataframes to get the final dataset\n",
    "\n",
    "X = pd.concat([num_train, cat_train], axis = 1)"
   ]
  },
  {
   "cell_type": "code",
   "execution_count": 33,
   "id": "f17f10bc",
   "metadata": {
    "execution": {
     "iopub.execute_input": "2021-12-26T04:43:20.289677Z",
     "iopub.status.busy": "2021-12-26T04:43:20.289001Z",
     "iopub.status.idle": "2021-12-26T04:43:20.307828Z",
     "shell.execute_reply": "2021-12-26T04:43:20.308364Z",
     "shell.execute_reply.started": "2021-12-26T04:34:31.183735Z"
    },
    "papermill": {
     "duration": 0.151421,
     "end_time": "2021-12-26T04:43:20.308535",
     "exception": false,
     "start_time": "2021-12-26T04:43:20.157114",
     "status": "completed"
    },
    "tags": []
   },
   "outputs": [
    {
     "data": {
      "text/html": [
       "<div>\n",
       "<style scoped>\n",
       "    .dataframe tbody tr th:only-of-type {\n",
       "        vertical-align: middle;\n",
       "    }\n",
       "\n",
       "    .dataframe tbody tr th {\n",
       "        vertical-align: top;\n",
       "    }\n",
       "\n",
       "    .dataframe thead th {\n",
       "        text-align: right;\n",
       "    }\n",
       "</style>\n",
       "<table border=\"1\" class=\"dataframe\">\n",
       "  <thead>\n",
       "    <tr style=\"text-align: right;\">\n",
       "      <th></th>\n",
       "      <th>marital_status</th>\n",
       "      <th>safty_rating</th>\n",
       "      <th>annual_income</th>\n",
       "      <th>high_education_ind</th>\n",
       "      <th>address_change_ind</th>\n",
       "      <th>past_num_of_claims</th>\n",
       "      <th>witness_present_ind</th>\n",
       "      <th>liab_prct</th>\n",
       "      <th>policy_report_filed_ind</th>\n",
       "      <th>claim_est_payout</th>\n",
       "      <th>...</th>\n",
       "      <th>vehicle_price</th>\n",
       "      <th>vehicle_weight</th>\n",
       "      <th>gender_M</th>\n",
       "      <th>living_status_Rent</th>\n",
       "      <th>accident_site_Local</th>\n",
       "      <th>accident_site_Parking Lot</th>\n",
       "      <th>channel_Online</th>\n",
       "      <th>channel_Phone</th>\n",
       "      <th>vehicle_category_Large</th>\n",
       "      <th>vehicle_category_Medium</th>\n",
       "    </tr>\n",
       "  </thead>\n",
       "  <tbody>\n",
       "    <tr>\n",
       "      <th>0</th>\n",
       "      <td>1</td>\n",
       "      <td>85</td>\n",
       "      <td>38301.0</td>\n",
       "      <td>1</td>\n",
       "      <td>1</td>\n",
       "      <td>1</td>\n",
       "      <td>0</td>\n",
       "      <td>74</td>\n",
       "      <td>0</td>\n",
       "      <td>7530.940993</td>\n",
       "      <td>...</td>\n",
       "      <td>12885.45235</td>\n",
       "      <td>16161.33381</td>\n",
       "      <td>1</td>\n",
       "      <td>1</td>\n",
       "      <td>1</td>\n",
       "      <td>0</td>\n",
       "      <td>0</td>\n",
       "      <td>0</td>\n",
       "      <td>0</td>\n",
       "      <td>0</td>\n",
       "    </tr>\n",
       "    <tr>\n",
       "      <th>1</th>\n",
       "      <td>0</td>\n",
       "      <td>75</td>\n",
       "      <td>30445.0</td>\n",
       "      <td>0</td>\n",
       "      <td>1</td>\n",
       "      <td>1</td>\n",
       "      <td>1</td>\n",
       "      <td>79</td>\n",
       "      <td>0</td>\n",
       "      <td>2966.024895</td>\n",
       "      <td>...</td>\n",
       "      <td>29429.45218</td>\n",
       "      <td>28691.96422</td>\n",
       "      <td>0</td>\n",
       "      <td>1</td>\n",
       "      <td>0</td>\n",
       "      <td>0</td>\n",
       "      <td>1</td>\n",
       "      <td>0</td>\n",
       "      <td>1</td>\n",
       "      <td>0</td>\n",
       "    </tr>\n",
       "    <tr>\n",
       "      <th>2</th>\n",
       "      <td>0</td>\n",
       "      <td>87</td>\n",
       "      <td>38923.0</td>\n",
       "      <td>0</td>\n",
       "      <td>1</td>\n",
       "      <td>0</td>\n",
       "      <td>0</td>\n",
       "      <td>0</td>\n",
       "      <td>0</td>\n",
       "      <td>6283.888333</td>\n",
       "      <td>...</td>\n",
       "      <td>21701.18195</td>\n",
       "      <td>22090.94758</td>\n",
       "      <td>0</td>\n",
       "      <td>0</td>\n",
       "      <td>1</td>\n",
       "      <td>0</td>\n",
       "      <td>0</td>\n",
       "      <td>0</td>\n",
       "      <td>0</td>\n",
       "      <td>0</td>\n",
       "    </tr>\n",
       "    <tr>\n",
       "      <th>3</th>\n",
       "      <td>1</td>\n",
       "      <td>58</td>\n",
       "      <td>40605.0</td>\n",
       "      <td>1</td>\n",
       "      <td>0</td>\n",
       "      <td>3</td>\n",
       "      <td>0</td>\n",
       "      <td>99</td>\n",
       "      <td>1</td>\n",
       "      <td>6169.747994</td>\n",
       "      <td>...</td>\n",
       "      <td>13198.27344</td>\n",
       "      <td>38329.58106</td>\n",
       "      <td>0</td>\n",
       "      <td>0</td>\n",
       "      <td>1</td>\n",
       "      <td>0</td>\n",
       "      <td>0</td>\n",
       "      <td>0</td>\n",
       "      <td>0</td>\n",
       "      <td>1</td>\n",
       "    </tr>\n",
       "    <tr>\n",
       "      <th>4</th>\n",
       "      <td>1</td>\n",
       "      <td>95</td>\n",
       "      <td>36380.0</td>\n",
       "      <td>1</td>\n",
       "      <td>0</td>\n",
       "      <td>0</td>\n",
       "      <td>1</td>\n",
       "      <td>7</td>\n",
       "      <td>0</td>\n",
       "      <td>4541.387150</td>\n",
       "      <td>...</td>\n",
       "      <td>38060.21122</td>\n",
       "      <td>25876.56319</td>\n",
       "      <td>1</td>\n",
       "      <td>1</td>\n",
       "      <td>0</td>\n",
       "      <td>0</td>\n",
       "      <td>0</td>\n",
       "      <td>0</td>\n",
       "      <td>0</td>\n",
       "      <td>1</td>\n",
       "    </tr>\n",
       "  </tbody>\n",
       "</table>\n",
       "<p>5 rows × 21 columns</p>\n",
       "</div>"
      ],
      "text/plain": [
       "   marital_status  safty_rating  annual_income  high_education_ind  \\\n",
       "0               1            85        38301.0                   1   \n",
       "1               0            75        30445.0                   0   \n",
       "2               0            87        38923.0                   0   \n",
       "3               1            58        40605.0                   1   \n",
       "4               1            95        36380.0                   1   \n",
       "\n",
       "   address_change_ind  past_num_of_claims  witness_present_ind  liab_prct  \\\n",
       "0                   1                   1                    0         74   \n",
       "1                   1                   1                    1         79   \n",
       "2                   1                   0                    0          0   \n",
       "3                   0                   3                    0         99   \n",
       "4                   0                   0                    1          7   \n",
       "\n",
       "   policy_report_filed_ind  claim_est_payout  ...  vehicle_price  \\\n",
       "0                        0       7530.940993  ...    12885.45235   \n",
       "1                        0       2966.024895  ...    29429.45218   \n",
       "2                        0       6283.888333  ...    21701.18195   \n",
       "3                        1       6169.747994  ...    13198.27344   \n",
       "4                        0       4541.387150  ...    38060.21122   \n",
       "\n",
       "   vehicle_weight  gender_M  living_status_Rent  accident_site_Local  \\\n",
       "0     16161.33381         1                   1                    1   \n",
       "1     28691.96422         0                   1                    0   \n",
       "2     22090.94758         0                   0                    1   \n",
       "3     38329.58106         0                   0                    1   \n",
       "4     25876.56319         1                   1                    0   \n",
       "\n",
       "   accident_site_Parking Lot  channel_Online  channel_Phone  \\\n",
       "0                          0               0              0   \n",
       "1                          0               1              0   \n",
       "2                          0               0              0   \n",
       "3                          0               0              0   \n",
       "4                          0               0              0   \n",
       "\n",
       "   vehicle_category_Large  vehicle_category_Medium  \n",
       "0                       0                        0  \n",
       "1                       1                        0  \n",
       "2                       0                        0  \n",
       "3                       0                        1  \n",
       "4                       0                        1  \n",
       "\n",
       "[5 rows x 21 columns]"
      ]
     },
     "execution_count": 33,
     "metadata": {},
     "output_type": "execute_result"
    }
   ],
   "source": [
    "X.head()"
   ]
  },
  {
   "cell_type": "code",
   "execution_count": 34,
   "id": "033266db",
   "metadata": {
    "execution": {
     "iopub.execute_input": "2021-12-26T04:43:20.571552Z",
     "iopub.status.busy": "2021-12-26T04:43:20.567860Z",
     "iopub.status.idle": "2021-12-26T04:43:20.583864Z",
     "shell.execute_reply": "2021-12-26T04:43:20.584623Z",
     "shell.execute_reply.started": "2021-12-26T04:34:31.214394Z"
    },
    "papermill": {
     "duration": 0.150009,
     "end_time": "2021-12-26T04:43:20.584880",
     "exception": false,
     "start_time": "2021-12-26T04:43:20.434871",
     "status": "completed"
    },
    "tags": []
   },
   "outputs": [
    {
     "name": "stdout",
     "output_type": "stream",
     "text": [
      "<class 'pandas.core.frame.DataFrame'>\n",
      "Int64Index: 17311 entries, 0 to 17997\n",
      "Data columns (total 21 columns):\n",
      " #   Column                     Non-Null Count  Dtype  \n",
      "---  ------                     --------------  -----  \n",
      " 0   marital_status             17311 non-null  int64  \n",
      " 1   safty_rating               17311 non-null  int64  \n",
      " 2   annual_income              17311 non-null  float64\n",
      " 3   high_education_ind         17311 non-null  int64  \n",
      " 4   address_change_ind         17311 non-null  int64  \n",
      " 5   past_num_of_claims         17311 non-null  int64  \n",
      " 6   witness_present_ind        17311 non-null  int64  \n",
      " 7   liab_prct                  17311 non-null  int64  \n",
      " 8   policy_report_filed_ind    17311 non-null  int64  \n",
      " 9   claim_est_payout           17311 non-null  float64\n",
      " 10  age_of_vehicle             17311 non-null  float64\n",
      " 11  vehicle_price              17311 non-null  float64\n",
      " 12  vehicle_weight             17311 non-null  float64\n",
      " 13  gender_M                   17311 non-null  uint8  \n",
      " 14  living_status_Rent         17311 non-null  uint8  \n",
      " 15  accident_site_Local        17311 non-null  uint8  \n",
      " 16  accident_site_Parking Lot  17311 non-null  uint8  \n",
      " 17  channel_Online             17311 non-null  uint8  \n",
      " 18  channel_Phone              17311 non-null  uint8  \n",
      " 19  vehicle_category_Large     17311 non-null  uint8  \n",
      " 20  vehicle_category_Medium    17311 non-null  uint8  \n",
      "dtypes: float64(5), int64(8), uint8(8)\n",
      "memory usage: 2.0 MB\n"
     ]
    }
   ],
   "source": [
    "X.info()"
   ]
  },
  {
   "cell_type": "code",
   "execution_count": 35,
   "id": "e10e7532",
   "metadata": {
    "execution": {
     "iopub.execute_input": "2021-12-26T04:43:20.852596Z",
     "iopub.status.busy": "2021-12-26T04:43:20.851907Z",
     "iopub.status.idle": "2021-12-26T04:43:21.057928Z",
     "shell.execute_reply": "2021-12-26T04:43:21.058511Z",
     "shell.execute_reply.started": "2021-12-26T04:34:31.233060Z"
    },
    "papermill": {
     "duration": 0.342268,
     "end_time": "2021-12-26T04:43:21.058730",
     "exception": false,
     "start_time": "2021-12-26T04:43:20.716462",
     "status": "completed"
    },
    "tags": []
   },
   "outputs": [
    {
     "name": "stdout",
     "output_type": "stream",
     "text": [
      "(12117, 21)\n",
      "(12117,)\n",
      "(5194, 21)\n",
      "(5194,)\n"
     ]
    }
   ],
   "source": [
    "#Split data into train to model and test to evaluate\n",
    "from sklearn.model_selection import train_test_split\n",
    "\n",
    "X_train, X_test, y_train, y_test = train_test_split(X, y, test_size = 0.30, random_state = 123)\n",
    "print(X_train.shape)\n",
    "print(y_train.shape)\n",
    "print(X_test.shape)\n",
    "print(y_test.shape)"
   ]
  },
  {
   "cell_type": "code",
   "execution_count": 36,
   "id": "82ff82f6",
   "metadata": {
    "execution": {
     "iopub.execute_input": "2021-12-26T04:43:21.331066Z",
     "iopub.status.busy": "2021-12-26T04:43:21.330317Z",
     "iopub.status.idle": "2021-12-26T04:43:21.345105Z",
     "shell.execute_reply": "2021-12-26T04:43:21.345693Z",
     "shell.execute_reply.started": "2021-12-26T04:34:31.426572Z"
    },
    "papermill": {
     "duration": 0.154285,
     "end_time": "2021-12-26T04:43:21.345888",
     "exception": false,
     "start_time": "2021-12-26T04:43:21.191603",
     "status": "completed"
    },
    "tags": []
   },
   "outputs": [],
   "source": [
    "#Scaling data by standardization to deal with high variance\n",
    "\n",
    "from sklearn.preprocessing import StandardScaler\n",
    "\n",
    "sc = StandardScaler()\n",
    "X_train = sc.fit_transform(X_train)\n",
    "X_test = sc.transform(X_test)"
   ]
  },
  {
   "cell_type": "code",
   "execution_count": 37,
   "id": "6e188272",
   "metadata": {
    "execution": {
     "iopub.execute_input": "2021-12-26T04:43:21.608764Z",
     "iopub.status.busy": "2021-12-26T04:43:21.608065Z",
     "iopub.status.idle": "2021-12-26T04:43:22.113242Z",
     "shell.execute_reply": "2021-12-26T04:43:22.113793Z",
     "shell.execute_reply.started": "2021-12-26T04:34:31.449657Z"
    },
    "papermill": {
     "duration": 0.638564,
     "end_time": "2021-12-26T04:43:22.113964",
     "exception": false,
     "start_time": "2021-12-26T04:43:21.475400",
     "status": "completed"
    },
    "tags": []
   },
   "outputs": [
    {
     "name": "stdout",
     "output_type": "stream",
     "text": [
      "Counter({'1': 10321, '0': 10321})\n"
     ]
    }
   ],
   "source": [
    "# example of random oversampling to balance the class distribution\n",
    "from collections import Counter\n",
    "from sklearn.datasets import make_classification\n",
    "from imblearn.over_sampling import RandomOverSampler\n",
    "# define oversampling strategy\n",
    "oversample = RandomOverSampler(sampling_strategy='minority',random_state=123)\n",
    "# fit and apply the transform\n",
    "X_train, y_train = oversample.fit_resample(X_train, y_train)\n",
    "# summarize class distribution\n",
    "print(Counter(y_train))"
   ]
  },
  {
   "cell_type": "markdown",
   "id": "9ef6db19",
   "metadata": {
    "papermill": {
     "duration": 0.127946,
     "end_time": "2021-12-26T04:43:22.370454",
     "exception": false,
     "start_time": "2021-12-26T04:43:22.242508",
     "status": "completed"
    },
    "tags": []
   },
   "source": [
    "# Model 1 - Logistic Regression Model"
   ]
  },
  {
   "cell_type": "code",
   "execution_count": 38,
   "id": "ef91ad83",
   "metadata": {
    "execution": {
     "iopub.execute_input": "2021-12-26T04:43:22.632082Z",
     "iopub.status.busy": "2021-12-26T04:43:22.631378Z",
     "iopub.status.idle": "2021-12-26T04:43:22.767028Z",
     "shell.execute_reply": "2021-12-26T04:43:22.767919Z",
     "shell.execute_reply.started": "2021-12-26T04:34:31.913626Z"
    },
    "papermill": {
     "duration": 0.269181,
     "end_time": "2021-12-26T04:43:22.768231",
     "exception": false,
     "start_time": "2021-12-26T04:43:22.499050",
     "status": "completed"
    },
    "tags": []
   },
   "outputs": [
    {
     "data": {
      "text/plain": [
       "LogisticRegression()"
      ]
     },
     "execution_count": 38,
     "metadata": {},
     "output_type": "execute_result"
    }
   ],
   "source": [
    "from sklearn.linear_model import LogisticRegression\n",
    "\n",
    "log_reg = LogisticRegression()\n",
    "log_reg.fit(X_train, y_train)"
   ]
  },
  {
   "cell_type": "code",
   "execution_count": 39,
   "id": "c7ee12ec",
   "metadata": {
    "execution": {
     "iopub.execute_input": "2021-12-26T04:43:23.091276Z",
     "iopub.status.busy": "2021-12-26T04:43:23.090027Z",
     "iopub.status.idle": "2021-12-26T04:43:23.096028Z",
     "shell.execute_reply": "2021-12-26T04:43:23.096597Z",
     "shell.execute_reply.started": "2021-12-26T04:34:32.007056Z"
    },
    "papermill": {
     "duration": 0.145413,
     "end_time": "2021-12-26T04:43:23.096886",
     "exception": false,
     "start_time": "2021-12-26T04:43:22.951473",
     "status": "completed"
    },
    "tags": []
   },
   "outputs": [],
   "source": [
    "# model predictions\n",
    "\n",
    "y_pred = log_reg.predict(X_test)"
   ]
  },
  {
   "cell_type": "code",
   "execution_count": 40,
   "id": "ecbf2cd5",
   "metadata": {
    "execution": {
     "iopub.execute_input": "2021-12-26T04:43:23.429064Z",
     "iopub.status.busy": "2021-12-26T04:43:23.427602Z",
     "iopub.status.idle": "2021-12-26T04:43:24.002713Z",
     "shell.execute_reply": "2021-12-26T04:43:24.002028Z",
     "shell.execute_reply.started": "2021-12-26T04:34:32.018323Z"
    },
    "papermill": {
     "duration": 0.71373,
     "end_time": "2021-12-26T04:43:24.002867",
     "exception": false,
     "start_time": "2021-12-26T04:43:23.289137",
     "status": "completed"
    },
    "tags": []
   },
   "outputs": [
    {
     "name": "stdout",
     "output_type": "stream",
     "text": [
      "0.6464083084912011\n",
      "0.3692098092643052\n"
     ]
    }
   ],
   "source": [
    "from sklearn.metrics import accuracy_score, confusion_matrix, classification_report,f1_score\n",
    "#F1 score\n",
    "print(f1_score(y_train, log_reg.predict(X_train),pos_label='1'))\n",
    "log_reg_f1 = f1_score(y_test, log_reg.predict(X_test),pos_label='1')\n",
    "print(log_reg_f1)"
   ]
  },
  {
   "cell_type": "code",
   "execution_count": 41,
   "id": "8327f650",
   "metadata": {
    "execution": {
     "iopub.execute_input": "2021-12-26T04:43:24.316782Z",
     "iopub.status.busy": "2021-12-26T04:43:24.296981Z",
     "iopub.status.idle": "2021-12-26T04:43:24.322366Z",
     "shell.execute_reply": "2021-12-26T04:43:24.322909Z",
     "shell.execute_reply.started": "2021-12-26T04:34:32.375070Z"
    },
    "papermill": {
     "duration": 0.186791,
     "end_time": "2021-12-26T04:43:24.323102",
     "exception": false,
     "start_time": "2021-12-26T04:43:24.136311",
     "status": "completed"
    },
    "tags": []
   },
   "outputs": [
    {
     "name": "stdout",
     "output_type": "stream",
     "text": [
      "[[2800 1510]\n",
      " [ 342  542]]\n"
     ]
    }
   ],
   "source": [
    "# confusion matrix\n",
    "\n",
    "print(confusion_matrix(y_test, y_pred))"
   ]
  },
  {
   "cell_type": "code",
   "execution_count": 42,
   "id": "d37ed808",
   "metadata": {
    "execution": {
     "iopub.execute_input": "2021-12-26T04:43:24.590733Z",
     "iopub.status.busy": "2021-12-26T04:43:24.590033Z",
     "iopub.status.idle": "2021-12-26T04:43:24.958340Z",
     "shell.execute_reply": "2021-12-26T04:43:24.957712Z",
     "shell.execute_reply.started": "2021-12-26T04:34:32.424749Z"
    },
    "papermill": {
     "duration": 0.503977,
     "end_time": "2021-12-26T04:43:24.958492",
     "exception": false,
     "start_time": "2021-12-26T04:43:24.454515",
     "status": "completed"
    },
    "tags": []
   },
   "outputs": [
    {
     "name": "stdout",
     "output_type": "stream",
     "text": [
      "              precision    recall  f1-score   support\n",
      "\n",
      "           0       0.89      0.65      0.75      4310\n",
      "           1       0.26      0.61      0.37       884\n",
      "\n",
      "    accuracy                           0.64      5194\n",
      "   macro avg       0.58      0.63      0.56      5194\n",
      "weighted avg       0.78      0.64      0.69      5194\n",
      "\n"
     ]
    }
   ],
   "source": [
    "# classification report\n",
    "\n",
    "print(classification_report(y_test, y_pred))"
   ]
  },
  {
   "cell_type": "markdown",
   "id": "b0312b87",
   "metadata": {
    "papermill": {
     "duration": 0.131221,
     "end_time": "2021-12-26T04:43:25.222258",
     "exception": false,
     "start_time": "2021-12-26T04:43:25.091037",
     "status": "completed"
    },
    "tags": []
   },
   "source": [
    "# Model 2 - K-Nearest Neighbors"
   ]
  },
  {
   "cell_type": "code",
   "execution_count": 43,
   "id": "6bb9bff7",
   "metadata": {
    "execution": {
     "iopub.execute_input": "2021-12-26T04:43:25.489042Z",
     "iopub.status.busy": "2021-12-26T04:43:25.488072Z",
     "iopub.status.idle": "2021-12-26T04:43:25.646907Z",
     "shell.execute_reply": "2021-12-26T04:43:25.646219Z",
     "shell.execute_reply.started": "2021-12-26T04:34:32.613787Z"
    },
    "papermill": {
     "duration": 0.29477,
     "end_time": "2021-12-26T04:43:25.647054",
     "exception": false,
     "start_time": "2021-12-26T04:43:25.352284",
     "status": "completed"
    },
    "tags": []
   },
   "outputs": [
    {
     "data": {
      "text/plain": [
       "KNeighborsClassifier()"
      ]
     },
     "execution_count": 43,
     "metadata": {},
     "output_type": "execute_result"
    }
   ],
   "source": [
    "from sklearn.neighbors import KNeighborsClassifier\n",
    "\n",
    "knn = KNeighborsClassifier()\n",
    "knn.fit(X_train, y_train)"
   ]
  },
  {
   "cell_type": "code",
   "execution_count": 44,
   "id": "4bffbc83",
   "metadata": {
    "execution": {
     "iopub.execute_input": "2021-12-26T04:43:25.915445Z",
     "iopub.status.busy": "2021-12-26T04:43:25.914485Z",
     "iopub.status.idle": "2021-12-26T04:43:32.223984Z",
     "shell.execute_reply": "2021-12-26T04:43:32.223254Z",
     "shell.execute_reply.started": "2021-12-26T04:34:32.728909Z"
    },
    "papermill": {
     "duration": 6.446082,
     "end_time": "2021-12-26T04:43:32.224142",
     "exception": false,
     "start_time": "2021-12-26T04:43:25.778060",
     "status": "completed"
    },
    "tags": []
   },
   "outputs": [],
   "source": [
    "# model predictions \n",
    "\n",
    "y_pred = knn.predict(X_test)"
   ]
  },
  {
   "cell_type": "code",
   "execution_count": 45,
   "id": "075010f1",
   "metadata": {
    "execution": {
     "iopub.execute_input": "2021-12-26T04:43:32.498514Z",
     "iopub.status.busy": "2021-12-26T04:43:32.497826Z",
     "iopub.status.idle": "2021-12-26T04:43:54.450275Z",
     "shell.execute_reply": "2021-12-26T04:43:54.450812Z",
     "shell.execute_reply.started": "2021-12-26T04:34:38.636243Z"
    },
    "papermill": {
     "duration": 22.0903,
     "end_time": "2021-12-26T04:43:54.451005",
     "exception": false,
     "start_time": "2021-12-26T04:43:32.360705",
     "status": "completed"
    },
    "tags": []
   },
   "outputs": [
    {
     "name": "stdout",
     "output_type": "stream",
     "text": [
      "0.8907738483622601\n",
      "0.28700564971751413\n"
     ]
    }
   ],
   "source": [
    "#F1 score\n",
    "print(f1_score(y_train, knn.predict(X_train),pos_label='1'))\n",
    "knn_f1 = f1_score(y_test, knn.predict(X_test),pos_label='1')\n",
    "print(knn_f1)"
   ]
  },
  {
   "cell_type": "code",
   "execution_count": 46,
   "id": "af906bdd",
   "metadata": {
    "execution": {
     "iopub.execute_input": "2021-12-26T04:43:54.718290Z",
     "iopub.status.busy": "2021-12-26T04:43:54.717528Z",
     "iopub.status.idle": "2021-12-26T04:43:54.765909Z",
     "shell.execute_reply": "2021-12-26T04:43:54.766686Z",
     "shell.execute_reply.started": "2021-12-26T04:34:59.518583Z"
    },
    "papermill": {
     "duration": 0.183452,
     "end_time": "2021-12-26T04:43:54.766956",
     "exception": false,
     "start_time": "2021-12-26T04:43:54.583504",
     "status": "completed"
    },
    "tags": []
   },
   "outputs": [
    {
     "name": "stdout",
     "output_type": "stream",
     "text": [
      "[[2920 1390]\n",
      " [ 503  381]]\n"
     ]
    }
   ],
   "source": [
    "# confusion matrix\n",
    "\n",
    "print(confusion_matrix(y_test, y_pred))"
   ]
  },
  {
   "cell_type": "code",
   "execution_count": 47,
   "id": "6f6216d7",
   "metadata": {
    "execution": {
     "iopub.execute_input": "2021-12-26T04:43:55.036939Z",
     "iopub.status.busy": "2021-12-26T04:43:55.036139Z",
     "iopub.status.idle": "2021-12-26T04:43:55.397055Z",
     "shell.execute_reply": "2021-12-26T04:43:55.396444Z",
     "shell.execute_reply.started": "2021-12-26T04:34:59.550477Z"
    },
    "papermill": {
     "duration": 0.49634,
     "end_time": "2021-12-26T04:43:55.397219",
     "exception": false,
     "start_time": "2021-12-26T04:43:54.900879",
     "status": "completed"
    },
    "tags": []
   },
   "outputs": [
    {
     "name": "stdout",
     "output_type": "stream",
     "text": [
      "              precision    recall  f1-score   support\n",
      "\n",
      "           0       0.85      0.68      0.76      4310\n",
      "           1       0.22      0.43      0.29       884\n",
      "\n",
      "    accuracy                           0.64      5194\n",
      "   macro avg       0.53      0.55      0.52      5194\n",
      "weighted avg       0.74      0.64      0.68      5194\n",
      "\n"
     ]
    }
   ],
   "source": [
    "# classification report\n",
    "\n",
    "print(classification_report(y_test, y_pred))"
   ]
  },
  {
   "cell_type": "markdown",
   "id": "cfbe9c89",
   "metadata": {
    "papermill": {
     "duration": 0.133331,
     "end_time": "2021-12-26T04:43:55.663461",
     "exception": false,
     "start_time": "2021-12-26T04:43:55.530130",
     "status": "completed"
    },
    "tags": []
   },
   "source": [
    "# Model 3 - Support Vector Machine"
   ]
  },
  {
   "cell_type": "code",
   "execution_count": 48,
   "id": "bcc7a2a1",
   "metadata": {
    "execution": {
     "iopub.execute_input": "2021-12-26T04:43:55.935252Z",
     "iopub.status.busy": "2021-12-26T04:43:55.934516Z",
     "iopub.status.idle": "2021-12-26T04:43:55.937534Z",
     "shell.execute_reply": "2021-12-26T04:43:55.937023Z",
     "shell.execute_reply.started": "2021-12-26T04:34:59.740787Z"
    },
    "papermill": {
     "duration": 0.140894,
     "end_time": "2021-12-26T04:43:55.937699",
     "exception": false,
     "start_time": "2021-12-26T04:43:55.796805",
     "status": "completed"
    },
    "tags": []
   },
   "outputs": [],
   "source": [
    "from sklearn.svm import SVC\n",
    "from sklearn.model_selection import GridSearchCV\n",
    "\n",
    "#svc = SVC()\n",
    "#parameters = {\n",
    "#    'gamma' : [0.001],\n",
    "#    'C' : [0.5]\n",
    "#}\n",
    "\n",
    "#grid_search = GridSearchCV(svc, parameters)\n",
    "#grid_search.fit(X_train, y_train)\n",
    "\n",
    "#parameters = {\n",
    "#    'gamma' : [0.0001, 0.001, 0.01, 0.1],\n",
    "#    'C' : [0.01, 0.05, 0.5, 0.1, 1, 10, 15, 20]\n",
    "#}\n",
    "# Remove to run faster after knowing the best parameter"
   ]
  },
  {
   "cell_type": "code",
   "execution_count": 49,
   "id": "bcc14ebf",
   "metadata": {
    "execution": {
     "iopub.execute_input": "2021-12-26T04:43:56.208098Z",
     "iopub.status.busy": "2021-12-26T04:43:56.207371Z",
     "iopub.status.idle": "2021-12-26T04:43:56.210612Z",
     "shell.execute_reply": "2021-12-26T04:43:56.210084Z",
     "shell.execute_reply.started": "2021-12-26T04:34:59.746487Z"
    },
    "papermill": {
     "duration": 0.139975,
     "end_time": "2021-12-26T04:43:56.210773",
     "exception": false,
     "start_time": "2021-12-26T04:43:56.070798",
     "status": "completed"
    },
    "tags": []
   },
   "outputs": [],
   "source": [
    "# best parameters\n",
    "\n",
    "# grid_search.best_params_"
   ]
  },
  {
   "cell_type": "code",
   "execution_count": 50,
   "id": "a927f084",
   "metadata": {
    "execution": {
     "iopub.execute_input": "2021-12-26T04:43:56.478066Z",
     "iopub.status.busy": "2021-12-26T04:43:56.477407Z",
     "iopub.status.idle": "2021-12-26T04:43:56.480380Z",
     "shell.execute_reply": "2021-12-26T04:43:56.479868Z",
     "shell.execute_reply.started": "2021-12-26T04:34:59.760443Z"
    },
    "papermill": {
     "duration": 0.138053,
     "end_time": "2021-12-26T04:43:56.480518",
     "exception": false,
     "start_time": "2021-12-26T04:43:56.342465",
     "status": "completed"
    },
    "tags": []
   },
   "outputs": [],
   "source": [
    "# best accuracy \n",
    "\n",
    "# grid_search.best_score_"
   ]
  },
  {
   "cell_type": "code",
   "execution_count": 51,
   "id": "f9d28cc9",
   "metadata": {
    "execution": {
     "iopub.execute_input": "2021-12-26T04:43:56.751699Z",
     "iopub.status.busy": "2021-12-26T04:43:56.750984Z",
     "iopub.status.idle": "2021-12-26T04:44:17.183135Z",
     "shell.execute_reply": "2021-12-26T04:44:17.183673Z",
     "shell.execute_reply.started": "2021-12-26T04:34:59.772005Z"
    },
    "papermill": {
     "duration": 20.570583,
     "end_time": "2021-12-26T04:44:17.183868",
     "exception": false,
     "start_time": "2021-12-26T04:43:56.613285",
     "status": "completed"
    },
    "tags": []
   },
   "outputs": [
    {
     "data": {
      "text/plain": [
       "SVC(C=0.5, gamma=0.001)"
      ]
     },
     "execution_count": 51,
     "metadata": {},
     "output_type": "execute_result"
    }
   ],
   "source": [
    "svc = SVC(C = 0.5, gamma = 0.001)\n",
    "svc.fit(X_train, y_train)"
   ]
  },
  {
   "cell_type": "code",
   "execution_count": 52,
   "id": "9c911a25",
   "metadata": {
    "execution": {
     "iopub.execute_input": "2021-12-26T04:44:17.455738Z",
     "iopub.status.busy": "2021-12-26T04:44:17.454992Z",
     "iopub.status.idle": "2021-12-26T04:44:20.641728Z",
     "shell.execute_reply": "2021-12-26T04:44:20.642223Z",
     "shell.execute_reply.started": "2021-12-26T04:35:20.780654Z"
    },
    "papermill": {
     "duration": 3.32379,
     "end_time": "2021-12-26T04:44:20.642407",
     "exception": false,
     "start_time": "2021-12-26T04:44:17.318617",
     "status": "completed"
    },
    "tags": []
   },
   "outputs": [],
   "source": [
    "# model predictions \n",
    "\n",
    "y_pred = svc.predict(X_test)"
   ]
  },
  {
   "cell_type": "code",
   "execution_count": 53,
   "id": "2aa04d49",
   "metadata": {
    "execution": {
     "iopub.execute_input": "2021-12-26T04:44:20.914636Z",
     "iopub.status.busy": "2021-12-26T04:44:20.914000Z",
     "iopub.status.idle": "2021-12-26T04:44:37.297251Z",
     "shell.execute_reply": "2021-12-26T04:44:37.296504Z",
     "shell.execute_reply.started": "2021-12-26T04:35:23.952302Z"
    },
    "papermill": {
     "duration": 16.520047,
     "end_time": "2021-12-26T04:44:37.297426",
     "exception": false,
     "start_time": "2021-12-26T04:44:20.777379",
     "status": "completed"
    },
    "tags": []
   },
   "outputs": [
    {
     "name": "stdout",
     "output_type": "stream",
     "text": [
      "0.6534297735545785\n",
      "0.3681427627230668\n"
     ]
    }
   ],
   "source": [
    "#F1 score\n",
    "print(f1_score(y_train, svc.predict(X_train),pos_label='1'))\n",
    "svc_f1 = f1_score(y_test, svc.predict(X_test),pos_label='1')\n",
    "print(svc_f1)"
   ]
  },
  {
   "cell_type": "code",
   "execution_count": 54,
   "id": "df58b000",
   "metadata": {
    "execution": {
     "iopub.execute_input": "2021-12-26T04:44:37.577863Z",
     "iopub.status.busy": "2021-12-26T04:44:37.576782Z",
     "iopub.status.idle": "2021-12-26T04:44:37.628492Z",
     "shell.execute_reply": "2021-12-26T04:44:37.627494Z",
     "shell.execute_reply.started": "2021-12-26T04:35:39.980000Z"
    },
    "papermill": {
     "duration": 0.194219,
     "end_time": "2021-12-26T04:44:37.628741",
     "exception": false,
     "start_time": "2021-12-26T04:44:37.434522",
     "status": "completed"
    },
    "tags": []
   },
   "outputs": [
    {
     "name": "stdout",
     "output_type": "stream",
     "text": [
      "[[2725 1585]\n",
      " [ 327  557]]\n"
     ]
    }
   ],
   "source": [
    "# confusion matrix\n",
    "\n",
    "print(confusion_matrix(y_test, y_pred))"
   ]
  },
  {
   "cell_type": "code",
   "execution_count": 55,
   "id": "5f3e3bba",
   "metadata": {
    "execution": {
     "iopub.execute_input": "2021-12-26T04:44:37.902220Z",
     "iopub.status.busy": "2021-12-26T04:44:37.901496Z",
     "iopub.status.idle": "2021-12-26T04:44:38.270756Z",
     "shell.execute_reply": "2021-12-26T04:44:38.271732Z",
     "shell.execute_reply.started": "2021-12-26T04:35:40.011385Z"
    },
    "papermill": {
     "duration": 0.506326,
     "end_time": "2021-12-26T04:44:38.272064",
     "exception": false,
     "start_time": "2021-12-26T04:44:37.765738",
     "status": "completed"
    },
    "tags": []
   },
   "outputs": [
    {
     "name": "stdout",
     "output_type": "stream",
     "text": [
      "              precision    recall  f1-score   support\n",
      "\n",
      "           0       0.89      0.63      0.74      4310\n",
      "           1       0.26      0.63      0.37       884\n",
      "\n",
      "    accuracy                           0.63      5194\n",
      "   macro avg       0.58      0.63      0.55      5194\n",
      "weighted avg       0.79      0.63      0.68      5194\n",
      "\n"
     ]
    }
   ],
   "source": [
    "# classification report\n",
    "\n",
    "print(classification_report(y_test, y_pred))"
   ]
  },
  {
   "cell_type": "markdown",
   "id": "64242cae",
   "metadata": {
    "papermill": {
     "duration": 0.134505,
     "end_time": "2021-12-26T04:44:38.541557",
     "exception": false,
     "start_time": "2021-12-26T04:44:38.407052",
     "status": "completed"
    },
    "tags": []
   },
   "source": [
    "# Model 4 - Stochastic Gradient Descent"
   ]
  },
  {
   "cell_type": "code",
   "execution_count": 56,
   "id": "2d724fe2",
   "metadata": {
    "execution": {
     "iopub.execute_input": "2021-12-26T04:44:38.818906Z",
     "iopub.status.busy": "2021-12-26T04:44:38.818227Z",
     "iopub.status.idle": "2021-12-26T04:44:38.821445Z",
     "shell.execute_reply": "2021-12-26T04:44:38.820928Z",
     "shell.execute_reply.started": "2021-12-26T04:35:40.210070Z"
    },
    "papermill": {
     "duration": 0.142162,
     "end_time": "2021-12-26T04:44:38.821589",
     "exception": false,
     "start_time": "2021-12-26T04:44:38.679427",
     "status": "completed"
    },
    "tags": []
   },
   "outputs": [],
   "source": [
    "from sklearn.linear_model import SGDClassifier\n",
    "\n",
    "#sgd = SGDClassifier()\n",
    "#parameters = {\n",
    "#    'alpha' : [0.01],\n",
    "#    'loss' : ['hinge'],\n",
    "#    'penalty' : ['l2']\n",
    "#}\n",
    "\n",
    "#grid_search = GridSearchCV(sgd, parameters, cv = 10, n_jobs = -1)\n",
    "#grid_search.fit(X_train, y_train)\n",
    "\n",
    "#parameters = {\n",
    "#    'alpha' : [0.0001, 0.001, 0.01, 0.1, 1],\n",
    "#    'loss' : ['hinge', 'log'],\n",
    "#    'penalty' : ['l1', 'l2']\n",
    "#}\n",
    "# Remove to run faster after knowing the best parameter"
   ]
  },
  {
   "cell_type": "code",
   "execution_count": 57,
   "id": "7470da21",
   "metadata": {
    "execution": {
     "iopub.execute_input": "2021-12-26T04:44:39.093912Z",
     "iopub.status.busy": "2021-12-26T04:44:39.093212Z",
     "iopub.status.idle": "2021-12-26T04:44:39.096664Z",
     "shell.execute_reply": "2021-12-26T04:44:39.097258Z",
     "shell.execute_reply.started": "2021-12-26T04:35:40.218333Z"
    },
    "papermill": {
     "duration": 0.140386,
     "end_time": "2021-12-26T04:44:39.097435",
     "exception": false,
     "start_time": "2021-12-26T04:44:38.957049",
     "status": "completed"
    },
    "tags": []
   },
   "outputs": [],
   "source": [
    "# best parameter \n",
    "\n",
    "# grid_search.best_params_"
   ]
  },
  {
   "cell_type": "code",
   "execution_count": 58,
   "id": "44acf97b",
   "metadata": {
    "execution": {
     "iopub.execute_input": "2021-12-26T04:44:39.372447Z",
     "iopub.status.busy": "2021-12-26T04:44:39.371795Z",
     "iopub.status.idle": "2021-12-26T04:44:39.439700Z",
     "shell.execute_reply": "2021-12-26T04:44:39.438961Z",
     "shell.execute_reply.started": "2021-12-26T04:35:40.230208Z"
    },
    "papermill": {
     "duration": 0.206161,
     "end_time": "2021-12-26T04:44:39.439845",
     "exception": false,
     "start_time": "2021-12-26T04:44:39.233684",
     "status": "completed"
    },
    "tags": []
   },
   "outputs": [
    {
     "data": {
      "text/plain": [
       "SGDClassifier(alpha=0.05)"
      ]
     },
     "execution_count": 58,
     "metadata": {},
     "output_type": "execute_result"
    }
   ],
   "source": [
    "sgd = SGDClassifier(alpha = 0.05, loss = 'hinge', penalty = 'l2')\n",
    "sgd.fit(X_train, y_train)"
   ]
  },
  {
   "cell_type": "code",
   "execution_count": 59,
   "id": "0cb3f580",
   "metadata": {
    "execution": {
     "iopub.execute_input": "2021-12-26T04:44:39.718710Z",
     "iopub.status.busy": "2021-12-26T04:44:39.717224Z",
     "iopub.status.idle": "2021-12-26T04:44:39.722523Z",
     "shell.execute_reply": "2021-12-26T04:44:39.723381Z",
     "shell.execute_reply.started": "2021-12-26T04:35:40.288482Z"
    },
    "papermill": {
     "duration": 0.148791,
     "end_time": "2021-12-26T04:44:39.723719",
     "exception": false,
     "start_time": "2021-12-26T04:44:39.574928",
     "status": "completed"
    },
    "tags": []
   },
   "outputs": [],
   "source": [
    "# model predictions \n",
    "\n",
    "y_pred = sgd.predict(X_test)"
   ]
  },
  {
   "cell_type": "code",
   "execution_count": 60,
   "id": "059195e0",
   "metadata": {
    "execution": {
     "iopub.execute_input": "2021-12-26T04:44:40.048326Z",
     "iopub.status.busy": "2021-12-26T04:44:40.047148Z",
     "iopub.status.idle": "2021-12-26T04:44:40.487448Z",
     "shell.execute_reply": "2021-12-26T04:44:40.488290Z",
     "shell.execute_reply.started": "2021-12-26T04:35:40.299889Z"
    },
    "papermill": {
     "duration": 0.579133,
     "end_time": "2021-12-26T04:44:40.488599",
     "exception": false,
     "start_time": "2021-12-26T04:44:39.909466",
     "status": "completed"
    },
    "tags": []
   },
   "outputs": [
    {
     "name": "stdout",
     "output_type": "stream",
     "text": [
      "0.6549342416501089\n",
      "0.36909871244635195\n"
     ]
    }
   ],
   "source": [
    "#F1 score\n",
    "print(f1_score(y_train, sgd.predict(X_train),pos_label='1'))\n",
    "sgd_f1 = f1_score(y_test, sgd.predict(X_test),pos_label='1')\n",
    "print(sgd_f1)"
   ]
  },
  {
   "cell_type": "code",
   "execution_count": 61,
   "id": "f59ca92f",
   "metadata": {
    "execution": {
     "iopub.execute_input": "2021-12-26T04:44:40.809586Z",
     "iopub.status.busy": "2021-12-26T04:44:40.799527Z",
     "iopub.status.idle": "2021-12-26T04:44:40.837833Z",
     "shell.execute_reply": "2021-12-26T04:44:40.838376Z",
     "shell.execute_reply.started": "2021-12-26T04:35:40.581614Z"
    },
    "papermill": {
     "duration": 0.199566,
     "end_time": "2021-12-26T04:44:40.838571",
     "exception": false,
     "start_time": "2021-12-26T04:44:40.639005",
     "status": "completed"
    },
    "tags": []
   },
   "outputs": [
    {
     "name": "stdout",
     "output_type": "stream",
     "text": [
      "[[2724 1586]\n",
      " [ 325  559]]\n"
     ]
    }
   ],
   "source": [
    "# confusion matrix\n",
    "\n",
    "print(confusion_matrix(y_test, y_pred))"
   ]
  },
  {
   "cell_type": "code",
   "execution_count": 62,
   "id": "b60ec2e9",
   "metadata": {
    "execution": {
     "iopub.execute_input": "2021-12-26T04:44:41.137613Z",
     "iopub.status.busy": "2021-12-26T04:44:41.136472Z",
     "iopub.status.idle": "2021-12-26T04:44:41.412863Z",
     "shell.execute_reply": "2021-12-26T04:44:41.413409Z",
     "shell.execute_reply.started": "2021-12-26T04:35:40.635359Z"
    },
    "papermill": {
     "duration": 0.433734,
     "end_time": "2021-12-26T04:44:41.413584",
     "exception": false,
     "start_time": "2021-12-26T04:44:40.979850",
     "status": "completed"
    },
    "tags": []
   },
   "outputs": [
    {
     "name": "stdout",
     "output_type": "stream",
     "text": [
      "              precision    recall  f1-score   support\n",
      "\n",
      "           0       0.89      0.63      0.74      4310\n",
      "           1       0.26      0.63      0.37       884\n",
      "\n",
      "    accuracy                           0.63      5194\n",
      "   macro avg       0.58      0.63      0.55      5194\n",
      "weighted avg       0.79      0.63      0.68      5194\n",
      "\n"
     ]
    }
   ],
   "source": [
    "# classification report\n",
    "\n",
    "print(classification_report(y_test, y_pred))"
   ]
  },
  {
   "cell_type": "markdown",
   "id": "f49752a5",
   "metadata": {
    "papermill": {
     "duration": 0.133959,
     "end_time": "2021-12-26T04:44:41.681050",
     "exception": false,
     "start_time": "2021-12-26T04:44:41.547091",
     "status": "completed"
    },
    "tags": []
   },
   "source": [
    "# Model 5 - Decision Tree"
   ]
  },
  {
   "cell_type": "code",
   "execution_count": 63,
   "id": "9c11fa25",
   "metadata": {
    "execution": {
     "iopub.execute_input": "2021-12-26T04:44:41.958037Z",
     "iopub.status.busy": "2021-12-26T04:44:41.955171Z",
     "iopub.status.idle": "2021-12-26T04:44:41.959918Z",
     "shell.execute_reply": "2021-12-26T04:44:41.960451Z",
     "shell.execute_reply.started": "2021-12-26T04:35:40.776789Z"
    },
    "papermill": {
     "duration": 0.144178,
     "end_time": "2021-12-26T04:44:41.960622",
     "exception": false,
     "start_time": "2021-12-26T04:44:41.816444",
     "status": "completed"
    },
    "tags": []
   },
   "outputs": [],
   "source": [
    "from sklearn.tree import DecisionTreeClassifier\n",
    "\n",
    "#dtc = DecisionTreeClassifier()\n",
    "\n",
    "#parameters = {\n",
    "#    'criterion' : ['gini'],\n",
    "#    'max_depth' : range(2, 4, 1),\n",
    "#    'min_samples_leaf' : range(1, 4, 1),\n",
    "#    'min_samples_split' : range(2, 6, 1),\n",
    "#    'splitter' : ['best']\n",
    "#}\n",
    "\n",
    "#grid_search_dt = GridSearchCV(dtc, parameters, cv = 5, n_jobs = -1, verbose = 1)\n",
    "#grid_search_dt.fit(X_train, y_train)\n",
    "#parameters = {\n",
    "#'criterion' : ['gini', 'entropy'],\n",
    "#    'max_depth' : range(2, 4, 1),\n",
    "#    'min_samples_leaf' : range(1, 4, 1),\n",
    "#    'min_samples_split' : range(2, 6, 1),\n",
    "#    'splitter' : ['best', 'random']\n",
    "#}\n",
    "#Removed in running so that algorithm can run faster after knowing the best parameter"
   ]
  },
  {
   "cell_type": "code",
   "execution_count": 64,
   "id": "f2cafdfb",
   "metadata": {
    "execution": {
     "iopub.execute_input": "2021-12-26T04:44:42.234300Z",
     "iopub.status.busy": "2021-12-26T04:44:42.233608Z",
     "iopub.status.idle": "2021-12-26T04:44:42.235450Z",
     "shell.execute_reply": "2021-12-26T04:44:42.236112Z",
     "shell.execute_reply.started": "2021-12-26T04:35:40.783358Z"
    },
    "papermill": {
     "duration": 0.141927,
     "end_time": "2021-12-26T04:44:42.236289",
     "exception": false,
     "start_time": "2021-12-26T04:44:42.094362",
     "status": "completed"
    },
    "tags": []
   },
   "outputs": [],
   "source": [
    "# best parameters\n",
    "\n",
    "#grid_search_dt.best_params_"
   ]
  },
  {
   "cell_type": "code",
   "execution_count": 65,
   "id": "baa70020",
   "metadata": {
    "execution": {
     "iopub.execute_input": "2021-12-26T04:44:42.507676Z",
     "iopub.status.busy": "2021-12-26T04:44:42.506991Z",
     "iopub.status.idle": "2021-12-26T04:44:42.509846Z",
     "shell.execute_reply": "2021-12-26T04:44:42.510447Z",
     "shell.execute_reply.started": "2021-12-26T04:35:40.802412Z"
    },
    "papermill": {
     "duration": 0.139839,
     "end_time": "2021-12-26T04:44:42.510633",
     "exception": false,
     "start_time": "2021-12-26T04:44:42.370794",
     "status": "completed"
    },
    "tags": []
   },
   "outputs": [],
   "source": [
    "# best score\n",
    "\n",
    "#grid_search_dt.best_score_"
   ]
  },
  {
   "cell_type": "code",
   "execution_count": 66,
   "id": "81541fe7",
   "metadata": {
    "execution": {
     "iopub.execute_input": "2021-12-26T04:44:42.787247Z",
     "iopub.status.busy": "2021-12-26T04:44:42.786584Z",
     "iopub.status.idle": "2021-12-26T04:44:42.910924Z",
     "shell.execute_reply": "2021-12-26T04:44:42.911408Z",
     "shell.execute_reply.started": "2021-12-26T04:35:40.814086Z"
    },
    "papermill": {
     "duration": 0.265365,
     "end_time": "2021-12-26T04:44:42.911586",
     "exception": false,
     "start_time": "2021-12-26T04:44:42.646221",
     "status": "completed"
    },
    "tags": []
   },
   "outputs": [
    {
     "data": {
      "text/plain": [
       "DecisionTreeClassifier(max_depth=4)"
      ]
     },
     "execution_count": 66,
     "metadata": {},
     "output_type": "execute_result"
    }
   ],
   "source": [
    "dtc = DecisionTreeClassifier(criterion = 'gini', max_depth = 4, min_samples_leaf = 1, min_samples_split = 2, splitter = 'best')\n",
    "dtc.fit(X_train, y_train)"
   ]
  },
  {
   "cell_type": "code",
   "execution_count": 67,
   "id": "0cb3c49d",
   "metadata": {
    "execution": {
     "iopub.execute_input": "2021-12-26T04:44:43.185549Z",
     "iopub.status.busy": "2021-12-26T04:44:43.184928Z",
     "iopub.status.idle": "2021-12-26T04:44:43.189373Z",
     "shell.execute_reply": "2021-12-26T04:44:43.189973Z",
     "shell.execute_reply.started": "2021-12-26T04:35:40.917932Z"
    },
    "papermill": {
     "duration": 0.143711,
     "end_time": "2021-12-26T04:44:43.190146",
     "exception": false,
     "start_time": "2021-12-26T04:44:43.046435",
     "status": "completed"
    },
    "tags": []
   },
   "outputs": [],
   "source": [
    "y_pred = dtc.predict(X_test)"
   ]
  },
  {
   "cell_type": "code",
   "execution_count": 68,
   "id": "defe80b2",
   "metadata": {
    "execution": {
     "iopub.execute_input": "2021-12-26T04:44:43.461744Z",
     "iopub.status.busy": "2021-12-26T04:44:43.461087Z",
     "iopub.status.idle": "2021-12-26T04:44:43.945350Z",
     "shell.execute_reply": "2021-12-26T04:44:43.945946Z",
     "shell.execute_reply.started": "2021-12-26T04:35:40.925830Z"
    },
    "papermill": {
     "duration": 0.621973,
     "end_time": "2021-12-26T04:44:43.946125",
     "exception": false,
     "start_time": "2021-12-26T04:44:43.324152",
     "status": "completed"
    },
    "tags": []
   },
   "outputs": [
    {
     "name": "stdout",
     "output_type": "stream",
     "text": [
      "0.6779414904975443\n",
      "0.3547044129891757\n"
     ]
    }
   ],
   "source": [
    "#F1 score\n",
    "print(f1_score(y_train, dtc.predict(X_train),pos_label='1'))\n",
    "dtc_f1 = f1_score(y_test, dtc.predict(X_test),pos_label='1')\n",
    "print(dtc_f1)"
   ]
  },
  {
   "cell_type": "code",
   "execution_count": 69,
   "id": "0b625560",
   "metadata": {
    "execution": {
     "iopub.execute_input": "2021-12-26T04:44:44.221632Z",
     "iopub.status.busy": "2021-12-26T04:44:44.220952Z",
     "iopub.status.idle": "2021-12-26T04:44:44.270778Z",
     "shell.execute_reply": "2021-12-26T04:44:44.271547Z",
     "shell.execute_reply.started": "2021-12-26T04:35:41.176713Z"
    },
    "papermill": {
     "duration": 0.188595,
     "end_time": "2021-12-26T04:44:44.271767",
     "exception": false,
     "start_time": "2021-12-26T04:44:44.083172",
     "status": "completed"
    },
    "tags": []
   },
   "outputs": [
    {
     "name": "stdout",
     "output_type": "stream",
     "text": [
      "[[2230 2080]\n",
      " [ 245  639]]\n"
     ]
    }
   ],
   "source": [
    "# confusion matrix\n",
    "\n",
    "print(confusion_matrix(y_test, y_pred))"
   ]
  },
  {
   "cell_type": "code",
   "execution_count": 70,
   "id": "37f1c571",
   "metadata": {
    "execution": {
     "iopub.execute_input": "2021-12-26T04:44:44.546153Z",
     "iopub.status.busy": "2021-12-26T04:44:44.545409Z",
     "iopub.status.idle": "2021-12-26T04:44:44.943640Z",
     "shell.execute_reply": "2021-12-26T04:44:44.943021Z",
     "shell.execute_reply.started": "2021-12-26T04:35:41.209815Z"
    },
    "papermill": {
     "duration": 0.536847,
     "end_time": "2021-12-26T04:44:44.943827",
     "exception": false,
     "start_time": "2021-12-26T04:44:44.406980",
     "status": "completed"
    },
    "tags": []
   },
   "outputs": [
    {
     "name": "stdout",
     "output_type": "stream",
     "text": [
      "              precision    recall  f1-score   support\n",
      "\n",
      "           0       0.90      0.52      0.66      4310\n",
      "           1       0.24      0.72      0.35       884\n",
      "\n",
      "    accuracy                           0.55      5194\n",
      "   macro avg       0.57      0.62      0.51      5194\n",
      "weighted avg       0.79      0.55      0.61      5194\n",
      "\n"
     ]
    }
   ],
   "source": [
    "# classification report\n",
    "\n",
    "print(classification_report(y_test, y_pred))"
   ]
  },
  {
   "cell_type": "markdown",
   "id": "bc7e5c86",
   "metadata": {
    "papermill": {
     "duration": 0.138288,
     "end_time": "2021-12-26T04:44:45.219711",
     "exception": false,
     "start_time": "2021-12-26T04:44:45.081423",
     "status": "completed"
    },
    "tags": []
   },
   "source": [
    "# Model 6 - Random Forest"
   ]
  },
  {
   "cell_type": "code",
   "execution_count": 71,
   "id": "540037db",
   "metadata": {
    "execution": {
     "iopub.execute_input": "2021-12-26T04:44:45.503258Z",
     "iopub.status.busy": "2021-12-26T04:44:45.502235Z",
     "iopub.status.idle": "2021-12-26T04:44:47.433831Z",
     "shell.execute_reply": "2021-12-26T04:44:47.433290Z",
     "shell.execute_reply.started": "2021-12-26T04:35:41.404385Z"
    },
    "papermill": {
     "duration": 2.070399,
     "end_time": "2021-12-26T04:44:47.433978",
     "exception": false,
     "start_time": "2021-12-26T04:44:45.363579",
     "status": "completed"
    },
    "tags": []
   },
   "outputs": [
    {
     "data": {
      "text/plain": [
       "RandomForestClassifier(max_depth=5, min_samples_leaf=3, min_samples_split=3,\n",
       "                       n_estimators=130)"
      ]
     },
     "execution_count": 71,
     "metadata": {},
     "output_type": "execute_result"
    }
   ],
   "source": [
    "from sklearn.ensemble import RandomForestClassifier\n",
    "\n",
    "rand_clf = RandomForestClassifier(criterion = 'gini', max_depth = 5, max_features = 'auto', min_samples_leaf = 3, min_samples_split = 3, n_estimators = 130)\n",
    "rand_clf.fit(X_train, y_train)"
   ]
  },
  {
   "cell_type": "code",
   "execution_count": 72,
   "id": "c2053a51",
   "metadata": {
    "execution": {
     "iopub.execute_input": "2021-12-26T04:44:47.715067Z",
     "iopub.status.busy": "2021-12-26T04:44:47.714062Z",
     "iopub.status.idle": "2021-12-26T04:44:47.781246Z",
     "shell.execute_reply": "2021-12-26T04:44:47.781997Z",
     "shell.execute_reply.started": "2021-12-26T04:35:43.304126Z"
    },
    "papermill": {
     "duration": 0.211429,
     "end_time": "2021-12-26T04:44:47.782286",
     "exception": false,
     "start_time": "2021-12-26T04:44:47.570857",
     "status": "completed"
    },
    "tags": []
   },
   "outputs": [],
   "source": [
    "y_pred = rand_clf.predict(X_test)"
   ]
  },
  {
   "cell_type": "code",
   "execution_count": 73,
   "id": "1ba5c6b4",
   "metadata": {
    "execution": {
     "iopub.execute_input": "2021-12-26T04:44:48.058931Z",
     "iopub.status.busy": "2021-12-26T04:44:48.058170Z",
     "iopub.status.idle": "2021-12-26T04:44:48.798345Z",
     "shell.execute_reply": "2021-12-26T04:44:48.799211Z",
     "shell.execute_reply.started": "2021-12-26T04:35:43.378619Z"
    },
    "papermill": {
     "duration": 0.881407,
     "end_time": "2021-12-26T04:44:48.799456",
     "exception": false,
     "start_time": "2021-12-26T04:44:47.918049",
     "status": "completed"
    },
    "tags": []
   },
   "outputs": [
    {
     "name": "stdout",
     "output_type": "stream",
     "text": [
      "0.6908366902810575\n",
      "0.36779324055666\n"
     ]
    }
   ],
   "source": [
    "#F1 score\n",
    "print(f1_score(y_train, rand_clf.predict(X_train),pos_label='1'))\n",
    "rand_clf_f1 = f1_score(y_test, rand_clf.predict(X_test),pos_label='1')\n",
    "print(rand_clf_f1)"
   ]
  },
  {
   "cell_type": "code",
   "execution_count": 74,
   "id": "33b70a06",
   "metadata": {
    "execution": {
     "iopub.execute_input": "2021-12-26T04:44:49.123728Z",
     "iopub.status.busy": "2021-12-26T04:44:49.075541Z",
     "iopub.status.idle": "2021-12-26T04:44:49.128292Z",
     "shell.execute_reply": "2021-12-26T04:44:49.127582Z",
     "shell.execute_reply.started": "2021-12-26T04:35:43.876609Z"
    },
    "papermill": {
     "duration": 0.192149,
     "end_time": "2021-12-26T04:44:49.128436",
     "exception": false,
     "start_time": "2021-12-26T04:44:48.936287",
     "status": "completed"
    },
    "tags": []
   },
   "outputs": [
    {
     "name": "stdout",
     "output_type": "stream",
     "text": [
      "[[2731 1579]\n",
      " [ 329  555]]\n"
     ]
    }
   ],
   "source": [
    "# confusion matrix\n",
    "\n",
    "print(confusion_matrix(y_test, y_pred))"
   ]
  },
  {
   "cell_type": "code",
   "execution_count": 75,
   "id": "3eb19729",
   "metadata": {
    "execution": {
     "iopub.execute_input": "2021-12-26T04:44:49.523974Z",
     "iopub.status.busy": "2021-12-26T04:44:49.463545Z",
     "iopub.status.idle": "2021-12-26T04:44:49.791301Z",
     "shell.execute_reply": "2021-12-26T04:44:49.790704Z",
     "shell.execute_reply.started": "2021-12-26T04:35:43.909564Z"
    },
    "papermill": {
     "duration": 0.521392,
     "end_time": "2021-12-26T04:44:49.791452",
     "exception": false,
     "start_time": "2021-12-26T04:44:49.270060",
     "status": "completed"
    },
    "tags": []
   },
   "outputs": [
    {
     "name": "stdout",
     "output_type": "stream",
     "text": [
      "              precision    recall  f1-score   support\n",
      "\n",
      "           0       0.89      0.63      0.74      4310\n",
      "           1       0.26      0.63      0.37       884\n",
      "\n",
      "    accuracy                           0.63      5194\n",
      "   macro avg       0.58      0.63      0.55      5194\n",
      "weighted avg       0.78      0.63      0.68      5194\n",
      "\n"
     ]
    }
   ],
   "source": [
    "# classification report\n",
    "\n",
    "print(classification_report(y_test, y_pred))"
   ]
  },
  {
   "cell_type": "markdown",
   "id": "c10959e4",
   "metadata": {
    "papermill": {
     "duration": 0.140597,
     "end_time": "2021-12-26T04:44:50.071382",
     "exception": false,
     "start_time": "2021-12-26T04:44:49.930785",
     "status": "completed"
    },
    "tags": []
   },
   "source": [
    "# Model 7 - Voting Classifier"
   ]
  },
  {
   "cell_type": "code",
   "execution_count": 76,
   "id": "cb43a8e0",
   "metadata": {
    "execution": {
     "iopub.execute_input": "2021-12-26T04:44:50.380949Z",
     "iopub.status.busy": "2021-12-26T04:44:50.380224Z",
     "iopub.status.idle": "2021-12-26T04:45:10.715184Z",
     "shell.execute_reply": "2021-12-26T04:45:10.715768Z",
     "shell.execute_reply.started": "2021-12-26T04:35:44.102061Z"
    },
    "papermill": {
     "duration": 20.504373,
     "end_time": "2021-12-26T04:45:10.715978",
     "exception": false,
     "start_time": "2021-12-26T04:44:50.211605",
     "status": "completed"
    },
    "tags": []
   },
   "outputs": [
    {
     "data": {
      "text/plain": [
       "VotingClassifier(estimators=[('Logistic Regression', LogisticRegression()),\n",
       "                             ('K Nearest Neighbours', KNeighborsClassifier()),\n",
       "                             ('Support Vector Classifier',\n",
       "                              SVC(C=0.5, gamma=0.001)),\n",
       "                             ('Decision Tree',\n",
       "                              DecisionTreeClassifier(max_depth=4))])"
      ]
     },
     "execution_count": 76,
     "metadata": {},
     "output_type": "execute_result"
    }
   ],
   "source": [
    "from sklearn.ensemble import VotingClassifier\n",
    "\n",
    "classifiers = [('Logistic Regression', log_reg), ('K Nearest Neighbours', knn), ('Support Vector Classifier', svc),\n",
    "               ('Decision Tree', dtc)]\n",
    "\n",
    "vc = VotingClassifier(estimators = classifiers)\n",
    "\n",
    "vc.fit(X_train, y_train)"
   ]
  },
  {
   "cell_type": "code",
   "execution_count": 77,
   "id": "77ef1269",
   "metadata": {
    "execution": {
     "iopub.execute_input": "2021-12-26T04:45:10.998463Z",
     "iopub.status.busy": "2021-12-26T04:45:10.997736Z",
     "iopub.status.idle": "2021-12-26T04:45:20.484773Z",
     "shell.execute_reply": "2021-12-26T04:45:20.484009Z",
     "shell.execute_reply.started": "2021-12-26T04:36:04.868897Z"
    },
    "papermill": {
     "duration": 9.628596,
     "end_time": "2021-12-26T04:45:20.484932",
     "exception": false,
     "start_time": "2021-12-26T04:45:10.856336",
     "status": "completed"
    },
    "tags": []
   },
   "outputs": [],
   "source": [
    "y_pred = vc.predict(X_test)"
   ]
  },
  {
   "cell_type": "code",
   "execution_count": 78,
   "id": "40011eae",
   "metadata": {
    "execution": {
     "iopub.execute_input": "2021-12-26T04:45:20.772606Z",
     "iopub.status.busy": "2021-12-26T04:45:20.771254Z",
     "iopub.status.idle": "2021-12-26T04:45:58.908767Z",
     "shell.execute_reply": "2021-12-26T04:45:58.909514Z",
     "shell.execute_reply.started": "2021-12-26T04:36:14.121665Z"
    },
    "papermill": {
     "duration": 38.286,
     "end_time": "2021-12-26T04:45:58.909764",
     "exception": false,
     "start_time": "2021-12-26T04:45:20.623764",
     "status": "completed"
    },
    "tags": []
   },
   "outputs": [
    {
     "name": "stdout",
     "output_type": "stream",
     "text": [
      "0.6719592276781338\n",
      "0.37151248164464024\n"
     ]
    }
   ],
   "source": [
    "#F1 score\n",
    "print(f1_score(y_train, vc.predict(X_train),pos_label='1'))\n",
    "vc_f1 = f1_score(y_test, vc.predict(X_test),pos_label='1')\n",
    "print(vc_f1)"
   ]
  },
  {
   "cell_type": "code",
   "execution_count": 79,
   "id": "af936a92",
   "metadata": {
    "execution": {
     "iopub.execute_input": "2021-12-26T04:45:59.212493Z",
     "iopub.status.busy": "2021-12-26T04:45:59.211787Z",
     "iopub.status.idle": "2021-12-26T04:45:59.256700Z",
     "shell.execute_reply": "2021-12-26T04:45:59.255556Z",
     "shell.execute_reply.started": "2021-12-26T04:36:51.168049Z"
    },
    "papermill": {
     "duration": 0.195902,
     "end_time": "2021-12-26T04:45:59.256864",
     "exception": false,
     "start_time": "2021-12-26T04:45:59.060962",
     "status": "completed"
    },
    "tags": []
   },
   "outputs": [
    {
     "name": "stdout",
     "output_type": "stream",
     "text": [
      "[[2976 1334]\n",
      " [ 378  506]]\n"
     ]
    }
   ],
   "source": [
    "# confusion matrix\n",
    "\n",
    "print(confusion_matrix(y_test, y_pred))"
   ]
  },
  {
   "cell_type": "code",
   "execution_count": 80,
   "id": "5d9f18f2",
   "metadata": {
    "execution": {
     "iopub.execute_input": "2021-12-26T04:45:59.540534Z",
     "iopub.status.busy": "2021-12-26T04:45:59.539690Z",
     "iopub.status.idle": "2021-12-26T04:45:59.908289Z",
     "shell.execute_reply": "2021-12-26T04:45:59.909096Z",
     "shell.execute_reply.started": "2021-12-26T04:36:51.200913Z"
    },
    "papermill": {
     "duration": 0.51376,
     "end_time": "2021-12-26T04:45:59.909294",
     "exception": false,
     "start_time": "2021-12-26T04:45:59.395534",
     "status": "completed"
    },
    "tags": []
   },
   "outputs": [
    {
     "name": "stdout",
     "output_type": "stream",
     "text": [
      "              precision    recall  f1-score   support\n",
      "\n",
      "           0       0.89      0.69      0.78      4310\n",
      "           1       0.28      0.57      0.37       884\n",
      "\n",
      "    accuracy                           0.67      5194\n",
      "   macro avg       0.58      0.63      0.57      5194\n",
      "weighted avg       0.78      0.67      0.71      5194\n",
      "\n"
     ]
    }
   ],
   "source": [
    "# classification report\n",
    "\n",
    "print(classification_report(y_test, y_pred))"
   ]
  },
  {
   "cell_type": "markdown",
   "id": "b1498635",
   "metadata": {
    "papermill": {
     "duration": 0.138878,
     "end_time": "2021-12-26T04:46:00.189722",
     "exception": false,
     "start_time": "2021-12-26T04:46:00.050844",
     "status": "completed"
    },
    "tags": []
   },
   "source": [
    "# Model 8 - Adapting Boosting"
   ]
  },
  {
   "cell_type": "code",
   "execution_count": 81,
   "id": "bb3aa039",
   "metadata": {
    "execution": {
     "iopub.execute_input": "2021-12-26T04:46:00.476745Z",
     "iopub.status.busy": "2021-12-26T04:46:00.475750Z",
     "iopub.status.idle": "2021-12-26T04:46:31.413905Z",
     "shell.execute_reply": "2021-12-26T04:46:31.414434Z",
     "shell.execute_reply.started": "2021-12-26T04:36:51.388289Z"
    },
    "papermill": {
     "duration": 31.085769,
     "end_time": "2021-12-26T04:46:31.414616",
     "exception": false,
     "start_time": "2021-12-26T04:46:00.328847",
     "status": "completed"
    },
    "tags": []
   },
   "outputs": [
    {
     "data": {
      "text/plain": [
       "AdaBoostClassifier(base_estimator=LogisticRegression(), n_estimators=200)"
      ]
     },
     "execution_count": 81,
     "metadata": {},
     "output_type": "execute_result"
    }
   ],
   "source": [
    "from sklearn.ensemble import AdaBoostClassifier\n",
    "\n",
    "ada = AdaBoostClassifier(base_estimator = log_reg)\n",
    "\n",
    "ada = AdaBoostClassifier(log_reg, n_estimators = 200)\n",
    "ada.fit(X_train, y_train)"
   ]
  },
  {
   "cell_type": "code",
   "execution_count": 82,
   "id": "debf83ab",
   "metadata": {
    "execution": {
     "iopub.execute_input": "2021-12-26T04:46:31.701396Z",
     "iopub.status.busy": "2021-12-26T04:46:31.700096Z",
     "iopub.status.idle": "2021-12-26T04:46:31.896769Z",
     "shell.execute_reply": "2021-12-26T04:46:31.898354Z",
     "shell.execute_reply.started": "2021-12-26T04:37:13.088041Z"
    },
    "papermill": {
     "duration": 0.34592,
     "end_time": "2021-12-26T04:46:31.898913",
     "exception": false,
     "start_time": "2021-12-26T04:46:31.552993",
     "status": "completed"
    },
    "tags": []
   },
   "outputs": [],
   "source": [
    "y_pred = ada.predict(X_test)"
   ]
  },
  {
   "cell_type": "code",
   "execution_count": 83,
   "id": "b5d5a4cb",
   "metadata": {
    "execution": {
     "iopub.execute_input": "2021-12-26T04:46:32.243888Z",
     "iopub.status.busy": "2021-12-26T04:46:32.242584Z",
     "iopub.status.idle": "2021-12-26T04:46:33.534923Z",
     "shell.execute_reply": "2021-12-26T04:46:33.535510Z",
     "shell.execute_reply.started": "2021-12-26T04:37:13.268436Z"
    },
    "papermill": {
     "duration": 1.437512,
     "end_time": "2021-12-26T04:46:33.535715",
     "exception": false,
     "start_time": "2021-12-26T04:46:32.098203",
     "status": "completed"
    },
    "tags": []
   },
   "outputs": [
    {
     "name": "stdout",
     "output_type": "stream",
     "text": [
      "0.6434093544646308\n",
      "0.3678239944998281\n"
     ]
    }
   ],
   "source": [
    "#F1 score\n",
    "print(f1_score(y_train, ada.predict(X_train),pos_label='1'))\n",
    "ada_f1 = f1_score(y_test, ada.predict(X_test),pos_label='1')\n",
    "print(ada_f1)"
   ]
  },
  {
   "cell_type": "code",
   "execution_count": 84,
   "id": "2fd4abc2",
   "metadata": {
    "execution": {
     "iopub.execute_input": "2021-12-26T04:46:33.842738Z",
     "iopub.status.busy": "2021-12-26T04:46:33.842036Z",
     "iopub.status.idle": "2021-12-26T04:46:33.887044Z",
     "shell.execute_reply": "2021-12-26T04:46:33.886343Z",
     "shell.execute_reply.started": "2021-12-26T04:37:14.302175Z"
    },
    "papermill": {
     "duration": 0.208056,
     "end_time": "2021-12-26T04:46:33.887206",
     "exception": false,
     "start_time": "2021-12-26T04:46:33.679150",
     "status": "completed"
    },
    "tags": []
   },
   "outputs": [
    {
     "name": "stdout",
     "output_type": "stream",
     "text": [
      "[[2820 1490]\n",
      " [ 349  535]]\n"
     ]
    }
   ],
   "source": [
    "# confusion matrix\n",
    "\n",
    "print(confusion_matrix(y_test, y_pred))"
   ]
  },
  {
   "cell_type": "code",
   "execution_count": 85,
   "id": "a6505b49",
   "metadata": {
    "execution": {
     "iopub.execute_input": "2021-12-26T04:46:34.235938Z",
     "iopub.status.busy": "2021-12-26T04:46:34.212003Z",
     "iopub.status.idle": "2021-12-26T04:46:34.542018Z",
     "shell.execute_reply": "2021-12-26T04:46:34.542525Z",
     "shell.execute_reply.started": "2021-12-26T04:37:14.340039Z"
    },
    "papermill": {
     "duration": 0.513106,
     "end_time": "2021-12-26T04:46:34.542738",
     "exception": false,
     "start_time": "2021-12-26T04:46:34.029632",
     "status": "completed"
    },
    "tags": []
   },
   "outputs": [
    {
     "name": "stdout",
     "output_type": "stream",
     "text": [
      "              precision    recall  f1-score   support\n",
      "\n",
      "           0       0.89      0.65      0.75      4310\n",
      "           1       0.26      0.61      0.37       884\n",
      "\n",
      "    accuracy                           0.65      5194\n",
      "   macro avg       0.58      0.63      0.56      5194\n",
      "weighted avg       0.78      0.65      0.69      5194\n",
      "\n"
     ]
    }
   ],
   "source": [
    "# classification report\n",
    "\n",
    "print(classification_report(y_test, y_pred))"
   ]
  },
  {
   "cell_type": "markdown",
   "id": "fea38613",
   "metadata": {
    "papermill": {
     "duration": 0.226617,
     "end_time": "2021-12-26T04:46:34.911798",
     "exception": false,
     "start_time": "2021-12-26T04:46:34.685181",
     "status": "completed"
    },
    "tags": []
   },
   "source": [
    "# Model 9 - Gradient Boosting"
   ]
  },
  {
   "cell_type": "code",
   "execution_count": 86,
   "id": "91d35da7",
   "metadata": {
    "execution": {
     "iopub.execute_input": "2021-12-26T04:46:35.201769Z",
     "iopub.status.busy": "2021-12-26T04:46:35.200952Z",
     "iopub.status.idle": "2021-12-26T04:46:35.204695Z",
     "shell.execute_reply": "2021-12-26T04:46:35.204069Z",
     "shell.execute_reply.started": "2021-12-26T04:37:14.530245Z"
    },
    "papermill": {
     "duration": 0.150629,
     "end_time": "2021-12-26T04:46:35.204840",
     "exception": false,
     "start_time": "2021-12-26T04:46:35.054211",
     "status": "completed"
    },
    "tags": []
   },
   "outputs": [],
   "source": [
    "from sklearn.ensemble import GradientBoostingClassifier\n",
    "\n",
    "#gbc = GradientBoostingClassifier()\n",
    "\n",
    "#parameters = {\n",
    "#    'loss': ['exponential'],\n",
    "#    'learning_rate': [0.1],\n",
    "#    'n_estimators': [150]\n",
    "#}\n",
    "\n",
    "#grid_search_gbc = GridSearchCV(gbc, parameters, cv = 5, n_jobs = -1, verbose = 1)\n",
    "#grid_search_gbc.fit(X_train, y_train)\n",
    "\n",
    "#parameters = {\n",
    "#    'loss': ['deviance', 'exponential'],\n",
    "#    'learning_rate': [0.001, 0.1, 1, 10],\n",
    "#    'n_estimators': [100, 150, 180, 200]\n",
    "#}"
   ]
  },
  {
   "cell_type": "code",
   "execution_count": 87,
   "id": "33c68c83",
   "metadata": {
    "execution": {
     "iopub.execute_input": "2021-12-26T04:46:35.491691Z",
     "iopub.status.busy": "2021-12-26T04:46:35.490990Z",
     "iopub.status.idle": "2021-12-26T04:46:35.494277Z",
     "shell.execute_reply": "2021-12-26T04:46:35.493635Z",
     "shell.execute_reply.started": "2021-12-26T04:37:14.537274Z"
    },
    "papermill": {
     "duration": 0.148368,
     "end_time": "2021-12-26T04:46:35.494418",
     "exception": false,
     "start_time": "2021-12-26T04:46:35.346050",
     "status": "completed"
    },
    "tags": []
   },
   "outputs": [],
   "source": [
    "# best parameters \n",
    "\n",
    "#grid_search_gbc.best_params_"
   ]
  },
  {
   "cell_type": "code",
   "execution_count": 88,
   "id": "c6d3e166",
   "metadata": {
    "execution": {
     "iopub.execute_input": "2021-12-26T04:46:35.780900Z",
     "iopub.status.busy": "2021-12-26T04:46:35.780117Z",
     "iopub.status.idle": "2021-12-26T04:46:35.783671Z",
     "shell.execute_reply": "2021-12-26T04:46:35.783147Z",
     "shell.execute_reply.started": "2021-12-26T04:37:14.549789Z"
    },
    "papermill": {
     "duration": 0.148781,
     "end_time": "2021-12-26T04:46:35.783826",
     "exception": false,
     "start_time": "2021-12-26T04:46:35.635045",
     "status": "completed"
    },
    "tags": []
   },
   "outputs": [],
   "source": [
    "# best score\n",
    "\n",
    "#grid_search_gbc.best_score_"
   ]
  },
  {
   "cell_type": "code",
   "execution_count": 89,
   "id": "1d358788",
   "metadata": {
    "execution": {
     "iopub.execute_input": "2021-12-26T04:46:36.076730Z",
     "iopub.status.busy": "2021-12-26T04:46:36.076005Z",
     "iopub.status.idle": "2021-12-26T04:46:36.078984Z",
     "shell.execute_reply": "2021-12-26T04:46:36.078348Z",
     "shell.execute_reply.started": "2021-12-26T04:37:14.561874Z"
    },
    "papermill": {
     "duration": 0.150588,
     "end_time": "2021-12-26T04:46:36.079122",
     "exception": false,
     "start_time": "2021-12-26T04:46:35.928534",
     "status": "completed"
    },
    "tags": []
   },
   "outputs": [],
   "source": [
    "#    'loss': ['deviance', 'exponential'],\n",
    "#    'learning_rate': [0.001, 0.1, 1, 10],\n",
    "#    'n_estimators': [100, 150, 180, 200]"
   ]
  },
  {
   "cell_type": "code",
   "execution_count": 90,
   "id": "8b1ee093",
   "metadata": {
    "execution": {
     "iopub.execute_input": "2021-12-26T04:46:36.371170Z",
     "iopub.status.busy": "2021-12-26T04:46:36.370420Z",
     "iopub.status.idle": "2021-12-26T04:46:43.764873Z",
     "shell.execute_reply": "2021-12-26T04:46:43.764302Z",
     "shell.execute_reply.started": "2021-12-26T04:37:14.574220Z"
    },
    "papermill": {
     "duration": 7.541873,
     "end_time": "2021-12-26T04:46:43.765017",
     "exception": false,
     "start_time": "2021-12-26T04:46:36.223144",
     "status": "completed"
    },
    "tags": []
   },
   "outputs": [
    {
     "data": {
      "text/plain": [
       "GradientBoostingClassifier(learning_rate=0.05, n_estimators=150)"
      ]
     },
     "execution_count": 90,
     "metadata": {},
     "output_type": "execute_result"
    }
   ],
   "source": [
    "gbc = GradientBoostingClassifier(learning_rate = 0.05, loss = 'deviance', n_estimators = 150)\n",
    "gbc.fit(X_train, y_train)"
   ]
  },
  {
   "cell_type": "code",
   "execution_count": 91,
   "id": "3dbc2ed7",
   "metadata": {
    "execution": {
     "iopub.execute_input": "2021-12-26T04:46:44.055045Z",
     "iopub.status.busy": "2021-12-26T04:46:44.054324Z",
     "iopub.status.idle": "2021-12-26T04:46:44.077069Z",
     "shell.execute_reply": "2021-12-26T04:46:44.076479Z",
     "shell.execute_reply.started": "2021-12-26T04:37:22.046843Z"
    },
    "papermill": {
     "duration": 0.169284,
     "end_time": "2021-12-26T04:46:44.077235",
     "exception": false,
     "start_time": "2021-12-26T04:46:43.907951",
     "status": "completed"
    },
    "tags": []
   },
   "outputs": [],
   "source": [
    "y_pred = gbc.predict(X_test)"
   ]
  },
  {
   "cell_type": "code",
   "execution_count": 92,
   "id": "54b83c9b",
   "metadata": {
    "execution": {
     "iopub.execute_input": "2021-12-26T04:46:44.361789Z",
     "iopub.status.busy": "2021-12-26T04:46:44.361084Z",
     "iopub.status.idle": "2021-12-26T04:46:44.912472Z",
     "shell.execute_reply": "2021-12-26T04:46:44.911532Z",
     "shell.execute_reply.started": "2021-12-26T04:37:22.072394Z"
    },
    "papermill": {
     "duration": 0.694906,
     "end_time": "2021-12-26T04:46:44.912689",
     "exception": false,
     "start_time": "2021-12-26T04:46:44.217783",
     "status": "completed"
    },
    "tags": []
   },
   "outputs": [
    {
     "name": "stdout",
     "output_type": "stream",
     "text": [
      "0.7124045175500258\n",
      "0.3825363825363825\n"
     ]
    }
   ],
   "source": [
    "#F1 score\n",
    "print(f1_score(y_train, gbc.predict(X_train),pos_label='1'))\n",
    "gbc_f1 = f1_score(y_test, gbc.predict(X_test),pos_label='1')\n",
    "print(gbc_f1)"
   ]
  },
  {
   "cell_type": "code",
   "execution_count": 93,
   "id": "7351827b",
   "metadata": {
    "execution": {
     "iopub.execute_input": "2021-12-26T04:46:45.206624Z",
     "iopub.status.busy": "2021-12-26T04:46:45.205688Z",
     "iopub.status.idle": "2021-12-26T04:46:45.254442Z",
     "shell.execute_reply": "2021-12-26T04:46:45.254915Z",
     "shell.execute_reply.started": "2021-12-26T04:37:22.394411Z"
    },
    "papermill": {
     "duration": 0.195496,
     "end_time": "2021-12-26T04:46:45.255100",
     "exception": false,
     "start_time": "2021-12-26T04:46:45.059604",
     "status": "completed"
    },
    "tags": []
   },
   "outputs": [
    {
     "name": "stdout",
     "output_type": "stream",
     "text": [
      "[[2860 1450]\n",
      " [ 332  552]]\n"
     ]
    }
   ],
   "source": [
    "# confusion matrix\n",
    "\n",
    "print(confusion_matrix(y_test, y_pred))"
   ]
  },
  {
   "cell_type": "code",
   "execution_count": 94,
   "id": "70ee4557",
   "metadata": {
    "execution": {
     "iopub.execute_input": "2021-12-26T04:46:45.540974Z",
     "iopub.status.busy": "2021-12-26T04:46:45.540000Z",
     "iopub.status.idle": "2021-12-26T04:46:45.932933Z",
     "shell.execute_reply": "2021-12-26T04:46:45.932364Z",
     "shell.execute_reply.started": "2021-12-26T04:37:22.424958Z"
    },
    "papermill": {
     "duration": 0.53732,
     "end_time": "2021-12-26T04:46:45.933087",
     "exception": false,
     "start_time": "2021-12-26T04:46:45.395767",
     "status": "completed"
    },
    "tags": []
   },
   "outputs": [
    {
     "name": "stdout",
     "output_type": "stream",
     "text": [
      "              precision    recall  f1-score   support\n",
      "\n",
      "           0       0.90      0.66      0.76      4310\n",
      "           1       0.28      0.62      0.38       884\n",
      "\n",
      "    accuracy                           0.66      5194\n",
      "   macro avg       0.59      0.64      0.57      5194\n",
      "weighted avg       0.79      0.66      0.70      5194\n",
      "\n"
     ]
    }
   ],
   "source": [
    "# classification report\n",
    "\n",
    "print(classification_report(y_test, y_pred))"
   ]
  },
  {
   "cell_type": "markdown",
   "id": "40e8a9b9",
   "metadata": {
    "papermill": {
     "duration": 0.145785,
     "end_time": "2021-12-26T04:46:46.220627",
     "exception": false,
     "start_time": "2021-12-26T04:46:46.074842",
     "status": "completed"
    },
    "tags": []
   },
   "source": [
    "# Model 10 - Stochastic Gradient Boosting"
   ]
  },
  {
   "cell_type": "code",
   "execution_count": 95,
   "id": "b84b076a",
   "metadata": {
    "execution": {
     "iopub.execute_input": "2021-12-26T04:46:46.509793Z",
     "iopub.status.busy": "2021-12-26T04:46:46.508758Z",
     "iopub.status.idle": "2021-12-26T04:46:49.188815Z",
     "shell.execute_reply": "2021-12-26T04:46:49.187937Z",
     "shell.execute_reply.started": "2021-12-26T04:37:22.616363Z"
    },
    "papermill": {
     "duration": 2.826,
     "end_time": "2021-12-26T04:46:49.189101",
     "exception": false,
     "start_time": "2021-12-26T04:46:46.363101",
     "status": "completed"
    },
    "tags": []
   },
   "outputs": [
    {
     "data": {
      "text/plain": [
       "GradientBoostingClassifier(max_depth=2, max_features=0.75, n_estimators=150,\n",
       "                           random_state=0, subsample=0.5)"
      ]
     },
     "execution_count": 95,
     "metadata": {},
     "output_type": "execute_result"
    }
   ],
   "source": [
    "sgbc = GradientBoostingClassifier(max_depth=2, subsample=0.5, max_features=0.75, n_estimators=150, random_state=0)\n",
    "\n",
    "sgbc.fit(X_train, y_train)"
   ]
  },
  {
   "cell_type": "code",
   "execution_count": 96,
   "id": "0b2dade5",
   "metadata": {
    "execution": {
     "iopub.execute_input": "2021-12-26T04:46:49.490680Z",
     "iopub.status.busy": "2021-12-26T04:46:49.489672Z",
     "iopub.status.idle": "2021-12-26T04:46:49.507467Z",
     "shell.execute_reply": "2021-12-26T04:46:49.508011Z",
     "shell.execute_reply.started": "2021-12-26T04:37:25.141915Z"
    },
    "papermill": {
     "duration": 0.17124,
     "end_time": "2021-12-26T04:46:49.508240",
     "exception": false,
     "start_time": "2021-12-26T04:46:49.337000",
     "status": "completed"
    },
    "tags": []
   },
   "outputs": [],
   "source": [
    "y_pred = sgbc.predict(X_test)"
   ]
  },
  {
   "cell_type": "code",
   "execution_count": 97,
   "id": "0f25dd2d",
   "metadata": {
    "execution": {
     "iopub.execute_input": "2021-12-26T04:46:49.819455Z",
     "iopub.status.busy": "2021-12-26T04:46:49.818396Z",
     "iopub.status.idle": "2021-12-26T04:46:50.356344Z",
     "shell.execute_reply": "2021-12-26T04:46:50.356935Z",
     "shell.execute_reply.started": "2021-12-26T04:37:25.160475Z"
    },
    "papermill": {
     "duration": 0.696248,
     "end_time": "2021-12-26T04:46:50.357168",
     "exception": false,
     "start_time": "2021-12-26T04:46:49.660920",
     "status": "completed"
    },
    "tags": []
   },
   "outputs": [
    {
     "name": "stdout",
     "output_type": "stream",
     "text": [
      "0.7019057551910496\n",
      "0.39156414762741654\n"
     ]
    }
   ],
   "source": [
    "#F1 score\n",
    "print(f1_score(y_train, sgbc.predict(X_train),pos_label='1'))\n",
    "sgbc_f1 = f1_score(y_test, sgbc.predict(X_test),pos_label='1')\n",
    "print(sgbc_f1)"
   ]
  },
  {
   "cell_type": "code",
   "execution_count": 98,
   "id": "e810683d",
   "metadata": {
    "execution": {
     "iopub.execute_input": "2021-12-26T04:46:50.656051Z",
     "iopub.status.busy": "2021-12-26T04:46:50.655081Z",
     "iopub.status.idle": "2021-12-26T04:46:50.707060Z",
     "shell.execute_reply": "2021-12-26T04:46:50.707782Z",
     "shell.execute_reply.started": "2021-12-26T04:37:25.453169Z"
    },
    "papermill": {
     "duration": 0.204138,
     "end_time": "2021-12-26T04:46:50.708032",
     "exception": false,
     "start_time": "2021-12-26T04:46:50.503894",
     "status": "completed"
    },
    "tags": []
   },
   "outputs": [
    {
     "name": "stdout",
     "output_type": "stream",
     "text": [
      "[[2906 1404]\n",
      " [ 327  557]]\n"
     ]
    }
   ],
   "source": [
    "# confusion matrix\n",
    "\n",
    "print(confusion_matrix(y_test, y_pred))"
   ]
  },
  {
   "cell_type": "code",
   "execution_count": 99,
   "id": "c348b059",
   "metadata": {
    "execution": {
     "iopub.execute_input": "2021-12-26T04:46:51.023368Z",
     "iopub.status.busy": "2021-12-26T04:46:51.022541Z",
     "iopub.status.idle": "2021-12-26T04:46:51.403396Z",
     "shell.execute_reply": "2021-12-26T04:46:51.404154Z",
     "shell.execute_reply.started": "2021-12-26T04:37:25.483400Z"
    },
    "papermill": {
     "duration": 0.547788,
     "end_time": "2021-12-26T04:46:51.404356",
     "exception": false,
     "start_time": "2021-12-26T04:46:50.856568",
     "status": "completed"
    },
    "tags": []
   },
   "outputs": [
    {
     "name": "stdout",
     "output_type": "stream",
     "text": [
      "              precision    recall  f1-score   support\n",
      "\n",
      "           0       0.90      0.67      0.77      4310\n",
      "           1       0.28      0.63      0.39       884\n",
      "\n",
      "    accuracy                           0.67      5194\n",
      "   macro avg       0.59      0.65      0.58      5194\n",
      "weighted avg       0.79      0.67      0.71      5194\n",
      "\n"
     ]
    }
   ],
   "source": [
    "# classification report\n",
    "\n",
    "print(classification_report(y_test, y_pred))"
   ]
  },
  {
   "cell_type": "markdown",
   "id": "54cfc4fd",
   "metadata": {
    "papermill": {
     "duration": 0.148139,
     "end_time": "2021-12-26T04:46:51.709458",
     "exception": false,
     "start_time": "2021-12-26T04:46:51.561319",
     "status": "completed"
    },
    "tags": []
   },
   "source": [
    "# Model 11 - Extreme Gradient Boosting"
   ]
  },
  {
   "cell_type": "code",
   "execution_count": 100,
   "id": "3cdaae62",
   "metadata": {
    "execution": {
     "iopub.execute_input": "2021-12-26T04:46:52.013246Z",
     "iopub.status.busy": "2021-12-26T04:46:52.012148Z",
     "iopub.status.idle": "2021-12-26T04:46:53.890948Z",
     "shell.execute_reply": "2021-12-26T04:46:53.890030Z",
     "shell.execute_reply.started": "2021-12-26T04:37:25.677327Z"
    },
    "papermill": {
     "duration": 2.033748,
     "end_time": "2021-12-26T04:46:53.891111",
     "exception": false,
     "start_time": "2021-12-26T04:46:51.857363",
     "status": "completed"
    },
    "tags": []
   },
   "outputs": [
    {
     "name": "stdout",
     "output_type": "stream",
     "text": [
      "[04:46:52] WARNING: ../src/learner.cc:1115: Starting in XGBoost 1.3.0, the default evaluation metric used with the objective 'binary:logistic' was changed from 'error' to 'logloss'. Explicitly set eval_metric if you'd like to restore the old behavior.\n"
     ]
    },
    {
     "data": {
      "text/plain": [
       "XGBClassifier(base_score=0.5, booster='gbtree', colsample_bylevel=1,\n",
       "              colsample_bynode=1, colsample_bytree=1, enable_categorical=False,\n",
       "              gamma=0, gpu_id=-1, importance_type=None,\n",
       "              interaction_constraints='', learning_rate=0.25, max_delta_step=0,\n",
       "              max_depth=3, min_child_weight=1, missing=nan,\n",
       "              monotone_constraints='()', n_estimators=150, n_jobs=4,\n",
       "              num_parallel_tree=1, predictor='auto', random_state=0,\n",
       "              reg_alpha=0, reg_lambda=1, scale_pos_weight=1, subsample=1,\n",
       "              tree_method='exact', validate_parameters=1, verbosity=None)"
      ]
     },
     "execution_count": 100,
     "metadata": {},
     "output_type": "execute_result"
    }
   ],
   "source": [
    "from xgboost import XGBClassifier \n",
    "\n",
    "xgb = XGBClassifier(objective = 'binary:logistic', learning_rate = 0.25, max_depth = 3, n_estimators = 150)\n",
    "\n",
    "xgb.fit(X_train, y_train)"
   ]
  },
  {
   "cell_type": "code",
   "execution_count": 101,
   "id": "6cbde5d6",
   "metadata": {
    "execution": {
     "iopub.execute_input": "2021-12-26T04:46:54.189107Z",
     "iopub.status.busy": "2021-12-26T04:46:54.187438Z",
     "iopub.status.idle": "2021-12-26T04:46:54.200054Z",
     "shell.execute_reply": "2021-12-26T04:46:54.200606Z",
     "shell.execute_reply.started": "2021-12-26T04:37:27.470618Z"
    },
    "papermill": {
     "duration": 0.161726,
     "end_time": "2021-12-26T04:46:54.200847",
     "exception": false,
     "start_time": "2021-12-26T04:46:54.039121",
     "status": "completed"
    },
    "tags": []
   },
   "outputs": [],
   "source": [
    "y_pred = xgb.predict(X_test)"
   ]
  },
  {
   "cell_type": "code",
   "execution_count": 102,
   "id": "45842738",
   "metadata": {
    "execution": {
     "iopub.execute_input": "2021-12-26T04:46:54.501895Z",
     "iopub.status.busy": "2021-12-26T04:46:54.500862Z",
     "iopub.status.idle": "2021-12-26T04:46:54.995727Z",
     "shell.execute_reply": "2021-12-26T04:46:54.996851Z",
     "shell.execute_reply.started": "2021-12-26T04:37:27.486813Z"
    },
    "papermill": {
     "duration": 0.650689,
     "end_time": "2021-12-26T04:46:54.997153",
     "exception": false,
     "start_time": "2021-12-26T04:46:54.346464",
     "status": "completed"
    },
    "tags": []
   },
   "outputs": [
    {
     "name": "stdout",
     "output_type": "stream",
     "text": [
      "0.7924510542168675\n",
      "0.36632891660171474\n"
     ]
    }
   ],
   "source": [
    "#F1 score\n",
    "print(f1_score(y_train, xgb.predict(X_train),pos_label='1'))\n",
    "xgb_f1 = f1_score(y_test, xgb.predict(X_test),pos_label='1')\n",
    "print(xgb_f1)"
   ]
  },
  {
   "cell_type": "code",
   "execution_count": 103,
   "id": "0432eb77",
   "metadata": {
    "execution": {
     "iopub.execute_input": "2021-12-26T04:46:55.290559Z",
     "iopub.status.busy": "2021-12-26T04:46:55.289585Z",
     "iopub.status.idle": "2021-12-26T04:46:55.337899Z",
     "shell.execute_reply": "2021-12-26T04:46:55.338477Z",
     "shell.execute_reply.started": "2021-12-26T04:37:27.777146Z"
    },
    "papermill": {
     "duration": 0.19543,
     "end_time": "2021-12-26T04:46:55.338675",
     "exception": false,
     "start_time": "2021-12-26T04:46:55.143245",
     "status": "completed"
    },
    "tags": []
   },
   "outputs": [
    {
     "name": "stdout",
     "output_type": "stream",
     "text": [
      "[[3098 1212]\n",
      " [ 414  470]]\n"
     ]
    }
   ],
   "source": [
    "# confusion matrix\n",
    "\n",
    "print(confusion_matrix(y_test, y_pred))"
   ]
  },
  {
   "cell_type": "code",
   "execution_count": 104,
   "id": "334a03d2",
   "metadata": {
    "execution": {
     "iopub.execute_input": "2021-12-26T04:46:55.633265Z",
     "iopub.status.busy": "2021-12-26T04:46:55.632558Z",
     "iopub.status.idle": "2021-12-26T04:46:56.018180Z",
     "shell.execute_reply": "2021-12-26T04:46:56.018943Z",
     "shell.execute_reply.started": "2021-12-26T04:37:27.811233Z"
    },
    "papermill": {
     "duration": 0.535461,
     "end_time": "2021-12-26T04:46:56.019198",
     "exception": false,
     "start_time": "2021-12-26T04:46:55.483737",
     "status": "completed"
    },
    "tags": []
   },
   "outputs": [
    {
     "name": "stdout",
     "output_type": "stream",
     "text": [
      "              precision    recall  f1-score   support\n",
      "\n",
      "           0       0.88      0.72      0.79      4310\n",
      "           1       0.28      0.53      0.37       884\n",
      "\n",
      "    accuracy                           0.69      5194\n",
      "   macro avg       0.58      0.63      0.58      5194\n",
      "weighted avg       0.78      0.69      0.72      5194\n",
      "\n"
     ]
    }
   ],
   "source": [
    "# classification report\n",
    "\n",
    "print(classification_report(y_test, y_pred))"
   ]
  },
  {
   "cell_type": "markdown",
   "id": "b924891b",
   "metadata": {
    "papermill": {
     "duration": 0.15002,
     "end_time": "2021-12-26T04:46:56.325242",
     "exception": false,
     "start_time": "2021-12-26T04:46:56.175222",
     "status": "completed"
    },
    "tags": []
   },
   "source": [
    "# Model 12 - Gaussian Naives Bayes"
   ]
  },
  {
   "cell_type": "code",
   "execution_count": 105,
   "id": "aa205c42",
   "metadata": {
    "execution": {
     "iopub.execute_input": "2021-12-26T04:46:56.632754Z",
     "iopub.status.busy": "2021-12-26T04:46:56.632019Z",
     "iopub.status.idle": "2021-12-26T04:46:56.710989Z",
     "shell.execute_reply": "2021-12-26T04:46:56.710338Z",
     "shell.execute_reply.started": "2021-12-26T04:37:27.999563Z"
    },
    "papermill": {
     "duration": 0.233448,
     "end_time": "2021-12-26T04:46:56.711203",
     "exception": false,
     "start_time": "2021-12-26T04:46:56.477755",
     "status": "completed"
    },
    "tags": []
   },
   "outputs": [],
   "source": [
    "from sklearn.naive_bayes import GaussianNB\n",
    "gnb = GaussianNB()\n",
    "y_pred = gnb.fit(X_train, y_train).predict(X_test)"
   ]
  },
  {
   "cell_type": "code",
   "execution_count": 106,
   "id": "bb04511e",
   "metadata": {
    "execution": {
     "iopub.execute_input": "2021-12-26T04:46:57.050919Z",
     "iopub.status.busy": "2021-12-26T04:46:57.050214Z",
     "iopub.status.idle": "2021-12-26T04:46:57.403534Z",
     "shell.execute_reply": "2021-12-26T04:46:57.402392Z",
     "shell.execute_reply.started": "2021-12-26T04:37:28.048376Z"
    },
    "papermill": {
     "duration": 0.51221,
     "end_time": "2021-12-26T04:46:57.403832",
     "exception": false,
     "start_time": "2021-12-26T04:46:56.891622",
     "status": "completed"
    },
    "tags": []
   },
   "outputs": [
    {
     "name": "stdout",
     "output_type": "stream",
     "text": [
      "0.6335616438356164\n",
      "0.37196391394864675\n"
     ]
    }
   ],
   "source": [
    "print(f1_score(y_train, gnb.predict(X_train),pos_label='1'))\n",
    "gnb_f1 = f1_score(y_test, gnb.predict(X_test),pos_label='1')\n",
    "print(gnb_f1)"
   ]
  },
  {
   "cell_type": "code",
   "execution_count": 107,
   "id": "9d60dd56",
   "metadata": {
    "execution": {
     "iopub.execute_input": "2021-12-26T04:46:57.708548Z",
     "iopub.status.busy": "2021-12-26T04:46:57.707494Z",
     "iopub.status.idle": "2021-12-26T04:46:57.743944Z",
     "shell.execute_reply": "2021-12-26T04:46:57.744854Z",
     "shell.execute_reply.started": "2021-12-26T04:37:28.232702Z"
    },
    "papermill": {
     "duration": 0.195332,
     "end_time": "2021-12-26T04:46:57.745220",
     "exception": false,
     "start_time": "2021-12-26T04:46:57.549888",
     "status": "completed"
    },
    "tags": []
   },
   "outputs": [
    {
     "name": "stdout",
     "output_type": "stream",
     "text": [
      "[[2848 1462]\n",
      " [ 348  536]]\n"
     ]
    }
   ],
   "source": [
    "# confusion matrix\n",
    "\n",
    "print(confusion_matrix(y_test, y_pred))"
   ]
  },
  {
   "cell_type": "code",
   "execution_count": 108,
   "id": "f762f852",
   "metadata": {
    "execution": {
     "iopub.execute_input": "2021-12-26T04:46:58.048549Z",
     "iopub.status.busy": "2021-12-26T04:46:58.047860Z",
     "iopub.status.idle": "2021-12-26T04:46:58.324493Z",
     "shell.execute_reply": "2021-12-26T04:46:58.325109Z",
     "shell.execute_reply.started": "2021-12-26T04:37:28.261207Z"
    },
    "papermill": {
     "duration": 0.430557,
     "end_time": "2021-12-26T04:46:58.325316",
     "exception": false,
     "start_time": "2021-12-26T04:46:57.894759",
     "status": "completed"
    },
    "tags": []
   },
   "outputs": [
    {
     "name": "stdout",
     "output_type": "stream",
     "text": [
      "              precision    recall  f1-score   support\n",
      "\n",
      "           0       0.89      0.66      0.76      4310\n",
      "           1       0.27      0.61      0.37       884\n",
      "\n",
      "    accuracy                           0.65      5194\n",
      "   macro avg       0.58      0.63      0.57      5194\n",
      "weighted avg       0.79      0.65      0.69      5194\n",
      "\n"
     ]
    }
   ],
   "source": [
    "# classification report\n",
    "\n",
    "print(classification_report(y_test, y_pred))"
   ]
  },
  {
   "cell_type": "markdown",
   "id": "428defd8",
   "metadata": {
    "papermill": {
     "duration": 0.152811,
     "end_time": "2021-12-26T04:46:58.627514",
     "exception": false,
     "start_time": "2021-12-26T04:46:58.474703",
     "status": "completed"
    },
    "tags": []
   },
   "source": [
    "# F-measure Score of 12 Classification Algorithm"
   ]
  },
  {
   "cell_type": "code",
   "execution_count": 109,
   "id": "b0b2fcdc",
   "metadata": {
    "execution": {
     "iopub.execute_input": "2021-12-26T04:46:58.934311Z",
     "iopub.status.busy": "2021-12-26T04:46:58.933532Z",
     "iopub.status.idle": "2021-12-26T04:46:58.949506Z",
     "shell.execute_reply": "2021-12-26T04:46:58.948813Z",
     "shell.execute_reply.started": "2021-12-26T04:37:28.403740Z"
    },
    "papermill": {
     "duration": 0.170759,
     "end_time": "2021-12-26T04:46:58.949668",
     "exception": false,
     "start_time": "2021-12-26T04:46:58.778909",
     "status": "completed"
    },
    "tags": []
   },
   "outputs": [
    {
     "data": {
      "text/html": [
       "<div>\n",
       "<style scoped>\n",
       "    .dataframe tbody tr th:only-of-type {\n",
       "        vertical-align: middle;\n",
       "    }\n",
       "\n",
       "    .dataframe tbody tr th {\n",
       "        vertical-align: top;\n",
       "    }\n",
       "\n",
       "    .dataframe thead th {\n",
       "        text-align: right;\n",
       "    }\n",
       "</style>\n",
       "<table border=\"1\" class=\"dataframe\">\n",
       "  <thead>\n",
       "    <tr style=\"text-align: right;\">\n",
       "      <th></th>\n",
       "      <th>Model</th>\n",
       "      <th>F1 Score</th>\n",
       "    </tr>\n",
       "  </thead>\n",
       "  <tbody>\n",
       "    <tr>\n",
       "      <th>9</th>\n",
       "      <td>Stochastic Gradient Boosting</td>\n",
       "      <td>0.391564</td>\n",
       "    </tr>\n",
       "    <tr>\n",
       "      <th>8</th>\n",
       "      <td>Gradient Boosting Classifier</td>\n",
       "      <td>0.382536</td>\n",
       "    </tr>\n",
       "    <tr>\n",
       "      <th>11</th>\n",
       "      <td>GaussianNB</td>\n",
       "      <td>0.371964</td>\n",
       "    </tr>\n",
       "    <tr>\n",
       "      <th>6</th>\n",
       "      <td>Voting Classifier</td>\n",
       "      <td>0.371512</td>\n",
       "    </tr>\n",
       "    <tr>\n",
       "      <th>0</th>\n",
       "      <td>Logistic Regression</td>\n",
       "      <td>0.369210</td>\n",
       "    </tr>\n",
       "    <tr>\n",
       "      <th>3</th>\n",
       "      <td>SGD Classifier</td>\n",
       "      <td>0.369099</td>\n",
       "    </tr>\n",
       "    <tr>\n",
       "      <th>2</th>\n",
       "      <td>SVC</td>\n",
       "      <td>0.368143</td>\n",
       "    </tr>\n",
       "    <tr>\n",
       "      <th>7</th>\n",
       "      <td>Ada Boost Classifier</td>\n",
       "      <td>0.367824</td>\n",
       "    </tr>\n",
       "    <tr>\n",
       "      <th>5</th>\n",
       "      <td>Random Forest Classifier</td>\n",
       "      <td>0.367793</td>\n",
       "    </tr>\n",
       "    <tr>\n",
       "      <th>10</th>\n",
       "      <td>XgBoost</td>\n",
       "      <td>0.366329</td>\n",
       "    </tr>\n",
       "    <tr>\n",
       "      <th>4</th>\n",
       "      <td>Decision Tree Classifier</td>\n",
       "      <td>0.354704</td>\n",
       "    </tr>\n",
       "    <tr>\n",
       "      <th>1</th>\n",
       "      <td>KNN</td>\n",
       "      <td>0.287006</td>\n",
       "    </tr>\n",
       "  </tbody>\n",
       "</table>\n",
       "</div>"
      ],
      "text/plain": [
       "                           Model  F1 Score\n",
       "9   Stochastic Gradient Boosting  0.391564\n",
       "8   Gradient Boosting Classifier  0.382536\n",
       "11                    GaussianNB  0.371964\n",
       "6              Voting Classifier  0.371512\n",
       "0            Logistic Regression  0.369210\n",
       "3                 SGD Classifier  0.369099\n",
       "2                            SVC  0.368143\n",
       "7           Ada Boost Classifier  0.367824\n",
       "5       Random Forest Classifier  0.367793\n",
       "10                       XgBoost  0.366329\n",
       "4       Decision Tree Classifier  0.354704\n",
       "1                            KNN  0.287006"
      ]
     },
     "execution_count": 109,
     "metadata": {},
     "output_type": "execute_result"
    }
   ],
   "source": [
    "models = pd.DataFrame({\n",
    "    'Model': ['Logistic Regression', 'KNN', 'SVC', 'SGD Classifier', 'Decision Tree Classifier', 'Random Forest Classifier', 'Voting Classifier', 'Ada Boost Classifier',\n",
    "             'Gradient Boosting Classifier', 'Stochastic Gradient Boosting', 'XgBoost',\n",
    "             'GaussianNB'],\n",
    "    'F1 Score': [log_reg_f1, knn_f1, svc_f1, sgd_f1, dtc_f1, rand_clf_f1, vc_f1, ada_f1, gbc_f1, sgbc_f1, xgb_f1,gnb_f1]\n",
    "})\n",
    "\n",
    "models.sort_values(by = 'F1 Score', ascending = False)"
   ]
  },
  {
   "cell_type": "markdown",
   "id": "908507ca",
   "metadata": {
    "papermill": {
     "duration": 0.147018,
     "end_time": "2021-12-26T04:46:59.247030",
     "exception": false,
     "start_time": "2021-12-26T04:46:59.100012",
     "status": "completed"
    },
    "tags": []
   },
   "source": [
    "# Predicting Test Set with Stochastic Gradient Boosting"
   ]
  },
  {
   "cell_type": "code",
   "execution_count": 110,
   "id": "8d1600fb",
   "metadata": {
    "execution": {
     "iopub.execute_input": "2021-12-26T04:46:59.549607Z",
     "iopub.status.busy": "2021-12-26T04:46:59.548929Z",
     "iopub.status.idle": "2021-12-26T04:46:59.625500Z",
     "shell.execute_reply": "2021-12-26T04:46:59.626038Z",
     "shell.execute_reply.started": "2021-12-26T04:37:28.422257Z"
    },
    "papermill": {
     "duration": 0.23314,
     "end_time": "2021-12-26T04:46:59.626245",
     "exception": false,
     "start_time": "2021-12-26T04:46:59.393105",
     "status": "completed"
    },
    "tags": []
   },
   "outputs": [],
   "source": [
    "test = pd.read_csv('../input/2021-uofmn-travelers-modeling-competition/test_2021.csv')"
   ]
  },
  {
   "cell_type": "code",
   "execution_count": 111,
   "id": "b82afee1",
   "metadata": {
    "execution": {
     "iopub.execute_input": "2021-12-26T04:46:59.945550Z",
     "iopub.status.busy": "2021-12-26T04:46:59.944607Z",
     "iopub.status.idle": "2021-12-26T04:46:59.954407Z",
     "shell.execute_reply": "2021-12-26T04:46:59.953836Z",
     "shell.execute_reply.started": "2021-12-26T04:37:28.489070Z"
    },
    "papermill": {
     "duration": 0.174615,
     "end_time": "2021-12-26T04:46:59.954567",
     "exception": false,
     "start_time": "2021-12-26T04:46:59.779952",
     "status": "completed"
    },
    "tags": []
   },
   "outputs": [],
   "source": [
    "test['marital_status'] = test['marital_status'].fillna(test['marital_status'].mode()[0])\n",
    "test['witness_present_ind'] = test['witness_present_ind'].fillna(test['witness_present_ind'].mode()[0])\n",
    "test['claim_est_payout'] = test['claim_est_payout'].fillna(test['claim_est_payout'].mode()[0])\n",
    "test['age_of_vehicle'] = test['age_of_vehicle'].fillna(test['age_of_vehicle'].mode()[0])"
   ]
  },
  {
   "cell_type": "code",
   "execution_count": 112,
   "id": "56527aa6",
   "metadata": {
    "execution": {
     "iopub.execute_input": "2021-12-26T04:47:00.271187Z",
     "iopub.status.busy": "2021-12-26T04:47:00.270483Z",
     "iopub.status.idle": "2021-12-26T04:47:00.324014Z",
     "shell.execute_reply": "2021-12-26T04:47:00.323436Z",
     "shell.execute_reply.started": "2021-12-26T04:37:28.504036Z"
    },
    "papermill": {
     "duration": 0.212175,
     "end_time": "2021-12-26T04:47:00.324183",
     "exception": false,
     "start_time": "2021-12-26T04:47:00.112008",
     "status": "completed"
    },
    "tags": []
   },
   "outputs": [],
   "source": [
    "test['witness_present_ind']=test['witness_present_ind'].astype(int)\n",
    "test['marital_status']=test['marital_status'].astype(int)\n",
    "test['claim_number']=test['claim_number'].astype(str)\n",
    "test['annual_income']=test['annual_income'].astype(float)\n",
    "test['zip_code']=test['zip_code'].astype(str)\n",
    "test['gender'] = test['gender'].astype('category')\n",
    "test['living_status'] = test['living_status'].astype('category')\n",
    "test['accident_site'] = test['accident_site'].astype('category')\n",
    "test['channel'] = test['channel'].astype('category')\n",
    "test['vehicle_category'] = test['vehicle_category'].astype('category')"
   ]
  },
  {
   "cell_type": "code",
   "execution_count": 113,
   "id": "5c1a1f15",
   "metadata": {
    "execution": {
     "iopub.execute_input": "2021-12-26T04:47:00.629477Z",
     "iopub.status.busy": "2021-12-26T04:47:00.628793Z",
     "iopub.status.idle": "2021-12-26T04:47:00.652378Z",
     "shell.execute_reply": "2021-12-26T04:47:00.652897Z",
     "shell.execute_reply.started": "2021-12-26T04:37:28.544217Z"
    },
    "papermill": {
     "duration": 0.178866,
     "end_time": "2021-12-26T04:47:00.653092",
     "exception": false,
     "start_time": "2021-12-26T04:47:00.474226",
     "status": "completed"
    },
    "tags": []
   },
   "outputs": [
    {
     "name": "stdout",
     "output_type": "stream",
     "text": [
      "<class 'pandas.core.frame.DataFrame'>\n",
      "RangeIndex: 12002 entries, 0 to 12001\n",
      "Data columns (total 24 columns):\n",
      " #   Column                   Non-Null Count  Dtype   \n",
      "---  ------                   --------------  -----   \n",
      " 0   claim_number             12002 non-null  object  \n",
      " 1   age_of_driver            12002 non-null  int64   \n",
      " 2   gender                   12002 non-null  category\n",
      " 3   marital_status           12002 non-null  int64   \n",
      " 4   safty_rating             12002 non-null  int64   \n",
      " 5   annual_income            12002 non-null  float64 \n",
      " 6   high_education_ind       12002 non-null  int64   \n",
      " 7   address_change_ind       12002 non-null  int64   \n",
      " 8   living_status            12002 non-null  category\n",
      " 9   zip_code                 12002 non-null  object  \n",
      " 10  claim_date               12002 non-null  object  \n",
      " 11  claim_day_of_week        12002 non-null  object  \n",
      " 12  accident_site            12002 non-null  category\n",
      " 13  past_num_of_claims       12002 non-null  int64   \n",
      " 14  witness_present_ind      12002 non-null  int64   \n",
      " 15  liab_prct                12002 non-null  int64   \n",
      " 16  channel                  12002 non-null  category\n",
      " 17  policy_report_filed_ind  12002 non-null  int64   \n",
      " 18  claim_est_payout         12002 non-null  float64 \n",
      " 19  age_of_vehicle           12002 non-null  float64 \n",
      " 20  vehicle_category         12002 non-null  category\n",
      " 21  vehicle_price            12002 non-null  float64 \n",
      " 22  vehicle_color            12002 non-null  object  \n",
      " 23  vehicle_weight           12002 non-null  float64 \n",
      "dtypes: category(5), float64(5), int64(9), object(5)\n",
      "memory usage: 1.8+ MB\n"
     ]
    }
   ],
   "source": [
    "test.info()"
   ]
  },
  {
   "cell_type": "code",
   "execution_count": 114,
   "id": "55db85a7",
   "metadata": {
    "execution": {
     "iopub.execute_input": "2021-12-26T04:47:00.965117Z",
     "iopub.status.busy": "2021-12-26T04:47:00.964368Z",
     "iopub.status.idle": "2021-12-26T04:47:00.969375Z",
     "shell.execute_reply": "2021-12-26T04:47:00.968790Z",
     "shell.execute_reply.started": "2021-12-26T04:37:28.565914Z"
    },
    "papermill": {
     "duration": 0.162365,
     "end_time": "2021-12-26T04:47:00.969519",
     "exception": false,
     "start_time": "2021-12-26T04:47:00.807154",
     "status": "completed"
    },
    "tags": []
   },
   "outputs": [
    {
     "data": {
      "text/plain": [
       "(12002, 24)"
      ]
     },
     "execution_count": 114,
     "metadata": {},
     "output_type": "execute_result"
    }
   ],
   "source": [
    "test.shape"
   ]
  },
  {
   "cell_type": "code",
   "execution_count": 115,
   "id": "2f6b0c34",
   "metadata": {
    "execution": {
     "iopub.execute_input": "2021-12-26T04:47:01.273919Z",
     "iopub.status.busy": "2021-12-26T04:47:01.273221Z",
     "iopub.status.idle": "2021-12-26T04:47:01.276159Z",
     "shell.execute_reply": "2021-12-26T04:47:01.275500Z",
     "shell.execute_reply.started": "2021-12-26T04:37:28.574858Z"
    },
    "papermill": {
     "duration": 0.159305,
     "end_time": "2021-12-26T04:47:01.276307",
     "exception": false,
     "start_time": "2021-12-26T04:47:01.117002",
     "status": "completed"
    },
    "tags": []
   },
   "outputs": [],
   "source": [
    "to_drop = ['claim_number','zip_code','claim_date','claim_day_of_week','vehicle_color']\n",
    "\n",
    "test.drop(to_drop, inplace = True, axis = 1)\n",
    "#Dropping the variable which we assumed is pointless in prediction so we could run our algorithm faster."
   ]
  },
  {
   "cell_type": "code",
   "execution_count": 116,
   "id": "fe4aae76",
   "metadata": {
    "execution": {
     "iopub.execute_input": "2021-12-26T04:47:01.580558Z",
     "iopub.status.busy": "2021-12-26T04:47:01.579904Z",
     "iopub.status.idle": "2021-12-26T04:47:02.386641Z",
     "shell.execute_reply": "2021-12-26T04:47:02.387165Z",
     "shell.execute_reply.started": "2021-12-26T04:37:28.590322Z"
    },
    "papermill": {
     "duration": 0.963801,
     "end_time": "2021-12-26T04:47:02.387343",
     "exception": false,
     "start_time": "2021-12-26T04:47:01.423542",
     "status": "completed"
    },
    "tags": []
   },
   "outputs": [
    {
     "data": {
      "image/png": "[encoded data removed]",
      "text/plain": [
       "<Figure size 1296x864 with 2 Axes>"
      ]
     },
     "metadata": {},
     "output_type": "display_data"
    }
   ],
   "source": [
    "plt.figure(figsize = (18, 12))\n",
    "\n",
    "corr = test.corr()\n",
    "mask = np.triu(np.ones_like(corr, dtype = bool))\n",
    "\n",
    "sns.heatmap(data = corr, mask = mask, annot = True, fmt = '.2g', linewidth = 1)\n",
    "plt.show()\n",
    "#Check for multicollinearity"
   ]
  },
  {
   "cell_type": "code",
   "execution_count": 117,
   "id": "c11871f8",
   "metadata": {
    "execution": {
     "iopub.execute_input": "2021-12-26T04:47:02.698630Z",
     "iopub.status.busy": "2021-12-26T04:47:02.697593Z",
     "iopub.status.idle": "2021-12-26T04:47:02.703626Z",
     "shell.execute_reply": "2021-12-26T04:47:02.704304Z",
     "shell.execute_reply.started": "2021-12-26T04:37:29.385618Z"
    },
    "papermill": {
     "duration": 0.164185,
     "end_time": "2021-12-26T04:47:02.704483",
     "exception": false,
     "start_time": "2021-12-26T04:47:02.540298",
     "status": "completed"
    },
    "tags": []
   },
   "outputs": [],
   "source": [
    "test.drop(columns = ['age_of_driver'], inplace = True, axis = 1)"
   ]
  },
  {
   "cell_type": "code",
   "execution_count": 118,
   "id": "0b3ed67c",
   "metadata": {
    "execution": {
     "iopub.execute_input": "2021-12-26T04:47:03.024095Z",
     "iopub.status.busy": "2021-12-26T04:47:03.023052Z",
     "iopub.status.idle": "2021-12-26T04:47:03.035639Z",
     "shell.execute_reply": "2021-12-26T04:47:03.036209Z",
     "shell.execute_reply.started": "2021-12-26T04:37:29.393383Z"
    },
    "papermill": {
     "duration": 0.173569,
     "end_time": "2021-12-26T04:47:03.036397",
     "exception": false,
     "start_time": "2021-12-26T04:47:02.862828",
     "status": "completed"
    },
    "tags": []
   },
   "outputs": [
    {
     "name": "stdout",
     "output_type": "stream",
     "text": [
      "<class 'pandas.core.frame.DataFrame'>\n",
      "RangeIndex: 12002 entries, 0 to 12001\n",
      "Data columns (total 18 columns):\n",
      " #   Column                   Non-Null Count  Dtype   \n",
      "---  ------                   --------------  -----   \n",
      " 0   gender                   12002 non-null  category\n",
      " 1   marital_status           12002 non-null  int64   \n",
      " 2   safty_rating             12002 non-null  int64   \n",
      " 3   annual_income            12002 non-null  float64 \n",
      " 4   high_education_ind       12002 non-null  int64   \n",
      " 5   address_change_ind       12002 non-null  int64   \n",
      " 6   living_status            12002 non-null  category\n",
      " 7   accident_site            12002 non-null  category\n",
      " 8   past_num_of_claims       12002 non-null  int64   \n",
      " 9   witness_present_ind      12002 non-null  int64   \n",
      " 10  liab_prct                12002 non-null  int64   \n",
      " 11  channel                  12002 non-null  category\n",
      " 12  policy_report_filed_ind  12002 non-null  int64   \n",
      " 13  claim_est_payout         12002 non-null  float64 \n",
      " 14  age_of_vehicle           12002 non-null  float64 \n",
      " 15  vehicle_category         12002 non-null  category\n",
      " 16  vehicle_price            12002 non-null  float64 \n",
      " 17  vehicle_weight           12002 non-null  float64 \n",
      "dtypes: category(5), float64(5), int64(8)\n",
      "memory usage: 1.2 MB\n"
     ]
    }
   ],
   "source": [
    "test.info()"
   ]
  },
  {
   "cell_type": "code",
   "execution_count": 119,
   "id": "60c110bc",
   "metadata": {
    "execution": {
     "iopub.execute_input": "2021-12-26T04:47:03.353521Z",
     "iopub.status.busy": "2021-12-26T04:47:03.352754Z",
     "iopub.status.idle": "2021-12-26T04:47:03.359259Z",
     "shell.execute_reply": "2021-12-26T04:47:03.358641Z",
     "shell.execute_reply.started": "2021-12-26T04:37:29.415441Z"
    },
    "papermill": {
     "duration": 0.164617,
     "end_time": "2021-12-26T04:47:03.359437",
     "exception": false,
     "start_time": "2021-12-26T04:47:03.194820",
     "status": "completed"
    },
    "tags": []
   },
   "outputs": [],
   "source": [
    "cat_test=test.select_dtypes(include = ['object','category'])"
   ]
  },
  {
   "cell_type": "code",
   "execution_count": 120,
   "id": "c4f684e2",
   "metadata": {
    "execution": {
     "iopub.execute_input": "2021-12-26T04:47:03.673965Z",
     "iopub.status.busy": "2021-12-26T04:47:03.673038Z",
     "iopub.status.idle": "2021-12-26T04:47:03.684533Z",
     "shell.execute_reply": "2021-12-26T04:47:03.685034Z",
     "shell.execute_reply.started": "2021-12-26T04:37:29.421678Z"
    },
    "papermill": {
     "duration": 0.171433,
     "end_time": "2021-12-26T04:47:03.685239",
     "exception": false,
     "start_time": "2021-12-26T04:47:03.513806",
     "status": "completed"
    },
    "tags": []
   },
   "outputs": [
    {
     "data": {
      "text/html": [
       "<div>\n",
       "<style scoped>\n",
       "    .dataframe tbody tr th:only-of-type {\n",
       "        vertical-align: middle;\n",
       "    }\n",
       "\n",
       "    .dataframe tbody tr th {\n",
       "        vertical-align: top;\n",
       "    }\n",
       "\n",
       "    .dataframe thead th {\n",
       "        text-align: right;\n",
       "    }\n",
       "</style>\n",
       "<table border=\"1\" class=\"dataframe\">\n",
       "  <thead>\n",
       "    <tr style=\"text-align: right;\">\n",
       "      <th></th>\n",
       "      <th>gender</th>\n",
       "      <th>living_status</th>\n",
       "      <th>accident_site</th>\n",
       "      <th>channel</th>\n",
       "      <th>vehicle_category</th>\n",
       "    </tr>\n",
       "  </thead>\n",
       "  <tbody>\n",
       "    <tr>\n",
       "      <th>0</th>\n",
       "      <td>M</td>\n",
       "      <td>Own</td>\n",
       "      <td>Highway</td>\n",
       "      <td>Phone</td>\n",
       "      <td>Large</td>\n",
       "    </tr>\n",
       "    <tr>\n",
       "      <th>1</th>\n",
       "      <td>M</td>\n",
       "      <td>Own</td>\n",
       "      <td>Highway</td>\n",
       "      <td>Broker</td>\n",
       "      <td>Large</td>\n",
       "    </tr>\n",
       "    <tr>\n",
       "      <th>2</th>\n",
       "      <td>F</td>\n",
       "      <td>Own</td>\n",
       "      <td>Parking Lot</td>\n",
       "      <td>Broker</td>\n",
       "      <td>Medium</td>\n",
       "    </tr>\n",
       "    <tr>\n",
       "      <th>3</th>\n",
       "      <td>M</td>\n",
       "      <td>Own</td>\n",
       "      <td>Local</td>\n",
       "      <td>Phone</td>\n",
       "      <td>Medium</td>\n",
       "    </tr>\n",
       "    <tr>\n",
       "      <th>4</th>\n",
       "      <td>F</td>\n",
       "      <td>Rent</td>\n",
       "      <td>Local</td>\n",
       "      <td>Online</td>\n",
       "      <td>Medium</td>\n",
       "    </tr>\n",
       "  </tbody>\n",
       "</table>\n",
       "</div>"
      ],
      "text/plain": [
       "  gender living_status accident_site channel vehicle_category\n",
       "0      M           Own       Highway   Phone            Large\n",
       "1      M           Own       Highway  Broker            Large\n",
       "2      F           Own   Parking Lot  Broker           Medium\n",
       "3      M           Own         Local   Phone           Medium\n",
       "4      F          Rent         Local  Online           Medium"
      ]
     },
     "execution_count": 120,
     "metadata": {},
     "output_type": "execute_result"
    }
   ],
   "source": [
    "cat_test.head()"
   ]
  },
  {
   "cell_type": "code",
   "execution_count": 121,
   "id": "8fe32dde",
   "metadata": {
    "execution": {
     "iopub.execute_input": "2021-12-26T04:47:04.016866Z",
     "iopub.status.busy": "2021-12-26T04:47:04.016066Z",
     "iopub.status.idle": "2021-12-26T04:47:04.026019Z",
     "shell.execute_reply": "2021-12-26T04:47:04.026678Z",
     "shell.execute_reply.started": "2021-12-26T04:37:29.441576Z"
    },
    "papermill": {
     "duration": 0.178554,
     "end_time": "2021-12-26T04:47:04.026857",
     "exception": false,
     "start_time": "2021-12-26T04:47:03.848303",
     "status": "completed"
    },
    "tags": []
   },
   "outputs": [
    {
     "name": "stdout",
     "output_type": "stream",
     "text": [
      "gender: \n",
      "['M', 'F']\n",
      "Categories (2, object): ['F', 'M']\n",
      "\n",
      "living_status: \n",
      "['Own', 'Rent']\n",
      "Categories (2, object): ['Own', 'Rent']\n",
      "\n",
      "accident_site: \n",
      "['Highway', 'Parking Lot', 'Local']\n",
      "Categories (3, object): ['Highway', 'Local', 'Parking Lot']\n",
      "\n",
      "channel: \n",
      "['Phone', 'Broker', 'Online']\n",
      "Categories (3, object): ['Broker', 'Online', 'Phone']\n",
      "\n",
      "vehicle_category: \n",
      "['Large', 'Medium', 'Compact']\n",
      "Categories (3, object): ['Compact', 'Large', 'Medium']\n",
      "\n"
     ]
    }
   ],
   "source": [
    "for col in cat_test.columns:\n",
    "    print(f\"{col}: \\n{cat_test[col].unique()}\\n\")"
   ]
  },
  {
   "cell_type": "code",
   "execution_count": 122,
   "id": "440caeb7",
   "metadata": {
    "execution": {
     "iopub.execute_input": "2021-12-26T04:47:04.342003Z",
     "iopub.status.busy": "2021-12-26T04:47:04.341329Z",
     "iopub.status.idle": "2021-12-26T04:47:04.350752Z",
     "shell.execute_reply": "2021-12-26T04:47:04.351408Z",
     "shell.execute_reply.started": "2021-12-26T04:37:29.454192Z"
    },
    "papermill": {
     "duration": 0.168028,
     "end_time": "2021-12-26T04:47:04.351585",
     "exception": false,
     "start_time": "2021-12-26T04:47:04.183557",
     "status": "completed"
    },
    "tags": []
   },
   "outputs": [],
   "source": [
    "cat_test = pd.get_dummies(cat_test, drop_first = True)"
   ]
  },
  {
   "cell_type": "code",
   "execution_count": 123,
   "id": "6e688e2f",
   "metadata": {
    "execution": {
     "iopub.execute_input": "2021-12-26T04:47:04.660888Z",
     "iopub.status.busy": "2021-12-26T04:47:04.660115Z",
     "iopub.status.idle": "2021-12-26T04:47:04.671450Z",
     "shell.execute_reply": "2021-12-26T04:47:04.672058Z",
     "shell.execute_reply.started": "2021-12-26T04:37:29.466403Z"
    },
    "papermill": {
     "duration": 0.166913,
     "end_time": "2021-12-26T04:47:04.672232",
     "exception": false,
     "start_time": "2021-12-26T04:47:04.505319",
     "status": "completed"
    },
    "tags": []
   },
   "outputs": [
    {
     "data": {
      "text/html": [
       "<div>\n",
       "<style scoped>\n",
       "    .dataframe tbody tr th:only-of-type {\n",
       "        vertical-align: middle;\n",
       "    }\n",
       "\n",
       "    .dataframe tbody tr th {\n",
       "        vertical-align: top;\n",
       "    }\n",
       "\n",
       "    .dataframe thead th {\n",
       "        text-align: right;\n",
       "    }\n",
       "</style>\n",
       "<table border=\"1\" class=\"dataframe\">\n",
       "  <thead>\n",
       "    <tr style=\"text-align: right;\">\n",
       "      <th></th>\n",
       "      <th>gender_M</th>\n",
       "      <th>living_status_Rent</th>\n",
       "      <th>accident_site_Local</th>\n",
       "      <th>accident_site_Parking Lot</th>\n",
       "      <th>channel_Online</th>\n",
       "      <th>channel_Phone</th>\n",
       "      <th>vehicle_category_Large</th>\n",
       "      <th>vehicle_category_Medium</th>\n",
       "    </tr>\n",
       "  </thead>\n",
       "  <tbody>\n",
       "    <tr>\n",
       "      <th>0</th>\n",
       "      <td>1</td>\n",
       "      <td>0</td>\n",
       "      <td>0</td>\n",
       "      <td>0</td>\n",
       "      <td>0</td>\n",
       "      <td>1</td>\n",
       "      <td>1</td>\n",
       "      <td>0</td>\n",
       "    </tr>\n",
       "    <tr>\n",
       "      <th>1</th>\n",
       "      <td>1</td>\n",
       "      <td>0</td>\n",
       "      <td>0</td>\n",
       "      <td>0</td>\n",
       "      <td>0</td>\n",
       "      <td>0</td>\n",
       "      <td>1</td>\n",
       "      <td>0</td>\n",
       "    </tr>\n",
       "    <tr>\n",
       "      <th>2</th>\n",
       "      <td>0</td>\n",
       "      <td>0</td>\n",
       "      <td>0</td>\n",
       "      <td>1</td>\n",
       "      <td>0</td>\n",
       "      <td>0</td>\n",
       "      <td>0</td>\n",
       "      <td>1</td>\n",
       "    </tr>\n",
       "    <tr>\n",
       "      <th>3</th>\n",
       "      <td>1</td>\n",
       "      <td>0</td>\n",
       "      <td>1</td>\n",
       "      <td>0</td>\n",
       "      <td>0</td>\n",
       "      <td>1</td>\n",
       "      <td>0</td>\n",
       "      <td>1</td>\n",
       "    </tr>\n",
       "    <tr>\n",
       "      <th>4</th>\n",
       "      <td>0</td>\n",
       "      <td>1</td>\n",
       "      <td>1</td>\n",
       "      <td>0</td>\n",
       "      <td>1</td>\n",
       "      <td>0</td>\n",
       "      <td>0</td>\n",
       "      <td>1</td>\n",
       "    </tr>\n",
       "  </tbody>\n",
       "</table>\n",
       "</div>"
      ],
      "text/plain": [
       "   gender_M  living_status_Rent  accident_site_Local  \\\n",
       "0         1                   0                    0   \n",
       "1         1                   0                    0   \n",
       "2         0                   0                    0   \n",
       "3         1                   0                    1   \n",
       "4         0                   1                    1   \n",
       "\n",
       "   accident_site_Parking Lot  channel_Online  channel_Phone  \\\n",
       "0                          0               0              1   \n",
       "1                          0               0              0   \n",
       "2                          1               0              0   \n",
       "3                          0               0              1   \n",
       "4                          0               1              0   \n",
       "\n",
       "   vehicle_category_Large  vehicle_category_Medium  \n",
       "0                       1                        0  \n",
       "1                       1                        0  \n",
       "2                       0                        1  \n",
       "3                       0                        1  \n",
       "4                       0                        1  "
      ]
     },
     "execution_count": 123,
     "metadata": {},
     "output_type": "execute_result"
    }
   ],
   "source": [
    "cat_test.head()"
   ]
  },
  {
   "cell_type": "code",
   "execution_count": 124,
   "id": "a37be752",
   "metadata": {
    "execution": {
     "iopub.execute_input": "2021-12-26T04:47:05.007527Z",
     "iopub.status.busy": "2021-12-26T04:47:05.006792Z",
     "iopub.status.idle": "2021-12-26T04:47:05.013712Z",
     "shell.execute_reply": "2021-12-26T04:47:05.014231Z",
     "shell.execute_reply.started": "2021-12-26T04:37:29.480479Z"
    },
    "papermill": {
     "duration": 0.18005,
     "end_time": "2021-12-26T04:47:05.014444",
     "exception": false,
     "start_time": "2021-12-26T04:47:04.834394",
     "status": "completed"
    },
    "tags": []
   },
   "outputs": [],
   "source": [
    "num_test = test.select_dtypes(include = [('int64'),('float64')])"
   ]
  },
  {
   "cell_type": "code",
   "execution_count": 125,
   "id": "1c76b66d",
   "metadata": {
    "execution": {
     "iopub.execute_input": "2021-12-26T04:47:05.336316Z",
     "iopub.status.busy": "2021-12-26T04:47:05.335318Z",
     "iopub.status.idle": "2021-12-26T04:47:05.350304Z",
     "shell.execute_reply": "2021-12-26T04:47:05.350837Z",
     "shell.execute_reply.started": "2021-12-26T04:37:29.488886Z"
    },
    "papermill": {
     "duration": 0.173176,
     "end_time": "2021-12-26T04:47:05.351033",
     "exception": false,
     "start_time": "2021-12-26T04:47:05.177857",
     "status": "completed"
    },
    "tags": []
   },
   "outputs": [
    {
     "data": {
      "text/html": [
       "<div>\n",
       "<style scoped>\n",
       "    .dataframe tbody tr th:only-of-type {\n",
       "        vertical-align: middle;\n",
       "    }\n",
       "\n",
       "    .dataframe tbody tr th {\n",
       "        vertical-align: top;\n",
       "    }\n",
       "\n",
       "    .dataframe thead th {\n",
       "        text-align: right;\n",
       "    }\n",
       "</style>\n",
       "<table border=\"1\" class=\"dataframe\">\n",
       "  <thead>\n",
       "    <tr style=\"text-align: right;\">\n",
       "      <th></th>\n",
       "      <th>marital_status</th>\n",
       "      <th>safty_rating</th>\n",
       "      <th>annual_income</th>\n",
       "      <th>high_education_ind</th>\n",
       "      <th>address_change_ind</th>\n",
       "      <th>past_num_of_claims</th>\n",
       "      <th>witness_present_ind</th>\n",
       "      <th>liab_prct</th>\n",
       "      <th>policy_report_filed_ind</th>\n",
       "      <th>claim_est_payout</th>\n",
       "      <th>age_of_vehicle</th>\n",
       "      <th>vehicle_price</th>\n",
       "      <th>vehicle_weight</th>\n",
       "    </tr>\n",
       "  </thead>\n",
       "  <tbody>\n",
       "    <tr>\n",
       "      <th>0</th>\n",
       "      <td>1</td>\n",
       "      <td>73</td>\n",
       "      <td>36633.0</td>\n",
       "      <td>1</td>\n",
       "      <td>0</td>\n",
       "      <td>0</td>\n",
       "      <td>0</td>\n",
       "      <td>25</td>\n",
       "      <td>0</td>\n",
       "      <td>5196.552552</td>\n",
       "      <td>8.0</td>\n",
       "      <td>24360.59273</td>\n",
       "      <td>26633.27819</td>\n",
       "    </tr>\n",
       "    <tr>\n",
       "      <th>1</th>\n",
       "      <td>1</td>\n",
       "      <td>63</td>\n",
       "      <td>40252.0</td>\n",
       "      <td>1</td>\n",
       "      <td>1</td>\n",
       "      <td>0</td>\n",
       "      <td>1</td>\n",
       "      <td>50</td>\n",
       "      <td>1</td>\n",
       "      <td>7381.165248</td>\n",
       "      <td>6.0</td>\n",
       "      <td>39710.42665</td>\n",
       "      <td>15875.34874</td>\n",
       "    </tr>\n",
       "    <tr>\n",
       "      <th>2</th>\n",
       "      <td>0</td>\n",
       "      <td>75</td>\n",
       "      <td>36634.0</td>\n",
       "      <td>1</td>\n",
       "      <td>1</td>\n",
       "      <td>0</td>\n",
       "      <td>0</td>\n",
       "      <td>98</td>\n",
       "      <td>1</td>\n",
       "      <td>5612.123938</td>\n",
       "      <td>7.0</td>\n",
       "      <td>50327.56618</td>\n",
       "      <td>21365.05932</td>\n",
       "    </tr>\n",
       "    <tr>\n",
       "      <th>3</th>\n",
       "      <td>1</td>\n",
       "      <td>72</td>\n",
       "      <td>34960.0</td>\n",
       "      <td>0</td>\n",
       "      <td>1</td>\n",
       "      <td>0</td>\n",
       "      <td>1</td>\n",
       "      <td>45</td>\n",
       "      <td>0</td>\n",
       "      <td>7957.267641</td>\n",
       "      <td>2.0</td>\n",
       "      <td>23457.35282</td>\n",
       "      <td>26707.46021</td>\n",
       "    </tr>\n",
       "    <tr>\n",
       "      <th>4</th>\n",
       "      <td>1</td>\n",
       "      <td>70</td>\n",
       "      <td>31776.0</td>\n",
       "      <td>1</td>\n",
       "      <td>1</td>\n",
       "      <td>0</td>\n",
       "      <td>1</td>\n",
       "      <td>11</td>\n",
       "      <td>0</td>\n",
       "      <td>6232.195932</td>\n",
       "      <td>1.0</td>\n",
       "      <td>18238.39202</td>\n",
       "      <td>22949.73744</td>\n",
       "    </tr>\n",
       "  </tbody>\n",
       "</table>\n",
       "</div>"
      ],
      "text/plain": [
       "   marital_status  safty_rating  annual_income  high_education_ind  \\\n",
       "0               1            73        36633.0                   1   \n",
       "1               1            63        40252.0                   1   \n",
       "2               0            75        36634.0                   1   \n",
       "3               1            72        34960.0                   0   \n",
       "4               1            70        31776.0                   1   \n",
       "\n",
       "   address_change_ind  past_num_of_claims  witness_present_ind  liab_prct  \\\n",
       "0                   0                   0                    0         25   \n",
       "1                   1                   0                    1         50   \n",
       "2                   1                   0                    0         98   \n",
       "3                   1                   0                    1         45   \n",
       "4                   1                   0                    1         11   \n",
       "\n",
       "   policy_report_filed_ind  claim_est_payout  age_of_vehicle  vehicle_price  \\\n",
       "0                        0       5196.552552             8.0    24360.59273   \n",
       "1                        1       7381.165248             6.0    39710.42665   \n",
       "2                        1       5612.123938             7.0    50327.56618   \n",
       "3                        0       7957.267641             2.0    23457.35282   \n",
       "4                        0       6232.195932             1.0    18238.39202   \n",
       "\n",
       "   vehicle_weight  \n",
       "0     26633.27819  \n",
       "1     15875.34874  \n",
       "2     21365.05932  \n",
       "3     26707.46021  \n",
       "4     22949.73744  "
      ]
     },
     "execution_count": 125,
     "metadata": {},
     "output_type": "execute_result"
    }
   ],
   "source": [
    "num_test.head()"
   ]
  },
  {
   "cell_type": "code",
   "execution_count": 126,
   "id": "8a361735",
   "metadata": {
    "execution": {
     "iopub.execute_input": "2021-12-26T04:47:05.667001Z",
     "iopub.status.busy": "2021-12-26T04:47:05.666168Z",
     "iopub.status.idle": "2021-12-26T04:47:05.669297Z",
     "shell.execute_reply": "2021-12-26T04:47:05.668607Z",
     "shell.execute_reply.started": "2021-12-26T04:37:29.514102Z"
    },
    "papermill": {
     "duration": 0.16362,
     "end_time": "2021-12-26T04:47:05.669451",
     "exception": false,
     "start_time": "2021-12-26T04:47:05.505831",
     "status": "completed"
    },
    "tags": []
   },
   "outputs": [],
   "source": [
    "test = pd.concat([num_test, cat_test], axis = 1)"
   ]
  },
  {
   "cell_type": "code",
   "execution_count": 127,
   "id": "fb04340e",
   "metadata": {
    "execution": {
     "iopub.execute_input": "2021-12-26T04:47:05.987497Z",
     "iopub.status.busy": "2021-12-26T04:47:05.986792Z",
     "iopub.status.idle": "2021-12-26T04:47:06.007580Z",
     "shell.execute_reply": "2021-12-26T04:47:06.006913Z",
     "shell.execute_reply.started": "2021-12-26T04:37:29.524015Z"
    },
    "papermill": {
     "duration": 0.183295,
     "end_time": "2021-12-26T04:47:06.007760",
     "exception": false,
     "start_time": "2021-12-26T04:47:05.824465",
     "status": "completed"
    },
    "tags": []
   },
   "outputs": [
    {
     "data": {
      "text/html": [
       "<div>\n",
       "<style scoped>\n",
       "    .dataframe tbody tr th:only-of-type {\n",
       "        vertical-align: middle;\n",
       "    }\n",
       "\n",
       "    .dataframe tbody tr th {\n",
       "        vertical-align: top;\n",
       "    }\n",
       "\n",
       "    .dataframe thead th {\n",
       "        text-align: right;\n",
       "    }\n",
       "</style>\n",
       "<table border=\"1\" class=\"dataframe\">\n",
       "  <thead>\n",
       "    <tr style=\"text-align: right;\">\n",
       "      <th></th>\n",
       "      <th>marital_status</th>\n",
       "      <th>safty_rating</th>\n",
       "      <th>annual_income</th>\n",
       "      <th>high_education_ind</th>\n",
       "      <th>address_change_ind</th>\n",
       "      <th>past_num_of_claims</th>\n",
       "      <th>witness_present_ind</th>\n",
       "      <th>liab_prct</th>\n",
       "      <th>policy_report_filed_ind</th>\n",
       "      <th>claim_est_payout</th>\n",
       "      <th>...</th>\n",
       "      <th>vehicle_price</th>\n",
       "      <th>vehicle_weight</th>\n",
       "      <th>gender_M</th>\n",
       "      <th>living_status_Rent</th>\n",
       "      <th>accident_site_Local</th>\n",
       "      <th>accident_site_Parking Lot</th>\n",
       "      <th>channel_Online</th>\n",
       "      <th>channel_Phone</th>\n",
       "      <th>vehicle_category_Large</th>\n",
       "      <th>vehicle_category_Medium</th>\n",
       "    </tr>\n",
       "  </thead>\n",
       "  <tbody>\n",
       "    <tr>\n",
       "      <th>0</th>\n",
       "      <td>1</td>\n",
       "      <td>73</td>\n",
       "      <td>36633.0</td>\n",
       "      <td>1</td>\n",
       "      <td>0</td>\n",
       "      <td>0</td>\n",
       "      <td>0</td>\n",
       "      <td>25</td>\n",
       "      <td>0</td>\n",
       "      <td>5196.552552</td>\n",
       "      <td>...</td>\n",
       "      <td>24360.59273</td>\n",
       "      <td>26633.27819</td>\n",
       "      <td>1</td>\n",
       "      <td>0</td>\n",
       "      <td>0</td>\n",
       "      <td>0</td>\n",
       "      <td>0</td>\n",
       "      <td>1</td>\n",
       "      <td>1</td>\n",
       "      <td>0</td>\n",
       "    </tr>\n",
       "    <tr>\n",
       "      <th>1</th>\n",
       "      <td>1</td>\n",
       "      <td>63</td>\n",
       "      <td>40252.0</td>\n",
       "      <td>1</td>\n",
       "      <td>1</td>\n",
       "      <td>0</td>\n",
       "      <td>1</td>\n",
       "      <td>50</td>\n",
       "      <td>1</td>\n",
       "      <td>7381.165248</td>\n",
       "      <td>...</td>\n",
       "      <td>39710.42665</td>\n",
       "      <td>15875.34874</td>\n",
       "      <td>1</td>\n",
       "      <td>0</td>\n",
       "      <td>0</td>\n",
       "      <td>0</td>\n",
       "      <td>0</td>\n",
       "      <td>0</td>\n",
       "      <td>1</td>\n",
       "      <td>0</td>\n",
       "    </tr>\n",
       "    <tr>\n",
       "      <th>2</th>\n",
       "      <td>0</td>\n",
       "      <td>75</td>\n",
       "      <td>36634.0</td>\n",
       "      <td>1</td>\n",
       "      <td>1</td>\n",
       "      <td>0</td>\n",
       "      <td>0</td>\n",
       "      <td>98</td>\n",
       "      <td>1</td>\n",
       "      <td>5612.123938</td>\n",
       "      <td>...</td>\n",
       "      <td>50327.56618</td>\n",
       "      <td>21365.05932</td>\n",
       "      <td>0</td>\n",
       "      <td>0</td>\n",
       "      <td>0</td>\n",
       "      <td>1</td>\n",
       "      <td>0</td>\n",
       "      <td>0</td>\n",
       "      <td>0</td>\n",
       "      <td>1</td>\n",
       "    </tr>\n",
       "    <tr>\n",
       "      <th>3</th>\n",
       "      <td>1</td>\n",
       "      <td>72</td>\n",
       "      <td>34960.0</td>\n",
       "      <td>0</td>\n",
       "      <td>1</td>\n",
       "      <td>0</td>\n",
       "      <td>1</td>\n",
       "      <td>45</td>\n",
       "      <td>0</td>\n",
       "      <td>7957.267641</td>\n",
       "      <td>...</td>\n",
       "      <td>23457.35282</td>\n",
       "      <td>26707.46021</td>\n",
       "      <td>1</td>\n",
       "      <td>0</td>\n",
       "      <td>1</td>\n",
       "      <td>0</td>\n",
       "      <td>0</td>\n",
       "      <td>1</td>\n",
       "      <td>0</td>\n",
       "      <td>1</td>\n",
       "    </tr>\n",
       "    <tr>\n",
       "      <th>4</th>\n",
       "      <td>1</td>\n",
       "      <td>70</td>\n",
       "      <td>31776.0</td>\n",
       "      <td>1</td>\n",
       "      <td>1</td>\n",
       "      <td>0</td>\n",
       "      <td>1</td>\n",
       "      <td>11</td>\n",
       "      <td>0</td>\n",
       "      <td>6232.195932</td>\n",
       "      <td>...</td>\n",
       "      <td>18238.39202</td>\n",
       "      <td>22949.73744</td>\n",
       "      <td>0</td>\n",
       "      <td>1</td>\n",
       "      <td>1</td>\n",
       "      <td>0</td>\n",
       "      <td>1</td>\n",
       "      <td>0</td>\n",
       "      <td>0</td>\n",
       "      <td>1</td>\n",
       "    </tr>\n",
       "  </tbody>\n",
       "</table>\n",
       "<p>5 rows × 21 columns</p>\n",
       "</div>"
      ],
      "text/plain": [
       "   marital_status  safty_rating  annual_income  high_education_ind  \\\n",
       "0               1            73        36633.0                   1   \n",
       "1               1            63        40252.0                   1   \n",
       "2               0            75        36634.0                   1   \n",
       "3               1            72        34960.0                   0   \n",
       "4               1            70        31776.0                   1   \n",
       "\n",
       "   address_change_ind  past_num_of_claims  witness_present_ind  liab_prct  \\\n",
       "0                   0                   0                    0         25   \n",
       "1                   1                   0                    1         50   \n",
       "2                   1                   0                    0         98   \n",
       "3                   1                   0                    1         45   \n",
       "4                   1                   0                    1         11   \n",
       "\n",
       "   policy_report_filed_ind  claim_est_payout  ...  vehicle_price  \\\n",
       "0                        0       5196.552552  ...    24360.59273   \n",
       "1                        1       7381.165248  ...    39710.42665   \n",
       "2                        1       5612.123938  ...    50327.56618   \n",
       "3                        0       7957.267641  ...    23457.35282   \n",
       "4                        0       6232.195932  ...    18238.39202   \n",
       "\n",
       "   vehicle_weight  gender_M  living_status_Rent  accident_site_Local  \\\n",
       "0     26633.27819         1                   0                    0   \n",
       "1     15875.34874         1                   0                    0   \n",
       "2     21365.05932         0                   0                    0   \n",
       "3     26707.46021         1                   0                    1   \n",
       "4     22949.73744         0                   1                    1   \n",
       "\n",
       "   accident_site_Parking Lot  channel_Online  channel_Phone  \\\n",
       "0                          0               0              1   \n",
       "1                          0               0              0   \n",
       "2                          1               0              0   \n",
       "3                          0               0              1   \n",
       "4                          0               1              0   \n",
       "\n",
       "   vehicle_category_Large  vehicle_category_Medium  \n",
       "0                       1                        0  \n",
       "1                       1                        0  \n",
       "2                       0                        1  \n",
       "3                       0                        1  \n",
       "4                       0                        1  \n",
       "\n",
       "[5 rows x 21 columns]"
      ]
     },
     "execution_count": 127,
     "metadata": {},
     "output_type": "execute_result"
    }
   ],
   "source": [
    "test.head()"
   ]
  },
  {
   "cell_type": "code",
   "execution_count": 128,
   "id": "57201d49",
   "metadata": {
    "execution": {
     "iopub.execute_input": "2021-12-26T04:47:06.324752Z",
     "iopub.status.busy": "2021-12-26T04:47:06.324064Z",
     "iopub.status.idle": "2021-12-26T04:47:06.336891Z",
     "shell.execute_reply": "2021-12-26T04:47:06.337531Z",
     "shell.execute_reply.started": "2021-12-26T04:37:29.552617Z"
    },
    "papermill": {
     "duration": 0.173861,
     "end_time": "2021-12-26T04:47:06.337757",
     "exception": false,
     "start_time": "2021-12-26T04:47:06.163896",
     "status": "completed"
    },
    "tags": []
   },
   "outputs": [
    {
     "name": "stdout",
     "output_type": "stream",
     "text": [
      "<class 'pandas.core.frame.DataFrame'>\n",
      "RangeIndex: 12002 entries, 0 to 12001\n",
      "Data columns (total 21 columns):\n",
      " #   Column                     Non-Null Count  Dtype  \n",
      "---  ------                     --------------  -----  \n",
      " 0   marital_status             12002 non-null  int64  \n",
      " 1   safty_rating               12002 non-null  int64  \n",
      " 2   annual_income              12002 non-null  float64\n",
      " 3   high_education_ind         12002 non-null  int64  \n",
      " 4   address_change_ind         12002 non-null  int64  \n",
      " 5   past_num_of_claims         12002 non-null  int64  \n",
      " 6   witness_present_ind        12002 non-null  int64  \n",
      " 7   liab_prct                  12002 non-null  int64  \n",
      " 8   policy_report_filed_ind    12002 non-null  int64  \n",
      " 9   claim_est_payout           12002 non-null  float64\n",
      " 10  age_of_vehicle             12002 non-null  float64\n",
      " 11  vehicle_price              12002 non-null  float64\n",
      " 12  vehicle_weight             12002 non-null  float64\n",
      " 13  gender_M                   12002 non-null  uint8  \n",
      " 14  living_status_Rent         12002 non-null  uint8  \n",
      " 15  accident_site_Local        12002 non-null  uint8  \n",
      " 16  accident_site_Parking Lot  12002 non-null  uint8  \n",
      " 17  channel_Online             12002 non-null  uint8  \n",
      " 18  channel_Phone              12002 non-null  uint8  \n",
      " 19  vehicle_category_Large     12002 non-null  uint8  \n",
      " 20  vehicle_category_Medium    12002 non-null  uint8  \n",
      "dtypes: float64(5), int64(8), uint8(8)\n",
      "memory usage: 1.3 MB\n"
     ]
    }
   ],
   "source": [
    "test.info()"
   ]
  },
  {
   "cell_type": "code",
   "execution_count": 129,
   "id": "8928c94f",
   "metadata": {
    "execution": {
     "iopub.execute_input": "2021-12-26T04:47:06.650049Z",
     "iopub.status.busy": "2021-12-26T04:47:06.649375Z",
     "iopub.status.idle": "2021-12-26T04:47:06.664473Z",
     "shell.execute_reply": "2021-12-26T04:47:06.663796Z",
     "shell.execute_reply.started": "2021-12-26T04:37:29.570390Z"
    },
    "papermill": {
     "duration": 0.171537,
     "end_time": "2021-12-26T04:47:06.664631",
     "exception": false,
     "start_time": "2021-12-26T04:47:06.493094",
     "status": "completed"
    },
    "tags": []
   },
   "outputs": [],
   "source": [
    "sc = StandardScaler()\n",
    "test = sc.fit_transform(test)"
   ]
  },
  {
   "cell_type": "code",
   "execution_count": 130,
   "id": "138cd8b6",
   "metadata": {
    "execution": {
     "iopub.execute_input": "2021-12-26T04:47:06.986117Z",
     "iopub.status.busy": "2021-12-26T04:47:06.985383Z",
     "iopub.status.idle": "2021-12-26T04:47:07.019241Z",
     "shell.execute_reply": "2021-12-26T04:47:07.018540Z",
     "shell.execute_reply.started": "2021-12-26T04:37:29.585535Z"
    },
    "papermill": {
     "duration": 0.195376,
     "end_time": "2021-12-26T04:47:07.019402",
     "exception": false,
     "start_time": "2021-12-26T04:47:06.824026",
     "status": "completed"
    },
    "tags": []
   },
   "outputs": [],
   "source": [
    "test_pred = sgbc.predict(test)"
   ]
  },
  {
   "cell_type": "code",
   "execution_count": 131,
   "id": "cb4f7b91",
   "metadata": {
    "execution": {
     "iopub.execute_input": "2021-12-26T04:47:07.335857Z",
     "iopub.status.busy": "2021-12-26T04:47:07.335148Z",
     "iopub.status.idle": "2021-12-26T04:47:07.338182Z",
     "shell.execute_reply": "2021-12-26T04:47:07.337630Z",
     "shell.execute_reply.started": "2021-12-26T04:37:29.621267Z"
    },
    "papermill": {
     "duration": 0.161771,
     "end_time": "2021-12-26T04:47:07.338336",
     "exception": false,
     "start_time": "2021-12-26T04:47:07.176565",
     "status": "completed"
    },
    "tags": []
   },
   "outputs": [],
   "source": [
    "test_pred = pd.DataFrame(test_pred, columns= ['fraud'])"
   ]
  },
  {
   "cell_type": "code",
   "execution_count": 132,
   "id": "1f8c8369",
   "metadata": {
    "execution": {
     "iopub.execute_input": "2021-12-26T04:47:07.659453Z",
     "iopub.status.busy": "2021-12-26T04:47:07.658702Z",
     "iopub.status.idle": "2021-12-26T04:47:07.661489Z",
     "shell.execute_reply": "2021-12-26T04:47:07.662050Z",
     "shell.execute_reply.started": "2021-12-26T04:37:29.627585Z"
    },
    "papermill": {
     "duration": 0.167364,
     "end_time": "2021-12-26T04:47:07.662234",
     "exception": false,
     "start_time": "2021-12-26T04:47:07.494870",
     "status": "completed"
    },
    "tags": []
   },
   "outputs": [],
   "source": [
    "df= test_pred[['fraud']]"
   ]
  },
  {
   "cell_type": "code",
   "execution_count": 133,
   "id": "5ab78e60",
   "metadata": {
    "execution": {
     "iopub.execute_input": "2021-12-26T04:47:08.006312Z",
     "iopub.status.busy": "2021-12-26T04:47:08.005541Z",
     "iopub.status.idle": "2021-12-26T04:47:08.013576Z",
     "shell.execute_reply": "2021-12-26T04:47:08.014059Z",
     "shell.execute_reply.started": "2021-12-26T04:37:29.641225Z"
    },
    "papermill": {
     "duration": 0.171261,
     "end_time": "2021-12-26T04:47:08.014236",
     "exception": false,
     "start_time": "2021-12-26T04:47:07.842975",
     "status": "completed"
    },
    "tags": []
   },
   "outputs": [
    {
     "data": {
      "text/html": [
       "<div>\n",
       "<style scoped>\n",
       "    .dataframe tbody tr th:only-of-type {\n",
       "        vertical-align: middle;\n",
       "    }\n",
       "\n",
       "    .dataframe tbody tr th {\n",
       "        vertical-align: top;\n",
       "    }\n",
       "\n",
       "    .dataframe thead th {\n",
       "        text-align: right;\n",
       "    }\n",
       "</style>\n",
       "<table border=\"1\" class=\"dataframe\">\n",
       "  <thead>\n",
       "    <tr style=\"text-align: right;\">\n",
       "      <th></th>\n",
       "      <th>fraud</th>\n",
       "    </tr>\n",
       "  </thead>\n",
       "  <tbody>\n",
       "    <tr>\n",
       "      <th>0</th>\n",
       "      <td>0</td>\n",
       "    </tr>\n",
       "    <tr>\n",
       "      <th>1</th>\n",
       "      <td>0</td>\n",
       "    </tr>\n",
       "    <tr>\n",
       "      <th>2</th>\n",
       "      <td>0</td>\n",
       "    </tr>\n",
       "    <tr>\n",
       "      <th>3</th>\n",
       "      <td>0</td>\n",
       "    </tr>\n",
       "    <tr>\n",
       "      <th>4</th>\n",
       "      <td>0</td>\n",
       "    </tr>\n",
       "  </tbody>\n",
       "</table>\n",
       "</div>"
      ],
      "text/plain": [
       "  fraud\n",
       "0     0\n",
       "1     0\n",
       "2     0\n",
       "3     0\n",
       "4     0"
      ]
     },
     "execution_count": 133,
     "metadata": {},
     "output_type": "execute_result"
    }
   ],
   "source": [
    "df.head()"
   ]
  },
  {
   "cell_type": "code",
   "execution_count": 134,
   "id": "4d6f63df",
   "metadata": {
    "execution": {
     "iopub.execute_input": "2021-12-26T04:47:08.329963Z",
     "iopub.status.busy": "2021-12-26T04:47:08.329200Z",
     "iopub.status.idle": "2021-12-26T04:47:08.354096Z",
     "shell.execute_reply": "2021-12-26T04:47:08.354607Z",
     "shell.execute_reply.started": "2021-12-26T04:37:29.656142Z"
    },
    "papermill": {
     "duration": 0.183285,
     "end_time": "2021-12-26T04:47:08.354834",
     "exception": false,
     "start_time": "2021-12-26T04:47:08.171549",
     "status": "completed"
    },
    "tags": []
   },
   "outputs": [],
   "source": [
    "df.to_csv('Prediction - SGB.csv' , index=False)"
   ]
  },
  {
   "cell_type": "code",
   "execution_count": null,
   "id": "f0972c21",
   "metadata": {
    "papermill": {
     "duration": 0.153125,
     "end_time": "2021-12-26T04:47:08.665659",
     "exception": false,
     "start_time": "2021-12-26T04:47:08.512534",
     "status": "completed"
    },
    "tags": []
   },
   "outputs": [],
   "source": []
  },
  {
   "cell_type": "code",
   "execution_count": null,
   "id": "d01bbde7",
   "metadata": {
    "papermill": {
     "duration": 0.156409,
     "end_time": "2021-12-26T04:47:08.979678",
     "exception": false,
     "start_time": "2021-12-26T04:47:08.823269",
     "status": "completed"
    },
    "tags": []
   },
   "outputs": [],
   "source": []
  },
  {
   "cell_type": "code",
   "execution_count": null,
   "id": "e79fe0d4",
   "metadata": {
    "papermill": {
     "duration": 0.152949,
     "end_time": "2021-12-26T04:47:09.290801",
     "exception": false,
     "start_time": "2021-12-26T04:47:09.137852",
     "status": "completed"
    },
    "tags": []
   },
   "outputs": [],
   "source": []
  },
  {
   "cell_type": "code",
   "execution_count": null,
   "id": "5b0f35d3",
   "metadata": {
    "papermill": {
     "duration": 0.155467,
     "end_time": "2021-12-26T04:47:09.600492",
     "exception": false,
     "start_time": "2021-12-26T04:47:09.445025",
     "status": "completed"
    },
    "tags": []
   },
   "outputs": [],
   "source": []
  },
  {
   "cell_type": "code",
   "execution_count": null,
   "id": "79f698c6",
   "metadata": {
    "papermill": {
     "duration": 0.156621,
     "end_time": "2021-12-26T04:47:09.915141",
     "exception": false,
     "start_time": "2021-12-26T04:47:09.758520",
     "status": "completed"
    },
    "tags": []
   },
   "outputs": [],
   "source": []
  },
  {
   "cell_type": "code",
   "execution_count": null,
   "id": "bf8f1793",
   "metadata": {
    "papermill": {
     "duration": 0.154263,
     "end_time": "2021-12-26T04:47:10.227519",
     "exception": false,
     "start_time": "2021-12-26T04:47:10.073256",
     "status": "completed"
    },
    "tags": []
   },
   "outputs": [],
   "source": []
  },
  {
   "cell_type": "code",
   "execution_count": null,
   "id": "8e480d98",
   "metadata": {
    "papermill": {
     "duration": 0.153007,
     "end_time": "2021-12-26T04:47:10.533525",
     "exception": false,
     "start_time": "2021-12-26T04:47:10.380518",
     "status": "completed"
    },
    "tags": []
   },
   "outputs": [],
   "source": []
  },
  {
   "cell_type": "code",
   "execution_count": null,
   "id": "d5840752",
   "metadata": {
    "papermill": {
     "duration": 0.156013,
     "end_time": "2021-12-26T04:47:10.842529",
     "exception": false,
     "start_time": "2021-12-26T04:47:10.686516",
     "status": "completed"
    },
    "tags": []
   },
   "outputs": [],
   "source": []
  }
 ],
 "metadata": {
  "kernelspec": {
   "display_name": "Python 3",
   "language": "python",
   "name": "python3"
  },
  "language_info": {
   "codemirror_mode": {
    "name": "ipython",
    "version": 3
   },
   "file_extension": ".py",
   "mimetype": "text/x-python",
   "name": "python",
   "nbconvert_exporter": "python",
   "pygments_lexer": "ipython3",
   "version": "3.7.12"
  },
  "papermill": {
   "default_parameters": {},
   "duration": 255.211815,
   "end_time": "2021-12-26T04:47:11.916240",
   "environment_variables": {},
   "exception": null,
   "input_path": "__notebook__.ipynb",
   "output_path": "__notebook__.ipynb",
   "parameters": {},
   "start_time": "2021-12-26T04:42:56.704425",
   "version": "2.3.3"
  }
 },
 "nbformat": 4,
 "nbformat_minor": 5
}
