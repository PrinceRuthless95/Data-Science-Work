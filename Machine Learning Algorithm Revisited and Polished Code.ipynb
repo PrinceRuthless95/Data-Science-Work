{
 "cells": [
  {
   "cell_type": "code",
   "execution_count": 1,
   "id": "e413ce23",
   "metadata": {},
   "outputs": [],
   "source": [
    "import pandas as pd\n",
    "import numpy as np\n",
    "import matplotlib.pyplot as plt\n",
    "plt.style.use('ggplot')\n",
    "import seaborn as sns\n",
    "import warnings\n",
    "warnings.filterwarnings('ignore')"
   ]
  },
  {
   "cell_type": "markdown",
   "id": "52697b4e",
   "metadata": {},
   "source": [
    "### Explorary Data Analysis"
   ]
  },
  {
   "cell_type": "code",
   "execution_count": 2,
   "id": "06412ea2",
   "metadata": {},
   "outputs": [],
   "source": [
    "train = pd.read_csv('C:/Users/micke/Desktop/train_2021.csv')"
   ]
  },
  {
   "cell_type": "code",
   "execution_count": 3,
   "id": "223d44b9",
   "metadata": {},
   "outputs": [
    {
     "data": {
      "text/plain": [
       "(17998, 25)"
      ]
     },
     "execution_count": 3,
     "metadata": {},
     "output_type": "execute_result"
    }
   ],
   "source": [
    "train.shape"
   ]
  },
  {
   "cell_type": "code",
   "execution_count": 4,
   "id": "a6bad3cc",
   "metadata": {},
   "outputs": [
    {
     "data": {
      "text/plain": [
       "0    15182\n",
       "1     2816\n",
       "Name: fraud, dtype: int64"
      ]
     },
     "execution_count": 4,
     "metadata": {},
     "output_type": "execute_result"
    }
   ],
   "source": [
    "train['fraud'].value_counts()\n",
    "#We know that the class is heavily skewed, the fraud rate is 15.6% as stated by Travelers."
   ]
  },
  {
   "cell_type": "code",
   "execution_count": 5,
   "id": "d7e2cc62",
   "metadata": {},
   "outputs": [
    {
     "data": {
      "text/plain": [
       "claim_number                 0\n",
       "age_of_driver                0\n",
       "gender                       0\n",
       "marital_status               5\n",
       "safty_rating                 0\n",
       "annual_income                0\n",
       "high_education_ind           0\n",
       "address_change_ind           0\n",
       "living_status                0\n",
       "zip_code                     0\n",
       "claim_date                   0\n",
       "claim_day_of_week            0\n",
       "accident_site                0\n",
       "past_num_of_claims           0\n",
       "witness_present_ind        132\n",
       "liab_prct                    0\n",
       "channel                      0\n",
       "policy_report_filed_ind      0\n",
       "claim_est_payout            17\n",
       "age_of_vehicle               8\n",
       "vehicle_category             0\n",
       "vehicle_price                0\n",
       "vehicle_color                0\n",
       "vehicle_weight               0\n",
       "fraud                        0\n",
       "dtype: int64"
      ]
     },
     "execution_count": 5,
     "metadata": {},
     "output_type": "execute_result"
    }
   ],
   "source": [
    "train.isna().sum()"
   ]
  },
  {
   "cell_type": "code",
   "execution_count": 6,
   "id": "68f9363e",
   "metadata": {},
   "outputs": [],
   "source": [
    "#Dropping data with missing value because there's so little of them\n",
    "train.dropna(inplace=True)"
   ]
  },
  {
   "cell_type": "code",
   "execution_count": 7,
   "id": "a6cc52cd",
   "metadata": {},
   "outputs": [
    {
     "data": {
      "text/plain": [
       "claim_number               0\n",
       "age_of_driver              0\n",
       "gender                     0\n",
       "marital_status             0\n",
       "safty_rating               0\n",
       "annual_income              0\n",
       "high_education_ind         0\n",
       "address_change_ind         0\n",
       "living_status              0\n",
       "zip_code                   0\n",
       "claim_date                 0\n",
       "claim_day_of_week          0\n",
       "accident_site              0\n",
       "past_num_of_claims         0\n",
       "witness_present_ind        0\n",
       "liab_prct                  0\n",
       "channel                    0\n",
       "policy_report_filed_ind    0\n",
       "claim_est_payout           0\n",
       "age_of_vehicle             0\n",
       "vehicle_category           0\n",
       "vehicle_price              0\n",
       "vehicle_color              0\n",
       "vehicle_weight             0\n",
       "fraud                      0\n",
       "dtype: int64"
      ]
     },
     "execution_count": 7,
     "metadata": {},
     "output_type": "execute_result"
    }
   ],
   "source": [
    "train.isna().sum()"
   ]
  },
  {
   "cell_type": "code",
   "execution_count": 8,
   "id": "a68d981f",
   "metadata": {},
   "outputs": [
    {
     "name": "stdout",
     "output_type": "stream",
     "text": [
      "<class 'pandas.core.frame.DataFrame'>\n",
      "Int64Index: 17836 entries, 0 to 17997\n",
      "Data columns (total 25 columns):\n",
      " #   Column                   Non-Null Count  Dtype  \n",
      "---  ------                   --------------  -----  \n",
      " 0   claim_number             17836 non-null  int64  \n",
      " 1   age_of_driver            17836 non-null  int64  \n",
      " 2   gender                   17836 non-null  object \n",
      " 3   marital_status           17836 non-null  float64\n",
      " 4   safty_rating             17836 non-null  int64  \n",
      " 5   annual_income            17836 non-null  int64  \n",
      " 6   high_education_ind       17836 non-null  int64  \n",
      " 7   address_change_ind       17836 non-null  int64  \n",
      " 8   living_status            17836 non-null  object \n",
      " 9   zip_code                 17836 non-null  int64  \n",
      " 10  claim_date               17836 non-null  object \n",
      " 11  claim_day_of_week        17836 non-null  object \n",
      " 12  accident_site            17836 non-null  object \n",
      " 13  past_num_of_claims       17836 non-null  int64  \n",
      " 14  witness_present_ind      17836 non-null  float64\n",
      " 15  liab_prct                17836 non-null  int64  \n",
      " 16  channel                  17836 non-null  object \n",
      " 17  policy_report_filed_ind  17836 non-null  int64  \n",
      " 18  claim_est_payout         17836 non-null  float64\n",
      " 19  age_of_vehicle           17836 non-null  float64\n",
      " 20  vehicle_category         17836 non-null  object \n",
      " 21  vehicle_price            17836 non-null  float64\n",
      " 22  vehicle_color            17836 non-null  object \n",
      " 23  vehicle_weight           17836 non-null  float64\n",
      " 24  fraud                    17836 non-null  int64  \n",
      "dtypes: float64(6), int64(11), object(8)\n",
      "memory usage: 3.5+ MB\n"
     ]
    }
   ],
   "source": [
    "train.info()"
   ]
  },
  {
   "cell_type": "code",
   "execution_count": 9,
   "id": "fed4edf2",
   "metadata": {},
   "outputs": [],
   "source": [
    "#Make sure the datatype are appropriate\n",
    "train['claim_number']=train['claim_number'].astype(str)\n",
    "train['age_of_driver']=train['age_of_driver'].astype(float)\n",
    "train['gender']=train['gender'].astype('category')\n",
    "train['marital_status']=train['marital_status'].astype(int)\n",
    "train['marital_status']=train['marital_status'].astype('category')\n",
    "train['safty_rating']=train['safty_rating'].astype(float)\n",
    "train['annual_income']=train['annual_income'].astype(float)\n",
    "train['high_education_ind']=train['high_education_ind'].astype('category')\n",
    "train['address_change_ind']=train['address_change_ind'].astype('category')\n",
    "train['living_status']=train['living_status'].astype('category')\n",
    "train['zip_code']=train['zip_code'].astype(str)\n",
    "train['claim_date']=train['claim_date'].astype(str)\n",
    "train['claim_day_of_week']=train['claim_day_of_week'].astype('category')\n",
    "train['accident_site']=train['accident_site'].astype('category')\n",
    "train['past_num_of_claims']=train['past_num_of_claims'].astype(int)\n",
    "train['witness_present_ind']=train['witness_present_ind'].astype(int)\n",
    "train['witness_present_ind']=train['witness_present_ind'].astype('category')\n",
    "train['liab_prct']=train['liab_prct'].astype(float)\n",
    "train['channel']=train['channel'].astype('category')\n",
    "train['policy_report_filed_ind']=train['policy_report_filed_ind'].astype('category')\n",
    "train['claim_est_payout']=train['claim_est_payout'].astype(float)\n",
    "train['age_of_vehicle']=train['age_of_vehicle'].astype(int)\n",
    "train['vehicle_category']=train['vehicle_category'].astype('category')\n",
    "train['vehicle_price']=train['vehicle_price'].astype(float)\n",
    "train['vehicle_color']=train['vehicle_color'].astype('category')\n",
    "train['vehicle_weight']=train['vehicle_weight'].astype(float)\n",
    "train['fraud']=train['fraud'].astype('str')"
   ]
  },
  {
   "cell_type": "code",
   "execution_count": 10,
   "id": "09f8e3a3",
   "metadata": {},
   "outputs": [
    {
     "name": "stdout",
     "output_type": "stream",
     "text": [
      "<class 'pandas.core.frame.DataFrame'>\n",
      "Int64Index: 17836 entries, 0 to 17997\n",
      "Data columns (total 25 columns):\n",
      " #   Column                   Non-Null Count  Dtype   \n",
      "---  ------                   --------------  -----   \n",
      " 0   claim_number             17836 non-null  object  \n",
      " 1   age_of_driver            17836 non-null  float64 \n",
      " 2   gender                   17836 non-null  category\n",
      " 3   marital_status           17836 non-null  category\n",
      " 4   safty_rating             17836 non-null  float64 \n",
      " 5   annual_income            17836 non-null  float64 \n",
      " 6   high_education_ind       17836 non-null  category\n",
      " 7   address_change_ind       17836 non-null  category\n",
      " 8   living_status            17836 non-null  category\n",
      " 9   zip_code                 17836 non-null  object  \n",
      " 10  claim_date               17836 non-null  object  \n",
      " 11  claim_day_of_week        17836 non-null  category\n",
      " 12  accident_site            17836 non-null  category\n",
      " 13  past_num_of_claims       17836 non-null  int32   \n",
      " 14  witness_present_ind      17836 non-null  category\n",
      " 15  liab_prct                17836 non-null  float64 \n",
      " 16  channel                  17836 non-null  category\n",
      " 17  policy_report_filed_ind  17836 non-null  category\n",
      " 18  claim_est_payout         17836 non-null  float64 \n",
      " 19  age_of_vehicle           17836 non-null  int32   \n",
      " 20  vehicle_category         17836 non-null  category\n",
      " 21  vehicle_price            17836 non-null  float64 \n",
      " 22  vehicle_color            17836 non-null  category\n",
      " 23  vehicle_weight           17836 non-null  float64 \n",
      " 24  fraud                    17836 non-null  object  \n",
      "dtypes: category(12), float64(7), int32(2), object(4)\n",
      "memory usage: 2.0+ MB\n"
     ]
    }
   ],
   "source": [
    "train.info()"
   ]
  },
  {
   "cell_type": "code",
   "execution_count": 11,
   "id": "0143d457",
   "metadata": {},
   "outputs": [
    {
     "data": {
      "image/png": "[encoded data removed]",
      "text/plain": [
       "<Figure size 1296x864 with 2 Axes>"
      ]
     },
     "metadata": {},
     "output_type": "display_data"
    }
   ],
   "source": [
    "#Check for correlation between variables, only for numercial variables\n",
    "plt.figure(figsize = (18, 12))\n",
    "\n",
    "corr = train.corr()\n",
    "mask = np.triu(np.ones_like(corr, dtype = bool))\n",
    "\n",
    "sns.heatmap(data = corr, mask = mask, annot = True, fmt = '.2g', linewidth = 1)\n",
    "plt.show()\n",
    "#We see that age_of_driver are highly correlated with annual_income"
   ]
  },
  {
   "cell_type": "code",
   "execution_count": 12,
   "id": "34214b92",
   "metadata": {},
   "outputs": [],
   "source": [
    "#To fit a boxplot for outlier, only consider numerical variable\n",
    "Z = train.select_dtypes(include = [('int64'),('float64'),('int32')])"
   ]
  },
  {
   "cell_type": "code",
   "execution_count": 13,
   "id": "0e46d2b2",
   "metadata": {},
   "outputs": [
    {
     "data": {
      "image/png": "[encoded data removed]",
      "text/plain": [
       "<Figure size 1440x1080 with 9 Axes>"
      ]
     },
     "metadata": {},
     "output_type": "display_data"
    }
   ],
   "source": [
    "#Boxplot to check for outlier and data range\n",
    "plt.figure(figsize = (20, 15))\n",
    "plotnumber = 1\n",
    "\n",
    "for col in Z.columns:\n",
    "    if plotnumber <= 30:\n",
    "        ax = plt.subplot(5, 5, plotnumber)\n",
    "        sns.boxplot(Z[col])\n",
    "        plt.xlabel(col, fontsize = 15)\n",
    "    \n",
    "    plotnumber += 1\n",
    "plt.tight_layout()\n",
    "plt.show()\n",
    "#There's indeed outlier in the dataset"
   ]
  },
  {
   "cell_type": "code",
   "execution_count": 14,
   "id": "bd7ebec1",
   "metadata": {},
   "outputs": [
    {
     "data": {
      "text/plain": [
       "age_of_driver            3.272167\n",
       "safty_rating             3.192164\n",
       "annual_income          232.272012\n",
       "past_num_of_claims       1.807666\n",
       "liab_prct               22.949825\n",
       "claim_est_payout       987.678652\n",
       "age_of_vehicle           1.018988\n",
       "vehicle_price         6233.923899\n",
       "vehicle_weight        6312.152579\n",
       "dtype: float64"
      ]
     },
     "execution_count": 14,
     "metadata": {},
     "output_type": "execute_result"
    }
   ],
   "source": [
    "#Coefficient of variation\n",
    "Z.var()/Z.mean()\n",
    "#We know that some features have high variances where we will dealt with later by scaling"
   ]
  },
  {
   "cell_type": "code",
   "execution_count": 15,
   "id": "5512a4c3",
   "metadata": {},
   "outputs": [
    {
     "data": {
      "text/plain": [
       "(17732, 25)"
      ]
     },
     "execution_count": 15,
     "metadata": {},
     "output_type": "execute_result"
    }
   ],
   "source": [
    "percentile = train['annual_income'].quantile(0.995)\n",
    "train = train[train['annual_income'] < percentile]\n",
    "train = train[train['annual_income'] > 25000]\n",
    "train.shape"
   ]
  },
  {
   "cell_type": "code",
   "execution_count": 16,
   "id": "92ec5a05",
   "metadata": {},
   "outputs": [
    {
     "data": {
      "text/plain": [
       "(17574, 25)"
      ]
     },
     "execution_count": 16,
     "metadata": {},
     "output_type": "execute_result"
    }
   ],
   "source": [
    "train = train[train['past_num_of_claims'] < 5]\n",
    "train.shape"
   ]
  },
  {
   "cell_type": "code",
   "execution_count": 17,
   "id": "3b067d2c",
   "metadata": {},
   "outputs": [
    {
     "data": {
      "text/plain": [
       "(17486, 25)"
      ]
     },
     "execution_count": 17,
     "metadata": {},
     "output_type": "execute_result"
    }
   ],
   "source": [
    "percentile = train['claim_est_payout'].quantile(0.995)\n",
    "train = train[train['claim_est_payout'] < percentile]\n",
    "train.shape"
   ]
  },
  {
   "cell_type": "code",
   "execution_count": 18,
   "id": "85077d1d",
   "metadata": {},
   "outputs": [
    {
     "data": {
      "text/plain": [
       "(17398, 25)"
      ]
     },
     "execution_count": 18,
     "metadata": {},
     "output_type": "execute_result"
    }
   ],
   "source": [
    "percentile = train['vehicle_price'].quantile(0.995)\n",
    "train = train[train['vehicle_price'] < percentile]\n",
    "train.shape"
   ]
  },
  {
   "cell_type": "code",
   "execution_count": 19,
   "id": "9f5acb43",
   "metadata": {},
   "outputs": [
    {
     "data": {
      "text/plain": [
       "(17311, 25)"
      ]
     },
     "execution_count": 19,
     "metadata": {},
     "output_type": "execute_result"
    }
   ],
   "source": [
    "percentile = train['vehicle_weight'].quantile(0.995)\n",
    "train = train[train['vehicle_weight'] < percentile]\n",
    "train.shape"
   ]
  },
  {
   "cell_type": "code",
   "execution_count": 20,
   "id": "7e2d5067",
   "metadata": {},
   "outputs": [],
   "source": [
    "#Dropping the variable which we assumed unneeded in prediction.\n",
    "#To improve algorithm running time, we decide to drop zip_code and claim_date, but will implement them in our R modelling\n",
    "to_drop = ['claim_number','zip_code','claim_date','claim_day_of_week','vehicle_color']\n",
    "train.drop(to_drop, inplace = True, axis = 1)"
   ]
  },
  {
   "cell_type": "code",
   "execution_count": 21,
   "id": "948f3270",
   "metadata": {},
   "outputs": [],
   "source": [
    "#We decided to drop age_of_driver as it is highly correlated with annual_income\n",
    "#age_of_driver has some extremely high outlier e.g. as high as 200\n",
    "train.drop(columns = ['age_of_driver'], inplace = True, axis = 1)"
   ]
  },
  {
   "cell_type": "code",
   "execution_count": 22,
   "id": "9ace62e4",
   "metadata": {},
   "outputs": [
    {
     "name": "stdout",
     "output_type": "stream",
     "text": [
      "<class 'pandas.core.frame.DataFrame'>\n",
      "Int64Index: 17311 entries, 0 to 17997\n",
      "Data columns (total 19 columns):\n",
      " #   Column                   Non-Null Count  Dtype   \n",
      "---  ------                   --------------  -----   \n",
      " 0   gender                   17311 non-null  category\n",
      " 1   marital_status           17311 non-null  category\n",
      " 2   safty_rating             17311 non-null  float64 \n",
      " 3   annual_income            17311 non-null  float64 \n",
      " 4   high_education_ind       17311 non-null  category\n",
      " 5   address_change_ind       17311 non-null  category\n",
      " 6   living_status            17311 non-null  category\n",
      " 7   accident_site            17311 non-null  category\n",
      " 8   past_num_of_claims       17311 non-null  int32   \n",
      " 9   witness_present_ind      17311 non-null  category\n",
      " 10  liab_prct                17311 non-null  float64 \n",
      " 11  channel                  17311 non-null  category\n",
      " 12  policy_report_filed_ind  17311 non-null  category\n",
      " 13  claim_est_payout         17311 non-null  float64 \n",
      " 14  age_of_vehicle           17311 non-null  int32   \n",
      " 15  vehicle_category         17311 non-null  category\n",
      " 16  vehicle_price            17311 non-null  float64 \n",
      " 17  vehicle_weight           17311 non-null  float64 \n",
      " 18  fraud                    17311 non-null  object  \n",
      "dtypes: category(10), float64(6), int32(2), object(1)\n",
      "memory usage: 1.4+ MB\n"
     ]
    }
   ],
   "source": [
    "train.info()"
   ]
  },
  {
   "cell_type": "markdown",
   "id": "5cc0eb94",
   "metadata": {},
   "source": [
    "### Data Preprocessing"
   ]
  },
  {
   "cell_type": "code",
   "execution_count": 23,
   "id": "ea471400",
   "metadata": {},
   "outputs": [],
   "source": [
    "#Separate predictors and response\n",
    "X = train.drop('fraud', axis = 1)\n",
    "y = train['fraud']"
   ]
  },
  {
   "cell_type": "code",
   "execution_count": 24,
   "id": "d8b852f3",
   "metadata": {},
   "outputs": [],
   "source": [
    "#Extracting categorical columns\n",
    "cat_train = X.select_dtypes(include = ['category'])"
   ]
  },
  {
   "cell_type": "code",
   "execution_count": 25,
   "id": "807d628a",
   "metadata": {},
   "outputs": [
    {
     "data": {
      "text/html": [
       "<div>\n",
       "<style scoped>\n",
       "    .dataframe tbody tr th:only-of-type {\n",
       "        vertical-align: middle;\n",
       "    }\n",
       "\n",
       "    .dataframe tbody tr th {\n",
       "        vertical-align: top;\n",
       "    }\n",
       "\n",
       "    .dataframe thead th {\n",
       "        text-align: right;\n",
       "    }\n",
       "</style>\n",
       "<table border=\"1\" class=\"dataframe\">\n",
       "  <thead>\n",
       "    <tr style=\"text-align: right;\">\n",
       "      <th></th>\n",
       "      <th>gender</th>\n",
       "      <th>marital_status</th>\n",
       "      <th>high_education_ind</th>\n",
       "      <th>address_change_ind</th>\n",
       "      <th>living_status</th>\n",
       "      <th>accident_site</th>\n",
       "      <th>witness_present_ind</th>\n",
       "      <th>channel</th>\n",
       "      <th>policy_report_filed_ind</th>\n",
       "      <th>vehicle_category</th>\n",
       "    </tr>\n",
       "  </thead>\n",
       "  <tbody>\n",
       "    <tr>\n",
       "      <th>0</th>\n",
       "      <td>M</td>\n",
       "      <td>1</td>\n",
       "      <td>1</td>\n",
       "      <td>1</td>\n",
       "      <td>Rent</td>\n",
       "      <td>Local</td>\n",
       "      <td>0</td>\n",
       "      <td>Broker</td>\n",
       "      <td>0</td>\n",
       "      <td>Compact</td>\n",
       "    </tr>\n",
       "    <tr>\n",
       "      <th>1</th>\n",
       "      <td>F</td>\n",
       "      <td>0</td>\n",
       "      <td>0</td>\n",
       "      <td>1</td>\n",
       "      <td>Rent</td>\n",
       "      <td>Highway</td>\n",
       "      <td>1</td>\n",
       "      <td>Online</td>\n",
       "      <td>0</td>\n",
       "      <td>Large</td>\n",
       "    </tr>\n",
       "    <tr>\n",
       "      <th>2</th>\n",
       "      <td>F</td>\n",
       "      <td>0</td>\n",
       "      <td>0</td>\n",
       "      <td>1</td>\n",
       "      <td>Own</td>\n",
       "      <td>Local</td>\n",
       "      <td>0</td>\n",
       "      <td>Broker</td>\n",
       "      <td>0</td>\n",
       "      <td>Compact</td>\n",
       "    </tr>\n",
       "    <tr>\n",
       "      <th>3</th>\n",
       "      <td>F</td>\n",
       "      <td>1</td>\n",
       "      <td>1</td>\n",
       "      <td>0</td>\n",
       "      <td>Own</td>\n",
       "      <td>Local</td>\n",
       "      <td>0</td>\n",
       "      <td>Broker</td>\n",
       "      <td>1</td>\n",
       "      <td>Medium</td>\n",
       "    </tr>\n",
       "    <tr>\n",
       "      <th>4</th>\n",
       "      <td>M</td>\n",
       "      <td>1</td>\n",
       "      <td>1</td>\n",
       "      <td>0</td>\n",
       "      <td>Rent</td>\n",
       "      <td>Highway</td>\n",
       "      <td>1</td>\n",
       "      <td>Broker</td>\n",
       "      <td>0</td>\n",
       "      <td>Medium</td>\n",
       "    </tr>\n",
       "  </tbody>\n",
       "</table>\n",
       "</div>"
      ],
      "text/plain": [
       "  gender marital_status high_education_ind address_change_ind living_status  \\\n",
       "0      M              1                  1                  1          Rent   \n",
       "1      F              0                  0                  1          Rent   \n",
       "2      F              0                  0                  1           Own   \n",
       "3      F              1                  1                  0           Own   \n",
       "4      M              1                  1                  0          Rent   \n",
       "\n",
       "  accident_site witness_present_ind channel policy_report_filed_ind  \\\n",
       "0         Local                   0  Broker                       0   \n",
       "1       Highway                   1  Online                       0   \n",
       "2         Local                   0  Broker                       0   \n",
       "3         Local                   0  Broker                       1   \n",
       "4       Highway                   1  Broker                       0   \n",
       "\n",
       "  vehicle_category  \n",
       "0          Compact  \n",
       "1            Large  \n",
       "2          Compact  \n",
       "3           Medium  \n",
       "4           Medium  "
      ]
     },
     "execution_count": 25,
     "metadata": {},
     "output_type": "execute_result"
    }
   ],
   "source": [
    "cat_train.head()"
   ]
  },
  {
   "cell_type": "code",
   "execution_count": 26,
   "id": "4f034f60",
   "metadata": {},
   "outputs": [
    {
     "name": "stdout",
     "output_type": "stream",
     "text": [
      "gender: \n",
      "['M', 'F']\n",
      "Categories (2, object): ['M', 'F']\n",
      "\n",
      "marital_status: \n",
      "[1, 0]\n",
      "Categories (2, int64): [1, 0]\n",
      "\n",
      "high_education_ind: \n",
      "[1, 0]\n",
      "Categories (2, int64): [1, 0]\n",
      "\n",
      "address_change_ind: \n",
      "[1, 0]\n",
      "Categories (2, int64): [1, 0]\n",
      "\n",
      "living_status: \n",
      "['Rent', 'Own']\n",
      "Categories (2, object): ['Rent', 'Own']\n",
      "\n",
      "accident_site: \n",
      "['Local', 'Highway', 'Parking Lot']\n",
      "Categories (3, object): ['Local', 'Highway', 'Parking Lot']\n",
      "\n",
      "witness_present_ind: \n",
      "[0, 1]\n",
      "Categories (2, int64): [0, 1]\n",
      "\n",
      "channel: \n",
      "['Broker', 'Online', 'Phone']\n",
      "Categories (3, object): ['Broker', 'Online', 'Phone']\n",
      "\n",
      "policy_report_filed_ind: \n",
      "[0, 1]\n",
      "Categories (2, int64): [0, 1]\n",
      "\n",
      "vehicle_category: \n",
      "['Compact', 'Large', 'Medium']\n",
      "Categories (3, object): ['Compact', 'Large', 'Medium']\n",
      "\n"
     ]
    }
   ],
   "source": [
    "for col in cat_train.columns:\n",
    "    print(f\"{col}: \\n{cat_train[col].unique()}\\n\")"
   ]
  },
  {
   "cell_type": "code",
   "execution_count": 27,
   "id": "d11d4992",
   "metadata": {},
   "outputs": [],
   "source": [
    "#So that machine can calculate numerical distance between data\n",
    "cat_train = pd.get_dummies(cat_train, drop_first = True)"
   ]
  },
  {
   "cell_type": "code",
   "execution_count": 28,
   "id": "d1662380",
   "metadata": {},
   "outputs": [
    {
     "data": {
      "text/html": [
       "<div>\n",
       "<style scoped>\n",
       "    .dataframe tbody tr th:only-of-type {\n",
       "        vertical-align: middle;\n",
       "    }\n",
       "\n",
       "    .dataframe tbody tr th {\n",
       "        vertical-align: top;\n",
       "    }\n",
       "\n",
       "    .dataframe thead th {\n",
       "        text-align: right;\n",
       "    }\n",
       "</style>\n",
       "<table border=\"1\" class=\"dataframe\">\n",
       "  <thead>\n",
       "    <tr style=\"text-align: right;\">\n",
       "      <th></th>\n",
       "      <th>gender_M</th>\n",
       "      <th>marital_status_1</th>\n",
       "      <th>high_education_ind_1</th>\n",
       "      <th>address_change_ind_1</th>\n",
       "      <th>living_status_Rent</th>\n",
       "      <th>accident_site_Local</th>\n",
       "      <th>accident_site_Parking Lot</th>\n",
       "      <th>witness_present_ind_1</th>\n",
       "      <th>channel_Online</th>\n",
       "      <th>channel_Phone</th>\n",
       "      <th>policy_report_filed_ind_1</th>\n",
       "      <th>vehicle_category_Large</th>\n",
       "      <th>vehicle_category_Medium</th>\n",
       "    </tr>\n",
       "  </thead>\n",
       "  <tbody>\n",
       "    <tr>\n",
       "      <th>0</th>\n",
       "      <td>1</td>\n",
       "      <td>1</td>\n",
       "      <td>1</td>\n",
       "      <td>1</td>\n",
       "      <td>1</td>\n",
       "      <td>1</td>\n",
       "      <td>0</td>\n",
       "      <td>0</td>\n",
       "      <td>0</td>\n",
       "      <td>0</td>\n",
       "      <td>0</td>\n",
       "      <td>0</td>\n",
       "      <td>0</td>\n",
       "    </tr>\n",
       "    <tr>\n",
       "      <th>1</th>\n",
       "      <td>0</td>\n",
       "      <td>0</td>\n",
       "      <td>0</td>\n",
       "      <td>1</td>\n",
       "      <td>1</td>\n",
       "      <td>0</td>\n",
       "      <td>0</td>\n",
       "      <td>1</td>\n",
       "      <td>1</td>\n",
       "      <td>0</td>\n",
       "      <td>0</td>\n",
       "      <td>1</td>\n",
       "      <td>0</td>\n",
       "    </tr>\n",
       "    <tr>\n",
       "      <th>2</th>\n",
       "      <td>0</td>\n",
       "      <td>0</td>\n",
       "      <td>0</td>\n",
       "      <td>1</td>\n",
       "      <td>0</td>\n",
       "      <td>1</td>\n",
       "      <td>0</td>\n",
       "      <td>0</td>\n",
       "      <td>0</td>\n",
       "      <td>0</td>\n",
       "      <td>0</td>\n",
       "      <td>0</td>\n",
       "      <td>0</td>\n",
       "    </tr>\n",
       "    <tr>\n",
       "      <th>3</th>\n",
       "      <td>0</td>\n",
       "      <td>1</td>\n",
       "      <td>1</td>\n",
       "      <td>0</td>\n",
       "      <td>0</td>\n",
       "      <td>1</td>\n",
       "      <td>0</td>\n",
       "      <td>0</td>\n",
       "      <td>0</td>\n",
       "      <td>0</td>\n",
       "      <td>1</td>\n",
       "      <td>0</td>\n",
       "      <td>1</td>\n",
       "    </tr>\n",
       "    <tr>\n",
       "      <th>4</th>\n",
       "      <td>1</td>\n",
       "      <td>1</td>\n",
       "      <td>1</td>\n",
       "      <td>0</td>\n",
       "      <td>1</td>\n",
       "      <td>0</td>\n",
       "      <td>0</td>\n",
       "      <td>1</td>\n",
       "      <td>0</td>\n",
       "      <td>0</td>\n",
       "      <td>0</td>\n",
       "      <td>0</td>\n",
       "      <td>1</td>\n",
       "    </tr>\n",
       "  </tbody>\n",
       "</table>\n",
       "</div>"
      ],
      "text/plain": [
       "   gender_M  marital_status_1  high_education_ind_1  address_change_ind_1  \\\n",
       "0         1                 1                     1                     1   \n",
       "1         0                 0                     0                     1   \n",
       "2         0                 0                     0                     1   \n",
       "3         0                 1                     1                     0   \n",
       "4         1                 1                     1                     0   \n",
       "\n",
       "   living_status_Rent  accident_site_Local  accident_site_Parking Lot  \\\n",
       "0                   1                    1                          0   \n",
       "1                   1                    0                          0   \n",
       "2                   0                    1                          0   \n",
       "3                   0                    1                          0   \n",
       "4                   1                    0                          0   \n",
       "\n",
       "   witness_present_ind_1  channel_Online  channel_Phone  \\\n",
       "0                      0               0              0   \n",
       "1                      1               1              0   \n",
       "2                      0               0              0   \n",
       "3                      0               0              0   \n",
       "4                      1               0              0   \n",
       "\n",
       "   policy_report_filed_ind_1  vehicle_category_Large  vehicle_category_Medium  \n",
       "0                          0                       0                        0  \n",
       "1                          0                       1                        0  \n",
       "2                          0                       0                        0  \n",
       "3                          1                       0                        1  \n",
       "4                          0                       0                        1  "
      ]
     },
     "execution_count": 28,
     "metadata": {},
     "output_type": "execute_result"
    }
   ],
   "source": [
    "cat_train.head()"
   ]
  },
  {
   "cell_type": "code",
   "execution_count": 29,
   "id": "41555451",
   "metadata": {},
   "outputs": [],
   "source": [
    "# extracting the numerical columns\n",
    "num_train = X.select_dtypes(include = [('int64'),('float64'),('int32')])"
   ]
  },
  {
   "cell_type": "code",
   "execution_count": 30,
   "id": "715e9fbf",
   "metadata": {},
   "outputs": [
    {
     "data": {
      "text/html": [
       "<div>\n",
       "<style scoped>\n",
       "    .dataframe tbody tr th:only-of-type {\n",
       "        vertical-align: middle;\n",
       "    }\n",
       "\n",
       "    .dataframe tbody tr th {\n",
       "        vertical-align: top;\n",
       "    }\n",
       "\n",
       "    .dataframe thead th {\n",
       "        text-align: right;\n",
       "    }\n",
       "</style>\n",
       "<table border=\"1\" class=\"dataframe\">\n",
       "  <thead>\n",
       "    <tr style=\"text-align: right;\">\n",
       "      <th></th>\n",
       "      <th>safty_rating</th>\n",
       "      <th>annual_income</th>\n",
       "      <th>past_num_of_claims</th>\n",
       "      <th>liab_prct</th>\n",
       "      <th>claim_est_payout</th>\n",
       "      <th>age_of_vehicle</th>\n",
       "      <th>vehicle_price</th>\n",
       "      <th>vehicle_weight</th>\n",
       "    </tr>\n",
       "  </thead>\n",
       "  <tbody>\n",
       "    <tr>\n",
       "      <th>0</th>\n",
       "      <td>85.0</td>\n",
       "      <td>38301.0</td>\n",
       "      <td>1</td>\n",
       "      <td>74.0</td>\n",
       "      <td>7530.940993</td>\n",
       "      <td>9</td>\n",
       "      <td>12885.45235</td>\n",
       "      <td>16161.33381</td>\n",
       "    </tr>\n",
       "    <tr>\n",
       "      <th>1</th>\n",
       "      <td>75.0</td>\n",
       "      <td>30445.0</td>\n",
       "      <td>1</td>\n",
       "      <td>79.0</td>\n",
       "      <td>2966.024895</td>\n",
       "      <td>4</td>\n",
       "      <td>29429.45218</td>\n",
       "      <td>28691.96422</td>\n",
       "    </tr>\n",
       "    <tr>\n",
       "      <th>2</th>\n",
       "      <td>87.0</td>\n",
       "      <td>38923.0</td>\n",
       "      <td>0</td>\n",
       "      <td>0.0</td>\n",
       "      <td>6283.888333</td>\n",
       "      <td>3</td>\n",
       "      <td>21701.18195</td>\n",
       "      <td>22090.94758</td>\n",
       "    </tr>\n",
       "    <tr>\n",
       "      <th>3</th>\n",
       "      <td>58.0</td>\n",
       "      <td>40605.0</td>\n",
       "      <td>3</td>\n",
       "      <td>99.0</td>\n",
       "      <td>6169.747994</td>\n",
       "      <td>4</td>\n",
       "      <td>13198.27344</td>\n",
       "      <td>38329.58106</td>\n",
       "    </tr>\n",
       "    <tr>\n",
       "      <th>4</th>\n",
       "      <td>95.0</td>\n",
       "      <td>36380.0</td>\n",
       "      <td>0</td>\n",
       "      <td>7.0</td>\n",
       "      <td>4541.387150</td>\n",
       "      <td>7</td>\n",
       "      <td>38060.21122</td>\n",
       "      <td>25876.56319</td>\n",
       "    </tr>\n",
       "  </tbody>\n",
       "</table>\n",
       "</div>"
      ],
      "text/plain": [
       "   safty_rating  annual_income  past_num_of_claims  liab_prct  \\\n",
       "0          85.0        38301.0                   1       74.0   \n",
       "1          75.0        30445.0                   1       79.0   \n",
       "2          87.0        38923.0                   0        0.0   \n",
       "3          58.0        40605.0                   3       99.0   \n",
       "4          95.0        36380.0                   0        7.0   \n",
       "\n",
       "   claim_est_payout  age_of_vehicle  vehicle_price  vehicle_weight  \n",
       "0       7530.940993               9    12885.45235     16161.33381  \n",
       "1       2966.024895               4    29429.45218     28691.96422  \n",
       "2       6283.888333               3    21701.18195     22090.94758  \n",
       "3       6169.747994               4    13198.27344     38329.58106  \n",
       "4       4541.387150               7    38060.21122     25876.56319  "
      ]
     },
     "execution_count": 30,
     "metadata": {},
     "output_type": "execute_result"
    }
   ],
   "source": [
    "num_train.head()"
   ]
  },
  {
   "cell_type": "code",
   "execution_count": 31,
   "id": "29892d9d",
   "metadata": {},
   "outputs": [],
   "source": [
    "# combining the Numerical and Categorical dataframes to get the final dataset\n",
    "\n",
    "X = pd.concat([num_train, cat_train], axis = 1)"
   ]
  },
  {
   "cell_type": "code",
   "execution_count": 32,
   "id": "64781c7e",
   "metadata": {},
   "outputs": [
    {
     "data": {
      "text/html": [
       "<div>\n",
       "<style scoped>\n",
       "    .dataframe tbody tr th:only-of-type {\n",
       "        vertical-align: middle;\n",
       "    }\n",
       "\n",
       "    .dataframe tbody tr th {\n",
       "        vertical-align: top;\n",
       "    }\n",
       "\n",
       "    .dataframe thead th {\n",
       "        text-align: right;\n",
       "    }\n",
       "</style>\n",
       "<table border=\"1\" class=\"dataframe\">\n",
       "  <thead>\n",
       "    <tr style=\"text-align: right;\">\n",
       "      <th></th>\n",
       "      <th>safty_rating</th>\n",
       "      <th>annual_income</th>\n",
       "      <th>past_num_of_claims</th>\n",
       "      <th>liab_prct</th>\n",
       "      <th>claim_est_payout</th>\n",
       "      <th>age_of_vehicle</th>\n",
       "      <th>vehicle_price</th>\n",
       "      <th>vehicle_weight</th>\n",
       "      <th>gender_M</th>\n",
       "      <th>marital_status_1</th>\n",
       "      <th>...</th>\n",
       "      <th>address_change_ind_1</th>\n",
       "      <th>living_status_Rent</th>\n",
       "      <th>accident_site_Local</th>\n",
       "      <th>accident_site_Parking Lot</th>\n",
       "      <th>witness_present_ind_1</th>\n",
       "      <th>channel_Online</th>\n",
       "      <th>channel_Phone</th>\n",
       "      <th>policy_report_filed_ind_1</th>\n",
       "      <th>vehicle_category_Large</th>\n",
       "      <th>vehicle_category_Medium</th>\n",
       "    </tr>\n",
       "  </thead>\n",
       "  <tbody>\n",
       "    <tr>\n",
       "      <th>0</th>\n",
       "      <td>85.0</td>\n",
       "      <td>38301.0</td>\n",
       "      <td>1</td>\n",
       "      <td>74.0</td>\n",
       "      <td>7530.940993</td>\n",
       "      <td>9</td>\n",
       "      <td>12885.45235</td>\n",
       "      <td>16161.33381</td>\n",
       "      <td>1</td>\n",
       "      <td>1</td>\n",
       "      <td>...</td>\n",
       "      <td>1</td>\n",
       "      <td>1</td>\n",
       "      <td>1</td>\n",
       "      <td>0</td>\n",
       "      <td>0</td>\n",
       "      <td>0</td>\n",
       "      <td>0</td>\n",
       "      <td>0</td>\n",
       "      <td>0</td>\n",
       "      <td>0</td>\n",
       "    </tr>\n",
       "    <tr>\n",
       "      <th>1</th>\n",
       "      <td>75.0</td>\n",
       "      <td>30445.0</td>\n",
       "      <td>1</td>\n",
       "      <td>79.0</td>\n",
       "      <td>2966.024895</td>\n",
       "      <td>4</td>\n",
       "      <td>29429.45218</td>\n",
       "      <td>28691.96422</td>\n",
       "      <td>0</td>\n",
       "      <td>0</td>\n",
       "      <td>...</td>\n",
       "      <td>1</td>\n",
       "      <td>1</td>\n",
       "      <td>0</td>\n",
       "      <td>0</td>\n",
       "      <td>1</td>\n",
       "      <td>1</td>\n",
       "      <td>0</td>\n",
       "      <td>0</td>\n",
       "      <td>1</td>\n",
       "      <td>0</td>\n",
       "    </tr>\n",
       "    <tr>\n",
       "      <th>2</th>\n",
       "      <td>87.0</td>\n",
       "      <td>38923.0</td>\n",
       "      <td>0</td>\n",
       "      <td>0.0</td>\n",
       "      <td>6283.888333</td>\n",
       "      <td>3</td>\n",
       "      <td>21701.18195</td>\n",
       "      <td>22090.94758</td>\n",
       "      <td>0</td>\n",
       "      <td>0</td>\n",
       "      <td>...</td>\n",
       "      <td>1</td>\n",
       "      <td>0</td>\n",
       "      <td>1</td>\n",
       "      <td>0</td>\n",
       "      <td>0</td>\n",
       "      <td>0</td>\n",
       "      <td>0</td>\n",
       "      <td>0</td>\n",
       "      <td>0</td>\n",
       "      <td>0</td>\n",
       "    </tr>\n",
       "    <tr>\n",
       "      <th>3</th>\n",
       "      <td>58.0</td>\n",
       "      <td>40605.0</td>\n",
       "      <td>3</td>\n",
       "      <td>99.0</td>\n",
       "      <td>6169.747994</td>\n",
       "      <td>4</td>\n",
       "      <td>13198.27344</td>\n",
       "      <td>38329.58106</td>\n",
       "      <td>0</td>\n",
       "      <td>1</td>\n",
       "      <td>...</td>\n",
       "      <td>0</td>\n",
       "      <td>0</td>\n",
       "      <td>1</td>\n",
       "      <td>0</td>\n",
       "      <td>0</td>\n",
       "      <td>0</td>\n",
       "      <td>0</td>\n",
       "      <td>1</td>\n",
       "      <td>0</td>\n",
       "      <td>1</td>\n",
       "    </tr>\n",
       "    <tr>\n",
       "      <th>4</th>\n",
       "      <td>95.0</td>\n",
       "      <td>36380.0</td>\n",
       "      <td>0</td>\n",
       "      <td>7.0</td>\n",
       "      <td>4541.387150</td>\n",
       "      <td>7</td>\n",
       "      <td>38060.21122</td>\n",
       "      <td>25876.56319</td>\n",
       "      <td>1</td>\n",
       "      <td>1</td>\n",
       "      <td>...</td>\n",
       "      <td>0</td>\n",
       "      <td>1</td>\n",
       "      <td>0</td>\n",
       "      <td>0</td>\n",
       "      <td>1</td>\n",
       "      <td>0</td>\n",
       "      <td>0</td>\n",
       "      <td>0</td>\n",
       "      <td>0</td>\n",
       "      <td>1</td>\n",
       "    </tr>\n",
       "  </tbody>\n",
       "</table>\n",
       "<p>5 rows × 21 columns</p>\n",
       "</div>"
      ],
      "text/plain": [
       "   safty_rating  annual_income  past_num_of_claims  liab_prct  \\\n",
       "0          85.0        38301.0                   1       74.0   \n",
       "1          75.0        30445.0                   1       79.0   \n",
       "2          87.0        38923.0                   0        0.0   \n",
       "3          58.0        40605.0                   3       99.0   \n",
       "4          95.0        36380.0                   0        7.0   \n",
       "\n",
       "   claim_est_payout  age_of_vehicle  vehicle_price  vehicle_weight  gender_M  \\\n",
       "0       7530.940993               9    12885.45235     16161.33381         1   \n",
       "1       2966.024895               4    29429.45218     28691.96422         0   \n",
       "2       6283.888333               3    21701.18195     22090.94758         0   \n",
       "3       6169.747994               4    13198.27344     38329.58106         0   \n",
       "4       4541.387150               7    38060.21122     25876.56319         1   \n",
       "\n",
       "   marital_status_1  ...  address_change_ind_1  living_status_Rent  \\\n",
       "0                 1  ...                     1                   1   \n",
       "1                 0  ...                     1                   1   \n",
       "2                 0  ...                     1                   0   \n",
       "3                 1  ...                     0                   0   \n",
       "4                 1  ...                     0                   1   \n",
       "\n",
       "   accident_site_Local  accident_site_Parking Lot  witness_present_ind_1  \\\n",
       "0                    1                          0                      0   \n",
       "1                    0                          0                      1   \n",
       "2                    1                          0                      0   \n",
       "3                    1                          0                      0   \n",
       "4                    0                          0                      1   \n",
       "\n",
       "   channel_Online  channel_Phone  policy_report_filed_ind_1  \\\n",
       "0               0              0                          0   \n",
       "1               1              0                          0   \n",
       "2               0              0                          0   \n",
       "3               0              0                          1   \n",
       "4               0              0                          0   \n",
       "\n",
       "   vehicle_category_Large  vehicle_category_Medium  \n",
       "0                       0                        0  \n",
       "1                       1                        0  \n",
       "2                       0                        0  \n",
       "3                       0                        1  \n",
       "4                       0                        1  \n",
       "\n",
       "[5 rows x 21 columns]"
      ]
     },
     "execution_count": 32,
     "metadata": {},
     "output_type": "execute_result"
    }
   ],
   "source": [
    "X.head()"
   ]
  },
  {
   "cell_type": "code",
   "execution_count": 33,
   "id": "965b5368",
   "metadata": {},
   "outputs": [
    {
     "name": "stdout",
     "output_type": "stream",
     "text": [
      "<class 'pandas.core.frame.DataFrame'>\n",
      "Int64Index: 17311 entries, 0 to 17997\n",
      "Data columns (total 21 columns):\n",
      " #   Column                     Non-Null Count  Dtype  \n",
      "---  ------                     --------------  -----  \n",
      " 0   safty_rating               17311 non-null  float64\n",
      " 1   annual_income              17311 non-null  float64\n",
      " 2   past_num_of_claims         17311 non-null  int32  \n",
      " 3   liab_prct                  17311 non-null  float64\n",
      " 4   claim_est_payout           17311 non-null  float64\n",
      " 5   age_of_vehicle             17311 non-null  int32  \n",
      " 6   vehicle_price              17311 non-null  float64\n",
      " 7   vehicle_weight             17311 non-null  float64\n",
      " 8   gender_M                   17311 non-null  uint8  \n",
      " 9   marital_status_1           17311 non-null  uint8  \n",
      " 10  high_education_ind_1       17311 non-null  uint8  \n",
      " 11  address_change_ind_1       17311 non-null  uint8  \n",
      " 12  living_status_Rent         17311 non-null  uint8  \n",
      " 13  accident_site_Local        17311 non-null  uint8  \n",
      " 14  accident_site_Parking Lot  17311 non-null  uint8  \n",
      " 15  witness_present_ind_1      17311 non-null  uint8  \n",
      " 16  channel_Online             17311 non-null  uint8  \n",
      " 17  channel_Phone              17311 non-null  uint8  \n",
      " 18  policy_report_filed_ind_1  17311 non-null  uint8  \n",
      " 19  vehicle_category_Large     17311 non-null  uint8  \n",
      " 20  vehicle_category_Medium    17311 non-null  uint8  \n",
      "dtypes: float64(6), int32(2), uint8(13)\n",
      "memory usage: 1.3 MB\n"
     ]
    }
   ],
   "source": [
    "X.info()"
   ]
  },
  {
   "cell_type": "code",
   "execution_count": 34,
   "id": "16e39093",
   "metadata": {},
   "outputs": [
    {
     "name": "stdout",
     "output_type": "stream",
     "text": [
      "(12117, 21)\n",
      "(12117,)\n",
      "(5194, 21)\n",
      "(5194,)\n"
     ]
    }
   ],
   "source": [
    "#Split data into train to model and test to evaluate\n",
    "from sklearn.model_selection import train_test_split\n",
    "\n",
    "X_train, X_test, y_train, y_test = train_test_split(X, y, test_size = 0.30, random_state = 123)\n",
    "print(X_train.shape)\n",
    "print(y_train.shape)\n",
    "print(X_test.shape)\n",
    "print(y_test.shape)"
   ]
  },
  {
   "cell_type": "code",
   "execution_count": 35,
   "id": "9e2e6d65",
   "metadata": {},
   "outputs": [],
   "source": [
    "#Scaling data by standardization to deal with high variance\n",
    "\n",
    "from sklearn.preprocessing import StandardScaler\n",
    "\n",
    "sc = StandardScaler()\n",
    "X_train = sc.fit_transform(X_train)\n",
    "X_test = sc.transform(X_test)"
   ]
  },
  {
   "cell_type": "code",
   "execution_count": 36,
   "id": "721f6df6",
   "metadata": {},
   "outputs": [
    {
     "name": "stdout",
     "output_type": "stream",
     "text": [
      "Counter({'1': 10321, '0': 10321})\n"
     ]
    }
   ],
   "source": [
    "# example of random oversampling to balance the class distribution\n",
    "from collections import Counter\n",
    "from sklearn.datasets import make_classification\n",
    "from imblearn.over_sampling import RandomOverSampler\n",
    "# define oversampling strategy\n",
    "oversample = RandomOverSampler(sampling_strategy='minority',random_state=123)\n",
    "# fit and apply the transform\n",
    "X_train, y_train = oversample.fit_resample(X_train, y_train)\n",
    "# summarize class distribution\n",
    "print(Counter(y_train))"
   ]
  },
  {
   "cell_type": "markdown",
   "id": "4913302b",
   "metadata": {},
   "source": [
    "### Model 1 - Logistic Regression Model"
   ]
  },
  {
   "cell_type": "code",
   "execution_count": 37,
   "id": "4099befd",
   "metadata": {},
   "outputs": [
    {
     "data": {
      "text/plain": [
       "LogisticRegression()"
      ]
     },
     "execution_count": 37,
     "metadata": {},
     "output_type": "execute_result"
    }
   ],
   "source": [
    "from sklearn.linear_model import LogisticRegression\n",
    "\n",
    "log_reg = LogisticRegression()\n",
    "log_reg.fit(X_train, y_train)"
   ]
  },
  {
   "cell_type": "code",
   "execution_count": 38,
   "id": "a6e89428",
   "metadata": {},
   "outputs": [],
   "source": [
    "# model predictions\n",
    "\n",
    "y_pred = log_reg.predict(X_test)"
   ]
  },
  {
   "cell_type": "code",
   "execution_count": 39,
   "id": "be521ae0",
   "metadata": {},
   "outputs": [
    {
     "name": "stdout",
     "output_type": "stream",
     "text": [
      "0.6464083084912011\n",
      "0.3692098092643052\n"
     ]
    }
   ],
   "source": [
    "from sklearn.metrics import accuracy_score, confusion_matrix, classification_report,f1_score\n",
    "#F1 score\n",
    "print(f1_score(y_train, log_reg.predict(X_train),pos_label='1'))\n",
    "log_reg_f1 = f1_score(y_test, log_reg.predict(X_test),pos_label='1')\n",
    "print(log_reg_f1)"
   ]
  },
  {
   "cell_type": "code",
   "execution_count": 40,
   "id": "4c2b349b",
   "metadata": {},
   "outputs": [
    {
     "name": "stdout",
     "output_type": "stream",
     "text": [
      "[[2800 1510]\n",
      " [ 342  542]]\n"
     ]
    }
   ],
   "source": [
    "# confusion matrix\n",
    "\n",
    "print(confusion_matrix(y_test, y_pred))"
   ]
  },
  {
   "cell_type": "code",
   "execution_count": 41,
   "id": "1dcbe86c",
   "metadata": {},
   "outputs": [
    {
     "name": "stdout",
     "output_type": "stream",
     "text": [
      "              precision    recall  f1-score   support\n",
      "\n",
      "           0       0.89      0.65      0.75      4310\n",
      "           1       0.26      0.61      0.37       884\n",
      "\n",
      "    accuracy                           0.64      5194\n",
      "   macro avg       0.58      0.63      0.56      5194\n",
      "weighted avg       0.78      0.64      0.69      5194\n",
      "\n"
     ]
    }
   ],
   "source": [
    "# classification report\n",
    "\n",
    "print(classification_report(y_test, y_pred))"
   ]
  },
  {
   "cell_type": "markdown",
   "id": "441e823d",
   "metadata": {},
   "source": [
    "### Model 2 - K-Nearest Neighbors"
   ]
  },
  {
   "cell_type": "code",
   "execution_count": 42,
   "id": "50a001ba",
   "metadata": {},
   "outputs": [
    {
     "data": {
      "text/plain": [
       "KNeighborsClassifier()"
      ]
     },
     "execution_count": 42,
     "metadata": {},
     "output_type": "execute_result"
    }
   ],
   "source": [
    "from sklearn.neighbors import KNeighborsClassifier\n",
    "\n",
    "knn = KNeighborsClassifier()\n",
    "knn.fit(X_train, y_train)"
   ]
  },
  {
   "cell_type": "code",
   "execution_count": 43,
   "id": "15cf9035",
   "metadata": {},
   "outputs": [],
   "source": [
    "# model predictions \n",
    "\n",
    "y_pred = knn.predict(X_test)"
   ]
  },
  {
   "cell_type": "code",
   "execution_count": 44,
   "id": "8b917beb",
   "metadata": {},
   "outputs": [
    {
     "name": "stdout",
     "output_type": "stream",
     "text": [
      "0.8907738483622601\n",
      "0.28700564971751413\n"
     ]
    }
   ],
   "source": [
    "#F1 score\n",
    "print(f1_score(y_train, knn.predict(X_train),pos_label='1'))\n",
    "knn_f1 = f1_score(y_test, knn.predict(X_test),pos_label='1')\n",
    "print(knn_f1)"
   ]
  },
  {
   "cell_type": "code",
   "execution_count": 45,
   "id": "9948846c",
   "metadata": {},
   "outputs": [
    {
     "name": "stdout",
     "output_type": "stream",
     "text": [
      "[[2920 1390]\n",
      " [ 503  381]]\n"
     ]
    }
   ],
   "source": [
    "# confusion matrix\n",
    "\n",
    "print(confusion_matrix(y_test, y_pred))"
   ]
  },
  {
   "cell_type": "code",
   "execution_count": 46,
   "id": "f23e3fdb",
   "metadata": {},
   "outputs": [
    {
     "name": "stdout",
     "output_type": "stream",
     "text": [
      "              precision    recall  f1-score   support\n",
      "\n",
      "           0       0.85      0.68      0.76      4310\n",
      "           1       0.22      0.43      0.29       884\n",
      "\n",
      "    accuracy                           0.64      5194\n",
      "   macro avg       0.53      0.55      0.52      5194\n",
      "weighted avg       0.74      0.64      0.68      5194\n",
      "\n"
     ]
    }
   ],
   "source": [
    "# classification report\n",
    "\n",
    "print(classification_report(y_test, y_pred))"
   ]
  },
  {
   "cell_type": "markdown",
   "id": "d00efc3c",
   "metadata": {},
   "source": [
    "### Model 3 - Support Vector Machine"
   ]
  },
  {
   "cell_type": "code",
   "execution_count": 47,
   "id": "640e8549",
   "metadata": {},
   "outputs": [],
   "source": [
    "from sklearn.svm import SVC\n",
    "from sklearn.model_selection import GridSearchCV\n",
    "\n",
    "#svc = SVC()\n",
    "#parameters = {\n",
    "#    'gamma' : [0.001],\n",
    "#    'C' : [0.5]\n",
    "#}\n",
    "\n",
    "#grid_search = GridSearchCV(svc, parameters)\n",
    "#grid_search.fit(X_train, y_train)\n",
    "\n",
    "#parameters = {\n",
    "#    'gamma' : [0.0001, 0.001, 0.01, 0.1],\n",
    "#    'C' : [0.01, 0.05, 0.5, 0.1, 1, 10, 15, 20]\n",
    "#}\n",
    "# Remove to run faster after knowing the best parameter"
   ]
  },
  {
   "cell_type": "code",
   "execution_count": 48,
   "id": "a110349a",
   "metadata": {},
   "outputs": [],
   "source": [
    "# best parameters\n",
    "\n",
    "# grid_search.best_params_"
   ]
  },
  {
   "cell_type": "code",
   "execution_count": 49,
   "id": "76f0e7ce",
   "metadata": {},
   "outputs": [],
   "source": [
    "# best accuracy \n",
    "\n",
    "# grid_search.best_score_"
   ]
  },
  {
   "cell_type": "code",
   "execution_count": 50,
   "id": "f352a50a",
   "metadata": {},
   "outputs": [
    {
     "data": {
      "text/plain": [
       "SVC(C=0.5, gamma=0.001)"
      ]
     },
     "execution_count": 50,
     "metadata": {},
     "output_type": "execute_result"
    }
   ],
   "source": [
    "svc = SVC(C = 0.5, gamma = 0.001)\n",
    "svc.fit(X_train, y_train)"
   ]
  },
  {
   "cell_type": "code",
   "execution_count": 51,
   "id": "bc0274da",
   "metadata": {},
   "outputs": [],
   "source": [
    "# model predictions \n",
    "\n",
    "y_pred = svc.predict(X_test)"
   ]
  },
  {
   "cell_type": "code",
   "execution_count": 52,
   "id": "a3d31fe5",
   "metadata": {},
   "outputs": [
    {
     "name": "stdout",
     "output_type": "stream",
     "text": [
      "0.6534297735545785\n",
      "0.3681427627230668\n"
     ]
    }
   ],
   "source": [
    "#F1 score\n",
    "print(f1_score(y_train, svc.predict(X_train),pos_label='1'))\n",
    "svc_f1 = f1_score(y_test, svc.predict(X_test),pos_label='1')\n",
    "print(svc_f1)"
   ]
  },
  {
   "cell_type": "code",
   "execution_count": 53,
   "id": "68a212d9",
   "metadata": {},
   "outputs": [
    {
     "name": "stdout",
     "output_type": "stream",
     "text": [
      "[[2725 1585]\n",
      " [ 327  557]]\n"
     ]
    }
   ],
   "source": [
    "# confusion matrix\n",
    "\n",
    "print(confusion_matrix(y_test, y_pred))"
   ]
  },
  {
   "cell_type": "code",
   "execution_count": 54,
   "id": "faf40d05",
   "metadata": {},
   "outputs": [
    {
     "name": "stdout",
     "output_type": "stream",
     "text": [
      "              precision    recall  f1-score   support\n",
      "\n",
      "           0       0.89      0.63      0.74      4310\n",
      "           1       0.26      0.63      0.37       884\n",
      "\n",
      "    accuracy                           0.63      5194\n",
      "   macro avg       0.58      0.63      0.55      5194\n",
      "weighted avg       0.79      0.63      0.68      5194\n",
      "\n"
     ]
    }
   ],
   "source": [
    "# classification report\n",
    "\n",
    "print(classification_report(y_test, y_pred))"
   ]
  },
  {
   "cell_type": "markdown",
   "id": "9a704e46",
   "metadata": {},
   "source": [
    "### Model 4 - Stochastic Gradient Boosting"
   ]
  },
  {
   "cell_type": "code",
   "execution_count": 55,
   "id": "993fe7eb",
   "metadata": {},
   "outputs": [],
   "source": [
    "from sklearn.linear_model import SGDClassifier\n",
    "\n",
    "#sgd = SGDClassifier()\n",
    "#parameters = {\n",
    "#    'alpha' : [0.01],\n",
    "#    'loss' : ['hinge'],\n",
    "#    'penalty' : ['l2']\n",
    "#}\n",
    "\n",
    "#grid_search = GridSearchCV(sgd, parameters, cv = 10, n_jobs = -1)\n",
    "#grid_search.fit(X_train, y_train)\n",
    "\n",
    "#parameters = {\n",
    "#    'alpha' : [0.0001, 0.001, 0.01, 0.1, 1],\n",
    "#    'loss' : ['hinge', 'log'],\n",
    "#    'penalty' : ['l1', 'l2']\n",
    "#}\n",
    "# Remove to run faster after knowing the best parameter"
   ]
  },
  {
   "cell_type": "code",
   "execution_count": 56,
   "id": "4ea8db70",
   "metadata": {},
   "outputs": [],
   "source": [
    "# best parameter \n",
    "\n",
    "# grid_search.best_params_"
   ]
  },
  {
   "cell_type": "code",
   "execution_count": 57,
   "id": "a53a1954",
   "metadata": {},
   "outputs": [
    {
     "data": {
      "text/plain": [
       "SGDClassifier(alpha=0.05)"
      ]
     },
     "execution_count": 57,
     "metadata": {},
     "output_type": "execute_result"
    }
   ],
   "source": [
    "sgd = SGDClassifier(alpha = 0.05, loss = 'hinge', penalty = 'l2')\n",
    "sgd.fit(X_train, y_train)"
   ]
  },
  {
   "cell_type": "code",
   "execution_count": 58,
   "id": "efca8484",
   "metadata": {},
   "outputs": [],
   "source": [
    "# model predictions \n",
    "\n",
    "y_pred = sgd.predict(X_test)"
   ]
  },
  {
   "cell_type": "code",
   "execution_count": 59,
   "id": "1d486951",
   "metadata": {},
   "outputs": [
    {
     "name": "stdout",
     "output_type": "stream",
     "text": [
      "0.6503463326691338\n",
      "0.3684559310801855\n"
     ]
    }
   ],
   "source": [
    "#F1 score\n",
    "print(f1_score(y_train, sgd.predict(X_train),pos_label='1'))\n",
    "sgd_f1 = f1_score(y_test, sgd.predict(X_test),pos_label='1')\n",
    "print(sgd_f1)"
   ]
  },
  {
   "cell_type": "code",
   "execution_count": 60,
   "id": "0c618a44",
   "metadata": {},
   "outputs": [
    {
     "name": "stdout",
     "output_type": "stream",
     "text": [
      "[[2732 1578]\n",
      " [ 328  556]]\n"
     ]
    }
   ],
   "source": [
    "# confusion matrix\n",
    "\n",
    "print(confusion_matrix(y_test, y_pred))"
   ]
  },
  {
   "cell_type": "code",
   "execution_count": 61,
   "id": "d9a40f1f",
   "metadata": {},
   "outputs": [
    {
     "name": "stdout",
     "output_type": "stream",
     "text": [
      "              precision    recall  f1-score   support\n",
      "\n",
      "           0       0.89      0.63      0.74      4310\n",
      "           1       0.26      0.63      0.37       884\n",
      "\n",
      "    accuracy                           0.63      5194\n",
      "   macro avg       0.58      0.63      0.55      5194\n",
      "weighted avg       0.79      0.63      0.68      5194\n",
      "\n"
     ]
    }
   ],
   "source": [
    "# classification report\n",
    "\n",
    "print(classification_report(y_test, y_pred))"
   ]
  },
  {
   "cell_type": "markdown",
   "id": "7dfe0f59",
   "metadata": {},
   "source": [
    "### Model 5 - Decision Tree"
   ]
  },
  {
   "cell_type": "code",
   "execution_count": 62,
   "id": "d6129f07",
   "metadata": {},
   "outputs": [],
   "source": [
    "from sklearn.tree import DecisionTreeClassifier\n",
    "\n",
    "#dtc = DecisionTreeClassifier()\n",
    "\n",
    "#parameters = {\n",
    "#    'criterion' : ['gini'],\n",
    "#    'max_depth' : range(2, 4, 1),\n",
    "#    'min_samples_leaf' : range(1, 4, 1),\n",
    "#    'min_samples_split' : range(2, 6, 1),\n",
    "#    'splitter' : ['best']\n",
    "#}\n",
    "\n",
    "#grid_search_dt = GridSearchCV(dtc, parameters, cv = 5, n_jobs = -1, verbose = 1)\n",
    "#grid_search_dt.fit(X_train, y_train)\n",
    "#parameters = {\n",
    "#'criterion' : ['gini', 'entropy'],\n",
    "#    'max_depth' : range(2, 4, 1),\n",
    "#    'min_samples_leaf' : range(1, 4, 1),\n",
    "#    'min_samples_split' : range(2, 6, 1),\n",
    "#    'splitter' : ['best', 'random']\n",
    "#}\n",
    "#Removed in running so that algorithm can run faster after knowing the best parameter"
   ]
  },
  {
   "cell_type": "code",
   "execution_count": 63,
   "id": "3bcdcc54",
   "metadata": {},
   "outputs": [],
   "source": [
    "# best parameters\n",
    "\n",
    "#grid_search_dt.best_params_"
   ]
  },
  {
   "cell_type": "code",
   "execution_count": 64,
   "id": "4e19ac01",
   "metadata": {},
   "outputs": [],
   "source": [
    "# best score\n",
    "\n",
    "#grid_search_dt.best_score_"
   ]
  },
  {
   "cell_type": "code",
   "execution_count": 65,
   "id": "2a64e899",
   "metadata": {},
   "outputs": [
    {
     "data": {
      "text/plain": [
       "DecisionTreeClassifier(max_depth=4)"
      ]
     },
     "execution_count": 65,
     "metadata": {},
     "output_type": "execute_result"
    }
   ],
   "source": [
    "dtc = DecisionTreeClassifier(criterion = 'gini', max_depth = 4, min_samples_leaf = 1, min_samples_split = 2, splitter = 'best')\n",
    "dtc.fit(X_train, y_train)"
   ]
  },
  {
   "cell_type": "code",
   "execution_count": 66,
   "id": "36e66035",
   "metadata": {},
   "outputs": [],
   "source": [
    "y_pred = dtc.predict(X_test)"
   ]
  },
  {
   "cell_type": "code",
   "execution_count": 67,
   "id": "0cfcc0f7",
   "metadata": {},
   "outputs": [
    {
     "name": "stdout",
     "output_type": "stream",
     "text": [
      "0.6779414904975443\n",
      "0.3547044129891757\n"
     ]
    }
   ],
   "source": [
    "#F1 score\n",
    "print(f1_score(y_train, dtc.predict(X_train),pos_label='1'))\n",
    "dtc_f1 = f1_score(y_test, dtc.predict(X_test),pos_label='1')\n",
    "print(dtc_f1)"
   ]
  },
  {
   "cell_type": "code",
   "execution_count": 68,
   "id": "21183d68",
   "metadata": {},
   "outputs": [
    {
     "name": "stdout",
     "output_type": "stream",
     "text": [
      "[[2230 2080]\n",
      " [ 245  639]]\n"
     ]
    }
   ],
   "source": [
    "# confusion matrix\n",
    "\n",
    "print(confusion_matrix(y_test, y_pred))"
   ]
  },
  {
   "cell_type": "code",
   "execution_count": 69,
   "id": "aaf3a064",
   "metadata": {},
   "outputs": [
    {
     "name": "stdout",
     "output_type": "stream",
     "text": [
      "              precision    recall  f1-score   support\n",
      "\n",
      "           0       0.90      0.52      0.66      4310\n",
      "           1       0.24      0.72      0.35       884\n",
      "\n",
      "    accuracy                           0.55      5194\n",
      "   macro avg       0.57      0.62      0.51      5194\n",
      "weighted avg       0.79      0.55      0.61      5194\n",
      "\n"
     ]
    }
   ],
   "source": [
    "# classification report\n",
    "\n",
    "print(classification_report(y_test, y_pred))"
   ]
  },
  {
   "cell_type": "markdown",
   "id": "574f15f6",
   "metadata": {},
   "source": [
    "### Model 6 - Random Forest"
   ]
  },
  {
   "cell_type": "code",
   "execution_count": 70,
   "id": "365da480",
   "metadata": {},
   "outputs": [
    {
     "data": {
      "text/plain": [
       "RandomForestClassifier(max_depth=5, min_samples_leaf=3, min_samples_split=3,\n",
       "                       n_estimators=130)"
      ]
     },
     "execution_count": 70,
     "metadata": {},
     "output_type": "execute_result"
    }
   ],
   "source": [
    "from sklearn.ensemble import RandomForestClassifier\n",
    "\n",
    "rand_clf = RandomForestClassifier(criterion = 'gini', max_depth = 5, max_features = 'auto', min_samples_leaf = 3, min_samples_split = 3, n_estimators = 130)\n",
    "rand_clf.fit(X_train, y_train)"
   ]
  },
  {
   "cell_type": "code",
   "execution_count": 71,
   "id": "39e01e63",
   "metadata": {},
   "outputs": [],
   "source": [
    "y_pred = rand_clf.predict(X_test)"
   ]
  },
  {
   "cell_type": "code",
   "execution_count": 72,
   "id": "9f6cebf9",
   "metadata": {},
   "outputs": [
    {
     "name": "stdout",
     "output_type": "stream",
     "text": [
      "0.6940919444057082\n",
      "0.3681558616056433\n"
     ]
    }
   ],
   "source": [
    "#F1 score\n",
    "print(f1_score(y_train, rand_clf.predict(X_train),pos_label='1'))\n",
    "rand_clf_f1 = f1_score(y_test, rand_clf.predict(X_test),pos_label='1')\n",
    "print(rand_clf_f1)"
   ]
  },
  {
   "cell_type": "code",
   "execution_count": 73,
   "id": "85c623fc",
   "metadata": {},
   "outputs": [
    {
     "name": "stdout",
     "output_type": "stream",
     "text": [
      "[[2765 1545]\n",
      " [ 336  548]]\n"
     ]
    }
   ],
   "source": [
    "# confusion matrix\n",
    "\n",
    "print(confusion_matrix(y_test, y_pred))"
   ]
  },
  {
   "cell_type": "code",
   "execution_count": 74,
   "id": "fd93341f",
   "metadata": {},
   "outputs": [
    {
     "name": "stdout",
     "output_type": "stream",
     "text": [
      "              precision    recall  f1-score   support\n",
      "\n",
      "           0       0.89      0.64      0.75      4310\n",
      "           1       0.26      0.62      0.37       884\n",
      "\n",
      "    accuracy                           0.64      5194\n",
      "   macro avg       0.58      0.63      0.56      5194\n",
      "weighted avg       0.78      0.64      0.68      5194\n",
      "\n"
     ]
    }
   ],
   "source": [
    "# classification report\n",
    "\n",
    "print(classification_report(y_test, y_pred))"
   ]
  },
  {
   "cell_type": "markdown",
   "id": "acd60c2d",
   "metadata": {},
   "source": [
    "### Model 7 - Voting Classifier"
   ]
  },
  {
   "cell_type": "code",
   "execution_count": 75,
   "id": "dfff010c",
   "metadata": {},
   "outputs": [
    {
     "data": {
      "text/plain": [
       "VotingClassifier(estimators=[('Logistic Regression', LogisticRegression()),\n",
       "                             ('K Nearest Neighbours', KNeighborsClassifier()),\n",
       "                             ('Support Vector Classifier',\n",
       "                              SVC(C=0.5, gamma=0.001)),\n",
       "                             ('Decision Tree',\n",
       "                              DecisionTreeClassifier(max_depth=4))])"
      ]
     },
     "execution_count": 75,
     "metadata": {},
     "output_type": "execute_result"
    }
   ],
   "source": [
    "from sklearn.ensemble import VotingClassifier\n",
    "\n",
    "classifiers = [('Logistic Regression', log_reg), ('K Nearest Neighbours', knn), ('Support Vector Classifier', svc),\n",
    "               ('Decision Tree', dtc)]\n",
    "\n",
    "vc = VotingClassifier(estimators = classifiers)\n",
    "\n",
    "vc.fit(X_train, y_train)"
   ]
  },
  {
   "cell_type": "code",
   "execution_count": 76,
   "id": "a5ddc9d1",
   "metadata": {},
   "outputs": [],
   "source": [
    "y_pred = vc.predict(X_test)"
   ]
  },
  {
   "cell_type": "code",
   "execution_count": 77,
   "id": "a6272bf5",
   "metadata": {},
   "outputs": [
    {
     "name": "stdout",
     "output_type": "stream",
     "text": [
      "0.6719592276781338\n",
      "0.37137614678899084\n"
     ]
    }
   ],
   "source": [
    "#F1 score\n",
    "print(f1_score(y_train, vc.predict(X_train),pos_label='1'))\n",
    "vc_f1 = f1_score(y_test, vc.predict(X_test),pos_label='1')\n",
    "print(vc_f1)"
   ]
  },
  {
   "cell_type": "code",
   "execution_count": 78,
   "id": "0c9fe32f",
   "metadata": {},
   "outputs": [
    {
     "name": "stdout",
     "output_type": "stream",
     "text": [
      "[[2975 1335]\n",
      " [ 378  506]]\n"
     ]
    }
   ],
   "source": [
    "# confusion matrix\n",
    "\n",
    "print(confusion_matrix(y_test, y_pred))"
   ]
  },
  {
   "cell_type": "code",
   "execution_count": 79,
   "id": "c5f90665",
   "metadata": {},
   "outputs": [
    {
     "name": "stdout",
     "output_type": "stream",
     "text": [
      "              precision    recall  f1-score   support\n",
      "\n",
      "           0       0.89      0.69      0.78      4310\n",
      "           1       0.27      0.57      0.37       884\n",
      "\n",
      "    accuracy                           0.67      5194\n",
      "   macro avg       0.58      0.63      0.57      5194\n",
      "weighted avg       0.78      0.67      0.71      5194\n",
      "\n"
     ]
    }
   ],
   "source": [
    "# classification report\n",
    "\n",
    "print(classification_report(y_test, y_pred))"
   ]
  },
  {
   "cell_type": "markdown",
   "id": "0243d57a",
   "metadata": {},
   "source": [
    "### Model 8 - Adapting Boosting"
   ]
  },
  {
   "cell_type": "code",
   "execution_count": 80,
   "id": "fe4842bb",
   "metadata": {},
   "outputs": [
    {
     "data": {
      "text/plain": [
       "AdaBoostClassifier(base_estimator=LogisticRegression(), n_estimators=200)"
      ]
     },
     "execution_count": 80,
     "metadata": {},
     "output_type": "execute_result"
    }
   ],
   "source": [
    "from sklearn.ensemble import AdaBoostClassifier\n",
    "\n",
    "ada = AdaBoostClassifier(base_estimator = log_reg)\n",
    "\n",
    "ada = AdaBoostClassifier(log_reg, n_estimators = 200)\n",
    "ada.fit(X_train, y_train)"
   ]
  },
  {
   "cell_type": "code",
   "execution_count": 81,
   "id": "5a7ea342",
   "metadata": {},
   "outputs": [],
   "source": [
    "y_pred = ada.predict(X_test)"
   ]
  },
  {
   "cell_type": "code",
   "execution_count": 82,
   "id": "c98d4197",
   "metadata": {},
   "outputs": [
    {
     "name": "stdout",
     "output_type": "stream",
     "text": [
      "0.6434093544646308\n",
      "0.3678239944998281\n"
     ]
    }
   ],
   "source": [
    "#F1 score\n",
    "print(f1_score(y_train, ada.predict(X_train),pos_label='1'))\n",
    "ada_f1 = f1_score(y_test, ada.predict(X_test),pos_label='1')\n",
    "print(ada_f1)"
   ]
  },
  {
   "cell_type": "code",
   "execution_count": 83,
   "id": "23d8ac53",
   "metadata": {},
   "outputs": [
    {
     "name": "stdout",
     "output_type": "stream",
     "text": [
      "[[2820 1490]\n",
      " [ 349  535]]\n"
     ]
    }
   ],
   "source": [
    "# confusion matrix\n",
    "\n",
    "print(confusion_matrix(y_test, y_pred))"
   ]
  },
  {
   "cell_type": "code",
   "execution_count": 84,
   "id": "af7ccb20",
   "metadata": {},
   "outputs": [
    {
     "name": "stdout",
     "output_type": "stream",
     "text": [
      "              precision    recall  f1-score   support\n",
      "\n",
      "           0       0.89      0.65      0.75      4310\n",
      "           1       0.26      0.61      0.37       884\n",
      "\n",
      "    accuracy                           0.65      5194\n",
      "   macro avg       0.58      0.63      0.56      5194\n",
      "weighted avg       0.78      0.65      0.69      5194\n",
      "\n"
     ]
    }
   ],
   "source": [
    "# classification report\n",
    "\n",
    "print(classification_report(y_test, y_pred))"
   ]
  },
  {
   "cell_type": "markdown",
   "id": "ed046acd",
   "metadata": {},
   "source": [
    "### Model 9 - Gradient Boosting"
   ]
  },
  {
   "cell_type": "code",
   "execution_count": 85,
   "id": "cc9140a7",
   "metadata": {},
   "outputs": [],
   "source": [
    "from sklearn.ensemble import GradientBoostingClassifier\n",
    "\n",
    "#gbc = GradientBoostingClassifier()\n",
    "\n",
    "#parameters = {\n",
    "#    'loss': ['exponential'],\n",
    "#    'learning_rate': [0.1],\n",
    "#    'n_estimators': [150]\n",
    "#}\n",
    "\n",
    "#grid_search_gbc = GridSearchCV(gbc, parameters, cv = 5, n_jobs = -1, verbose = 1)\n",
    "#grid_search_gbc.fit(X_train, y_train)\n",
    "\n",
    "#parameters = {\n",
    "#    'loss': ['deviance', 'exponential'],\n",
    "#    'learning_rate': [0.001, 0.1, 1, 10],\n",
    "#    'n_estimators': [100, 150, 180, 200]\n",
    "#}"
   ]
  },
  {
   "cell_type": "code",
   "execution_count": 86,
   "id": "7da59f40",
   "metadata": {},
   "outputs": [],
   "source": [
    "# best parameters \n",
    "\n",
    "#grid_search_gbc.best_params_"
   ]
  },
  {
   "cell_type": "code",
   "execution_count": 87,
   "id": "7cfcdc30",
   "metadata": {},
   "outputs": [],
   "source": [
    "# best score\n",
    "\n",
    "#grid_search_gbc.best_score_"
   ]
  },
  {
   "cell_type": "code",
   "execution_count": 88,
   "id": "64ff8579",
   "metadata": {},
   "outputs": [],
   "source": [
    "#    'loss': ['deviance', 'exponential'],\n",
    "#    'learning_rate': [0.001, 0.1, 1, 10],\n",
    "#    'n_estimators': [100, 150, 180, 200]"
   ]
  },
  {
   "cell_type": "code",
   "execution_count": 89,
   "id": "9072ec03",
   "metadata": {},
   "outputs": [
    {
     "data": {
      "text/plain": [
       "GradientBoostingClassifier(learning_rate=0.05, n_estimators=150)"
      ]
     },
     "execution_count": 89,
     "metadata": {},
     "output_type": "execute_result"
    }
   ],
   "source": [
    "gbc = GradientBoostingClassifier(learning_rate = 0.05, loss = 'deviance', n_estimators = 150)\n",
    "gbc.fit(X_train, y_train)"
   ]
  },
  {
   "cell_type": "code",
   "execution_count": 90,
   "id": "d6af75ba",
   "metadata": {},
   "outputs": [],
   "source": [
    "y_pred = gbc.predict(X_test)"
   ]
  },
  {
   "cell_type": "code",
   "execution_count": 91,
   "id": "a3213f15",
   "metadata": {},
   "outputs": [
    {
     "name": "stdout",
     "output_type": "stream",
     "text": [
      "0.7124045175500258\n",
      "0.3825363825363825\n"
     ]
    }
   ],
   "source": [
    "#F1 score\n",
    "print(f1_score(y_train, gbc.predict(X_train),pos_label='1'))\n",
    "gbc_f1 = f1_score(y_test, gbc.predict(X_test),pos_label='1')\n",
    "print(gbc_f1)"
   ]
  },
  {
   "cell_type": "code",
   "execution_count": 92,
   "id": "f5cf50e8",
   "metadata": {},
   "outputs": [
    {
     "name": "stdout",
     "output_type": "stream",
     "text": [
      "[[2860 1450]\n",
      " [ 332  552]]\n"
     ]
    }
   ],
   "source": [
    "# confusion matrix\n",
    "\n",
    "print(confusion_matrix(y_test, y_pred))"
   ]
  },
  {
   "cell_type": "code",
   "execution_count": 93,
   "id": "2d7063f4",
   "metadata": {},
   "outputs": [
    {
     "name": "stdout",
     "output_type": "stream",
     "text": [
      "              precision    recall  f1-score   support\n",
      "\n",
      "           0       0.90      0.66      0.76      4310\n",
      "           1       0.28      0.62      0.38       884\n",
      "\n",
      "    accuracy                           0.66      5194\n",
      "   macro avg       0.59      0.64      0.57      5194\n",
      "weighted avg       0.79      0.66      0.70      5194\n",
      "\n"
     ]
    }
   ],
   "source": [
    "# classification report\n",
    "\n",
    "print(classification_report(y_test, y_pred))"
   ]
  },
  {
   "cell_type": "markdown",
   "id": "daacfb16",
   "metadata": {},
   "source": [
    "### Model 10 - Stochastic Gradient Boosting"
   ]
  },
  {
   "cell_type": "code",
   "execution_count": 94,
   "id": "71da0f57",
   "metadata": {},
   "outputs": [
    {
     "data": {
      "text/plain": [
       "GradientBoostingClassifier(max_depth=2, max_features=0.75, n_estimators=150,\n",
       "                           random_state=0, subsample=0.5)"
      ]
     },
     "execution_count": 94,
     "metadata": {},
     "output_type": "execute_result"
    }
   ],
   "source": [
    "sgbc = GradientBoostingClassifier(max_depth=2, subsample=0.5, max_features=0.75, n_estimators=150, random_state=0)\n",
    "\n",
    "sgbc.fit(X_train, y_train)"
   ]
  },
  {
   "cell_type": "code",
   "execution_count": 95,
   "id": "78a2f94a",
   "metadata": {},
   "outputs": [],
   "source": [
    "y_pred = sgbc.predict(X_test)"
   ]
  },
  {
   "cell_type": "code",
   "execution_count": 96,
   "id": "b0e7b89e",
   "metadata": {},
   "outputs": [
    {
     "name": "stdout",
     "output_type": "stream",
     "text": [
      "0.6951973371374227\n",
      "0.3902097902097902\n"
     ]
    }
   ],
   "source": [
    "#F1 score\n",
    "print(f1_score(y_train, sgbc.predict(X_train),pos_label='1'))\n",
    "sgbc_f1 = f1_score(y_test, sgbc.predict(X_test),pos_label='1')\n",
    "print(sgbc_f1)"
   ]
  },
  {
   "cell_type": "code",
   "execution_count": 97,
   "id": "63dc1645",
   "metadata": {},
   "outputs": [
    {
     "name": "stdout",
     "output_type": "stream",
     "text": [
      "[[2892 1418]\n",
      " [ 326  558]]\n"
     ]
    }
   ],
   "source": [
    "# confusion matrix\n",
    "\n",
    "print(confusion_matrix(y_test, y_pred))"
   ]
  },
  {
   "cell_type": "code",
   "execution_count": 98,
   "id": "1065f06c",
   "metadata": {},
   "outputs": [
    {
     "name": "stdout",
     "output_type": "stream",
     "text": [
      "              precision    recall  f1-score   support\n",
      "\n",
      "           0       0.90      0.67      0.77      4310\n",
      "           1       0.28      0.63      0.39       884\n",
      "\n",
      "    accuracy                           0.66      5194\n",
      "   macro avg       0.59      0.65      0.58      5194\n",
      "weighted avg       0.79      0.66      0.70      5194\n",
      "\n"
     ]
    }
   ],
   "source": [
    "# classification report\n",
    "\n",
    "print(classification_report(y_test, y_pred))"
   ]
  },
  {
   "cell_type": "markdown",
   "id": "e03755c7",
   "metadata": {},
   "source": [
    "### Model 11 - Extreme Gradiant Boosting"
   ]
  },
  {
   "cell_type": "code",
   "execution_count": 99,
   "id": "31205545",
   "metadata": {},
   "outputs": [
    {
     "name": "stdout",
     "output_type": "stream",
     "text": [
      "[23:05:54] WARNING: C:/Users/Administrator/workspace/xgboost-win64_release_1.5.1/src/learner.cc:1115: Starting in XGBoost 1.3.0, the default evaluation metric used with the objective 'binary:logistic' was changed from 'error' to 'logloss'. Explicitly set eval_metric if you'd like to restore the old behavior.\n"
     ]
    },
    {
     "data": {
      "text/plain": [
       "XGBClassifier(base_score=0.5, booster='gbtree', colsample_bylevel=1,\n",
       "              colsample_bynode=1, colsample_bytree=1, enable_categorical=False,\n",
       "              gamma=0, gpu_id=-1, importance_type=None,\n",
       "              interaction_constraints='', learning_rate=0.25, max_delta_step=0,\n",
       "              max_depth=3, min_child_weight=1, missing=nan,\n",
       "              monotone_constraints='()', n_estimators=150, n_jobs=8,\n",
       "              num_parallel_tree=1, predictor='auto', random_state=0,\n",
       "              reg_alpha=0, reg_lambda=1, scale_pos_weight=1, subsample=1,\n",
       "              tree_method='exact', validate_parameters=1, verbosity=None)"
      ]
     },
     "execution_count": 99,
     "metadata": {},
     "output_type": "execute_result"
    }
   ],
   "source": [
    "from xgboost import XGBClassifier \n",
    "\n",
    "xgb = XGBClassifier(objective = 'binary:logistic', learning_rate = 0.25, max_depth = 3, n_estimators = 150)\n",
    "\n",
    "xgb.fit(X_train, y_train)"
   ]
  },
  {
   "cell_type": "code",
   "execution_count": 100,
   "id": "90d32dab",
   "metadata": {},
   "outputs": [],
   "source": [
    "y_pred = xgb.predict(X_test)"
   ]
  },
  {
   "cell_type": "code",
   "execution_count": 101,
   "id": "e076851a",
   "metadata": {},
   "outputs": [
    {
     "name": "stdout",
     "output_type": "stream",
     "text": [
      "0.7924510542168675\n",
      "0.36632891660171474\n"
     ]
    }
   ],
   "source": [
    "#F1 score\n",
    "print(f1_score(y_train, xgb.predict(X_train),pos_label='1'))\n",
    "xgb_f1 = f1_score(y_test, xgb.predict(X_test),pos_label='1')\n",
    "print(xgb_f1)"
   ]
  },
  {
   "cell_type": "code",
   "execution_count": 102,
   "id": "d047a7a0",
   "metadata": {},
   "outputs": [
    {
     "name": "stdout",
     "output_type": "stream",
     "text": [
      "[[3098 1212]\n",
      " [ 414  470]]\n"
     ]
    }
   ],
   "source": [
    "# confusion matrix\n",
    "\n",
    "print(confusion_matrix(y_test, y_pred))"
   ]
  },
  {
   "cell_type": "code",
   "execution_count": 103,
   "id": "c466e47c",
   "metadata": {},
   "outputs": [
    {
     "name": "stdout",
     "output_type": "stream",
     "text": [
      "              precision    recall  f1-score   support\n",
      "\n",
      "           0       0.88      0.72      0.79      4310\n",
      "           1       0.28      0.53      0.37       884\n",
      "\n",
      "    accuracy                           0.69      5194\n",
      "   macro avg       0.58      0.63      0.58      5194\n",
      "weighted avg       0.78      0.69      0.72      5194\n",
      "\n"
     ]
    }
   ],
   "source": [
    "# classification report\n",
    "\n",
    "print(classification_report(y_test, y_pred))"
   ]
  },
  {
   "cell_type": "markdown",
   "id": "2ac36757",
   "metadata": {},
   "source": [
    "### Model 12 - Gaussian Naives Bayes"
   ]
  },
  {
   "cell_type": "code",
   "execution_count": 104,
   "id": "66215a44",
   "metadata": {},
   "outputs": [],
   "source": [
    "from sklearn.naive_bayes import GaussianNB\n",
    "gnb = GaussianNB()\n",
    "y_pred = gnb.fit(X_train, y_train).predict(X_test)"
   ]
  },
  {
   "cell_type": "code",
   "execution_count": 105,
   "id": "fdb1386b",
   "metadata": {},
   "outputs": [
    {
     "name": "stdout",
     "output_type": "stream",
     "text": [
      "0.6335616438356164\n",
      "0.37196391394864675\n"
     ]
    }
   ],
   "source": [
    "print(f1_score(y_train, gnb.predict(X_train),pos_label='1'))\n",
    "gnb_f1 = f1_score(y_test, gnb.predict(X_test),pos_label='1')\n",
    "print(gnb_f1)"
   ]
  },
  {
   "cell_type": "code",
   "execution_count": 106,
   "id": "b4cd59a2",
   "metadata": {},
   "outputs": [
    {
     "name": "stdout",
     "output_type": "stream",
     "text": [
      "[[2848 1462]\n",
      " [ 348  536]]\n"
     ]
    }
   ],
   "source": [
    "# confusion matrix\n",
    "\n",
    "print(confusion_matrix(y_test, y_pred))"
   ]
  },
  {
   "cell_type": "code",
   "execution_count": 107,
   "id": "e58d0212",
   "metadata": {},
   "outputs": [
    {
     "name": "stdout",
     "output_type": "stream",
     "text": [
      "              precision    recall  f1-score   support\n",
      "\n",
      "           0       0.89      0.66      0.76      4310\n",
      "           1       0.27      0.61      0.37       884\n",
      "\n",
      "    accuracy                           0.65      5194\n",
      "   macro avg       0.58      0.63      0.57      5194\n",
      "weighted avg       0.79      0.65      0.69      5194\n",
      "\n"
     ]
    }
   ],
   "source": [
    "# classification report\n",
    "\n",
    "print(classification_report(y_test, y_pred))"
   ]
  },
  {
   "cell_type": "markdown",
   "id": "dc3930d2",
   "metadata": {},
   "source": [
    "### F-measure score of 12 Classification Algorithm"
   ]
  },
  {
   "cell_type": "code",
   "execution_count": 108,
   "id": "95159ef3",
   "metadata": {},
   "outputs": [
    {
     "data": {
      "text/html": [
       "<div>\n",
       "<style scoped>\n",
       "    .dataframe tbody tr th:only-of-type {\n",
       "        vertical-align: middle;\n",
       "    }\n",
       "\n",
       "    .dataframe tbody tr th {\n",
       "        vertical-align: top;\n",
       "    }\n",
       "\n",
       "    .dataframe thead th {\n",
       "        text-align: right;\n",
       "    }\n",
       "</style>\n",
       "<table border=\"1\" class=\"dataframe\">\n",
       "  <thead>\n",
       "    <tr style=\"text-align: right;\">\n",
       "      <th></th>\n",
       "      <th>Model</th>\n",
       "      <th>F1 Score</th>\n",
       "    </tr>\n",
       "  </thead>\n",
       "  <tbody>\n",
       "    <tr>\n",
       "      <th>9</th>\n",
       "      <td>Stochastic Gradient Boosting</td>\n",
       "      <td>0.390210</td>\n",
       "    </tr>\n",
       "    <tr>\n",
       "      <th>8</th>\n",
       "      <td>Gradient Boosting Classifier</td>\n",
       "      <td>0.382536</td>\n",
       "    </tr>\n",
       "    <tr>\n",
       "      <th>11</th>\n",
       "      <td>GaussianNB</td>\n",
       "      <td>0.371964</td>\n",
       "    </tr>\n",
       "    <tr>\n",
       "      <th>6</th>\n",
       "      <td>Voting Classifier</td>\n",
       "      <td>0.371376</td>\n",
       "    </tr>\n",
       "    <tr>\n",
       "      <th>0</th>\n",
       "      <td>Logistic Regression</td>\n",
       "      <td>0.369210</td>\n",
       "    </tr>\n",
       "    <tr>\n",
       "      <th>3</th>\n",
       "      <td>SGD Classifier</td>\n",
       "      <td>0.368456</td>\n",
       "    </tr>\n",
       "    <tr>\n",
       "      <th>5</th>\n",
       "      <td>Random Forest Classifier</td>\n",
       "      <td>0.368156</td>\n",
       "    </tr>\n",
       "    <tr>\n",
       "      <th>2</th>\n",
       "      <td>SVC</td>\n",
       "      <td>0.368143</td>\n",
       "    </tr>\n",
       "    <tr>\n",
       "      <th>7</th>\n",
       "      <td>Ada Boost Classifier</td>\n",
       "      <td>0.367824</td>\n",
       "    </tr>\n",
       "    <tr>\n",
       "      <th>10</th>\n",
       "      <td>XgBoost</td>\n",
       "      <td>0.366329</td>\n",
       "    </tr>\n",
       "    <tr>\n",
       "      <th>4</th>\n",
       "      <td>Decision Tree Classifier</td>\n",
       "      <td>0.354704</td>\n",
       "    </tr>\n",
       "    <tr>\n",
       "      <th>1</th>\n",
       "      <td>KNN</td>\n",
       "      <td>0.287006</td>\n",
       "    </tr>\n",
       "  </tbody>\n",
       "</table>\n",
       "</div>"
      ],
      "text/plain": [
       "                           Model  F1 Score\n",
       "9   Stochastic Gradient Boosting  0.390210\n",
       "8   Gradient Boosting Classifier  0.382536\n",
       "11                    GaussianNB  0.371964\n",
       "6              Voting Classifier  0.371376\n",
       "0            Logistic Regression  0.369210\n",
       "3                 SGD Classifier  0.368456\n",
       "5       Random Forest Classifier  0.368156\n",
       "2                            SVC  0.368143\n",
       "7           Ada Boost Classifier  0.367824\n",
       "10                       XgBoost  0.366329\n",
       "4       Decision Tree Classifier  0.354704\n",
       "1                            KNN  0.287006"
      ]
     },
     "execution_count": 108,
     "metadata": {},
     "output_type": "execute_result"
    }
   ],
   "source": [
    "models = pd.DataFrame({\n",
    "    'Model': ['Logistic Regression', 'KNN', 'SVC', 'SGD Classifier', 'Decision Tree Classifier', 'Random Forest Classifier', 'Voting Classifier', 'Ada Boost Classifier',\n",
    "             'Gradient Boosting Classifier', 'Stochastic Gradient Boosting', 'XgBoost',\n",
    "             'GaussianNB'],\n",
    "    'F1 Score': [log_reg_f1, knn_f1, svc_f1, sgd_f1, dtc_f1, rand_clf_f1, vc_f1, ada_f1, gbc_f1, sgbc_f1, xgb_f1,gnb_f1]\n",
    "})\n",
    "\n",
    "models.sort_values(by = 'F1 Score', ascending = False)"
   ]
  },
  {
   "cell_type": "markdown",
   "id": "12528495",
   "metadata": {},
   "source": [
    "### Predicting Test Set with Stochastic Gradient Boosting"
   ]
  },
  {
   "cell_type": "code",
   "execution_count": 236,
   "id": "fc45804f",
   "metadata": {},
   "outputs": [],
   "source": [
    "test = pd.read_csv('C:/Users/micke/Desktop/test_2021.csv')"
   ]
  },
  {
   "cell_type": "code",
   "execution_count": 237,
   "id": "a83695bf",
   "metadata": {},
   "outputs": [
    {
     "data": {
      "text/plain": [
       "(12002, 24)"
      ]
     },
     "execution_count": 237,
     "metadata": {},
     "output_type": "execute_result"
    }
   ],
   "source": [
    "test.shape"
   ]
  },
  {
   "cell_type": "code",
   "execution_count": 238,
   "id": "7d1da6d2",
   "metadata": {},
   "outputs": [
    {
     "data": {
      "text/plain": [
       "claim_number                0\n",
       "age_of_driver               0\n",
       "gender                      0\n",
       "marital_status              2\n",
       "safty_rating                0\n",
       "annual_income               0\n",
       "high_education_ind          0\n",
       "address_change_ind          0\n",
       "living_status               0\n",
       "zip_code                    0\n",
       "claim_date                  0\n",
       "claim_day_of_week           0\n",
       "accident_site               0\n",
       "past_num_of_claims          0\n",
       "witness_present_ind        88\n",
       "liab_prct                   0\n",
       "channel                     0\n",
       "policy_report_filed_ind     0\n",
       "claim_est_payout           14\n",
       "age_of_vehicle              3\n",
       "vehicle_category            0\n",
       "vehicle_price               0\n",
       "vehicle_color               0\n",
       "vehicle_weight              0\n",
       "dtype: int64"
      ]
     },
     "execution_count": 238,
     "metadata": {},
     "output_type": "execute_result"
    }
   ],
   "source": [
    "test.isna().sum()"
   ]
  },
  {
   "cell_type": "code",
   "execution_count": 239,
   "id": "9fa1f5ea",
   "metadata": {},
   "outputs": [],
   "source": [
    "test['marital_status'] = test['marital_status'].fillna(test['marital_status'].mode()[0])\n",
    "test['witness_present_ind'] = test['witness_present_ind'].fillna(test['witness_present_ind'].mode()[0])\n",
    "test['claim_est_payout'] = test['claim_est_payout'].fillna(test['claim_est_payout'].mode()[0])\n",
    "test['age_of_vehicle'] = test['age_of_vehicle'].fillna(test['age_of_vehicle'].mode()[0])"
   ]
  },
  {
   "cell_type": "code",
   "execution_count": 240,
   "id": "9c3320e9",
   "metadata": {},
   "outputs": [],
   "source": [
    "#Make sure the datatype are appropriate\n",
    "test['claim_number']=test['claim_number'].astype(str)\n",
    "test['age_of_driver']=test['age_of_driver'].astype(float)\n",
    "test['gender']=test['gender'].astype('category')\n",
    "test['marital_status']=test['marital_status'].astype(int)\n",
    "test['marital_status']=test['marital_status'].astype('category')\n",
    "test['safty_rating']=test['safty_rating'].astype(float)\n",
    "test['annual_income']=test['annual_income'].astype(float)\n",
    "test['high_education_ind']=test['high_education_ind'].astype('category')\n",
    "test['address_change_ind']=test['address_change_ind'].astype('category')\n",
    "test['living_status']=test['living_status'].astype('category')\n",
    "test['zip_code']=test['zip_code'].astype(str)\n",
    "test['claim_date']=test['claim_date'].astype(str)\n",
    "test['claim_day_of_week']=test['claim_day_of_week'].astype('category')\n",
    "test['accident_site']=test['accident_site'].astype('category')\n",
    "test['past_num_of_claims']=test['past_num_of_claims'].astype(int)\n",
    "test['witness_present_ind']=test['witness_present_ind'].astype(int)\n",
    "test['witness_present_ind']=test['witness_present_ind'].astype('category')\n",
    "test['liab_prct']=test['liab_prct'].astype(float)\n",
    "test['channel']=test['channel'].astype('category')\n",
    "test['policy_report_filed_ind']=test['policy_report_filed_ind'].astype('category')\n",
    "test['claim_est_payout']=test['claim_est_payout'].astype(float)\n",
    "test['age_of_vehicle']=test['age_of_vehicle'].astype(int)\n",
    "test['vehicle_category']=test['vehicle_category'].astype('category')\n",
    "test['vehicle_price']=test['vehicle_price'].astype(float)\n",
    "test['vehicle_color']=test['vehicle_color'].astype('category')\n",
    "test['vehicle_weight']=test['vehicle_weight'].astype(float)"
   ]
  },
  {
   "cell_type": "code",
   "execution_count": 241,
   "id": "0ab201c5",
   "metadata": {},
   "outputs": [
    {
     "name": "stdout",
     "output_type": "stream",
     "text": [
      "<class 'pandas.core.frame.DataFrame'>\n",
      "RangeIndex: 12002 entries, 0 to 12001\n",
      "Data columns (total 24 columns):\n",
      " #   Column                   Non-Null Count  Dtype   \n",
      "---  ------                   --------------  -----   \n",
      " 0   claim_number             12002 non-null  object  \n",
      " 1   age_of_driver            12002 non-null  float64 \n",
      " 2   gender                   12002 non-null  category\n",
      " 3   marital_status           12002 non-null  category\n",
      " 4   safty_rating             12002 non-null  float64 \n",
      " 5   annual_income            12002 non-null  float64 \n",
      " 6   high_education_ind       12002 non-null  category\n",
      " 7   address_change_ind       12002 non-null  category\n",
      " 8   living_status            12002 non-null  category\n",
      " 9   zip_code                 12002 non-null  object  \n",
      " 10  claim_date               12002 non-null  object  \n",
      " 11  claim_day_of_week        12002 non-null  category\n",
      " 12  accident_site            12002 non-null  category\n",
      " 13  past_num_of_claims       12002 non-null  int32   \n",
      " 14  witness_present_ind      12002 non-null  category\n",
      " 15  liab_prct                12002 non-null  float64 \n",
      " 16  channel                  12002 non-null  category\n",
      " 17  policy_report_filed_ind  12002 non-null  category\n",
      " 18  claim_est_payout         12002 non-null  float64 \n",
      " 19  age_of_vehicle           12002 non-null  int32   \n",
      " 20  vehicle_category         12002 non-null  category\n",
      " 21  vehicle_price            12002 non-null  float64 \n",
      " 22  vehicle_color            12002 non-null  category\n",
      " 23  vehicle_weight           12002 non-null  float64 \n",
      "dtypes: category(12), float64(7), int32(2), object(3)\n",
      "memory usage: 1.1+ MB\n"
     ]
    }
   ],
   "source": [
    "test.info()"
   ]
  },
  {
   "cell_type": "code",
   "execution_count": 242,
   "id": "cf639826",
   "metadata": {},
   "outputs": [],
   "source": [
    "to_drop = ['claim_number','zip_code','claim_date','claim_day_of_week','vehicle_color']\n",
    "\n",
    "test.drop(to_drop, inplace = True, axis = 1)\n",
    "#Dropping the variable which we assumed is pointless in prediction so we could run our algorithm faster."
   ]
  },
  {
   "cell_type": "code",
   "execution_count": 243,
   "id": "9cb681ec",
   "metadata": {},
   "outputs": [],
   "source": [
    "test.drop(columns = ['age_of_driver'], inplace = True, axis = 1)"
   ]
  },
  {
   "cell_type": "code",
   "execution_count": 244,
   "id": "3e0d0733",
   "metadata": {},
   "outputs": [
    {
     "name": "stdout",
     "output_type": "stream",
     "text": [
      "<class 'pandas.core.frame.DataFrame'>\n",
      "RangeIndex: 12002 entries, 0 to 12001\n",
      "Data columns (total 18 columns):\n",
      " #   Column                   Non-Null Count  Dtype   \n",
      "---  ------                   --------------  -----   \n",
      " 0   gender                   12002 non-null  category\n",
      " 1   marital_status           12002 non-null  category\n",
      " 2   safty_rating             12002 non-null  float64 \n",
      " 3   annual_income            12002 non-null  float64 \n",
      " 4   high_education_ind       12002 non-null  category\n",
      " 5   address_change_ind       12002 non-null  category\n",
      " 6   living_status            12002 non-null  category\n",
      " 7   accident_site            12002 non-null  category\n",
      " 8   past_num_of_claims       12002 non-null  int32   \n",
      " 9   witness_present_ind      12002 non-null  category\n",
      " 10  liab_prct                12002 non-null  float64 \n",
      " 11  channel                  12002 non-null  category\n",
      " 12  policy_report_filed_ind  12002 non-null  category\n",
      " 13  claim_est_payout         12002 non-null  float64 \n",
      " 14  age_of_vehicle           12002 non-null  int32   \n",
      " 15  vehicle_category         12002 non-null  category\n",
      " 16  vehicle_price            12002 non-null  float64 \n",
      " 17  vehicle_weight           12002 non-null  float64 \n",
      "dtypes: category(10), float64(6), int32(2)\n",
      "memory usage: 774.9 KB\n"
     ]
    }
   ],
   "source": [
    "test.info()"
   ]
  },
  {
   "cell_type": "code",
   "execution_count": 245,
   "id": "cf4b6485",
   "metadata": {},
   "outputs": [],
   "source": [
    "#Extracting categorical columns\n",
    "cat_test = test.select_dtypes(include = ['category'])"
   ]
  },
  {
   "cell_type": "code",
   "execution_count": 246,
   "id": "15b6f4d7",
   "metadata": {},
   "outputs": [
    {
     "data": {
      "text/html": [
       "<div>\n",
       "<style scoped>\n",
       "    .dataframe tbody tr th:only-of-type {\n",
       "        vertical-align: middle;\n",
       "    }\n",
       "\n",
       "    .dataframe tbody tr th {\n",
       "        vertical-align: top;\n",
       "    }\n",
       "\n",
       "    .dataframe thead th {\n",
       "        text-align: right;\n",
       "    }\n",
       "</style>\n",
       "<table border=\"1\" class=\"dataframe\">\n",
       "  <thead>\n",
       "    <tr style=\"text-align: right;\">\n",
       "      <th></th>\n",
       "      <th>gender</th>\n",
       "      <th>marital_status</th>\n",
       "      <th>high_education_ind</th>\n",
       "      <th>address_change_ind</th>\n",
       "      <th>living_status</th>\n",
       "      <th>accident_site</th>\n",
       "      <th>witness_present_ind</th>\n",
       "      <th>channel</th>\n",
       "      <th>policy_report_filed_ind</th>\n",
       "      <th>vehicle_category</th>\n",
       "    </tr>\n",
       "  </thead>\n",
       "  <tbody>\n",
       "    <tr>\n",
       "      <th>0</th>\n",
       "      <td>M</td>\n",
       "      <td>1</td>\n",
       "      <td>1</td>\n",
       "      <td>0</td>\n",
       "      <td>Own</td>\n",
       "      <td>Highway</td>\n",
       "      <td>0</td>\n",
       "      <td>Phone</td>\n",
       "      <td>0</td>\n",
       "      <td>Large</td>\n",
       "    </tr>\n",
       "    <tr>\n",
       "      <th>1</th>\n",
       "      <td>M</td>\n",
       "      <td>1</td>\n",
       "      <td>1</td>\n",
       "      <td>1</td>\n",
       "      <td>Own</td>\n",
       "      <td>Highway</td>\n",
       "      <td>1</td>\n",
       "      <td>Broker</td>\n",
       "      <td>1</td>\n",
       "      <td>Large</td>\n",
       "    </tr>\n",
       "    <tr>\n",
       "      <th>2</th>\n",
       "      <td>F</td>\n",
       "      <td>0</td>\n",
       "      <td>1</td>\n",
       "      <td>1</td>\n",
       "      <td>Own</td>\n",
       "      <td>Parking Lot</td>\n",
       "      <td>0</td>\n",
       "      <td>Broker</td>\n",
       "      <td>1</td>\n",
       "      <td>Medium</td>\n",
       "    </tr>\n",
       "    <tr>\n",
       "      <th>3</th>\n",
       "      <td>M</td>\n",
       "      <td>1</td>\n",
       "      <td>0</td>\n",
       "      <td>1</td>\n",
       "      <td>Own</td>\n",
       "      <td>Local</td>\n",
       "      <td>1</td>\n",
       "      <td>Phone</td>\n",
       "      <td>0</td>\n",
       "      <td>Medium</td>\n",
       "    </tr>\n",
       "    <tr>\n",
       "      <th>4</th>\n",
       "      <td>F</td>\n",
       "      <td>1</td>\n",
       "      <td>1</td>\n",
       "      <td>1</td>\n",
       "      <td>Rent</td>\n",
       "      <td>Local</td>\n",
       "      <td>1</td>\n",
       "      <td>Online</td>\n",
       "      <td>0</td>\n",
       "      <td>Medium</td>\n",
       "    </tr>\n",
       "  </tbody>\n",
       "</table>\n",
       "</div>"
      ],
      "text/plain": [
       "  gender marital_status high_education_ind address_change_ind living_status  \\\n",
       "0      M              1                  1                  0           Own   \n",
       "1      M              1                  1                  1           Own   \n",
       "2      F              0                  1                  1           Own   \n",
       "3      M              1                  0                  1           Own   \n",
       "4      F              1                  1                  1          Rent   \n",
       "\n",
       "  accident_site witness_present_ind channel policy_report_filed_ind  \\\n",
       "0       Highway                   0   Phone                       0   \n",
       "1       Highway                   1  Broker                       1   \n",
       "2   Parking Lot                   0  Broker                       1   \n",
       "3         Local                   1   Phone                       0   \n",
       "4         Local                   1  Online                       0   \n",
       "\n",
       "  vehicle_category  \n",
       "0            Large  \n",
       "1            Large  \n",
       "2           Medium  \n",
       "3           Medium  \n",
       "4           Medium  "
      ]
     },
     "execution_count": 246,
     "metadata": {},
     "output_type": "execute_result"
    }
   ],
   "source": [
    "cat_test.head()"
   ]
  },
  {
   "cell_type": "code",
   "execution_count": 247,
   "id": "b9b756d6",
   "metadata": {},
   "outputs": [
    {
     "name": "stdout",
     "output_type": "stream",
     "text": [
      "gender: \n",
      "['M', 'F']\n",
      "Categories (2, object): ['M', 'F']\n",
      "\n",
      "marital_status: \n",
      "[1, 0]\n",
      "Categories (2, int64): [1, 0]\n",
      "\n",
      "high_education_ind: \n",
      "[1, 0]\n",
      "Categories (2, int64): [1, 0]\n",
      "\n",
      "address_change_ind: \n",
      "[0, 1]\n",
      "Categories (2, int64): [0, 1]\n",
      "\n",
      "living_status: \n",
      "['Own', 'Rent']\n",
      "Categories (2, object): ['Own', 'Rent']\n",
      "\n",
      "accident_site: \n",
      "['Highway', 'Parking Lot', 'Local']\n",
      "Categories (3, object): ['Highway', 'Parking Lot', 'Local']\n",
      "\n",
      "witness_present_ind: \n",
      "[0, 1]\n",
      "Categories (2, int64): [0, 1]\n",
      "\n",
      "channel: \n",
      "['Phone', 'Broker', 'Online']\n",
      "Categories (3, object): ['Phone', 'Broker', 'Online']\n",
      "\n",
      "policy_report_filed_ind: \n",
      "[0, 1]\n",
      "Categories (2, int64): [0, 1]\n",
      "\n",
      "vehicle_category: \n",
      "['Large', 'Medium', 'Compact']\n",
      "Categories (3, object): ['Large', 'Medium', 'Compact']\n",
      "\n"
     ]
    }
   ],
   "source": [
    "for col in cat_test.columns:\n",
    "    print(f\"{col}: \\n{cat_test[col].unique()}\\n\")"
   ]
  },
  {
   "cell_type": "code",
   "execution_count": 248,
   "id": "d7c48525",
   "metadata": {},
   "outputs": [],
   "source": [
    "cat_test = pd.get_dummies(cat_test, drop_first = True)"
   ]
  },
  {
   "cell_type": "code",
   "execution_count": 249,
   "id": "08168bb5",
   "metadata": {},
   "outputs": [
    {
     "data": {
      "text/html": [
       "<div>\n",
       "<style scoped>\n",
       "    .dataframe tbody tr th:only-of-type {\n",
       "        vertical-align: middle;\n",
       "    }\n",
       "\n",
       "    .dataframe tbody tr th {\n",
       "        vertical-align: top;\n",
       "    }\n",
       "\n",
       "    .dataframe thead th {\n",
       "        text-align: right;\n",
       "    }\n",
       "</style>\n",
       "<table border=\"1\" class=\"dataframe\">\n",
       "  <thead>\n",
       "    <tr style=\"text-align: right;\">\n",
       "      <th></th>\n",
       "      <th>gender_M</th>\n",
       "      <th>marital_status_1</th>\n",
       "      <th>high_education_ind_1</th>\n",
       "      <th>address_change_ind_1</th>\n",
       "      <th>living_status_Rent</th>\n",
       "      <th>accident_site_Local</th>\n",
       "      <th>accident_site_Parking Lot</th>\n",
       "      <th>witness_present_ind_1</th>\n",
       "      <th>channel_Online</th>\n",
       "      <th>channel_Phone</th>\n",
       "      <th>policy_report_filed_ind_1</th>\n",
       "      <th>vehicle_category_Large</th>\n",
       "      <th>vehicle_category_Medium</th>\n",
       "    </tr>\n",
       "  </thead>\n",
       "  <tbody>\n",
       "    <tr>\n",
       "      <th>0</th>\n",
       "      <td>1</td>\n",
       "      <td>1</td>\n",
       "      <td>1</td>\n",
       "      <td>0</td>\n",
       "      <td>0</td>\n",
       "      <td>0</td>\n",
       "      <td>0</td>\n",
       "      <td>0</td>\n",
       "      <td>0</td>\n",
       "      <td>1</td>\n",
       "      <td>0</td>\n",
       "      <td>1</td>\n",
       "      <td>0</td>\n",
       "    </tr>\n",
       "    <tr>\n",
       "      <th>1</th>\n",
       "      <td>1</td>\n",
       "      <td>1</td>\n",
       "      <td>1</td>\n",
       "      <td>1</td>\n",
       "      <td>0</td>\n",
       "      <td>0</td>\n",
       "      <td>0</td>\n",
       "      <td>1</td>\n",
       "      <td>0</td>\n",
       "      <td>0</td>\n",
       "      <td>1</td>\n",
       "      <td>1</td>\n",
       "      <td>0</td>\n",
       "    </tr>\n",
       "    <tr>\n",
       "      <th>2</th>\n",
       "      <td>0</td>\n",
       "      <td>0</td>\n",
       "      <td>1</td>\n",
       "      <td>1</td>\n",
       "      <td>0</td>\n",
       "      <td>0</td>\n",
       "      <td>1</td>\n",
       "      <td>0</td>\n",
       "      <td>0</td>\n",
       "      <td>0</td>\n",
       "      <td>1</td>\n",
       "      <td>0</td>\n",
       "      <td>1</td>\n",
       "    </tr>\n",
       "    <tr>\n",
       "      <th>3</th>\n",
       "      <td>1</td>\n",
       "      <td>1</td>\n",
       "      <td>0</td>\n",
       "      <td>1</td>\n",
       "      <td>0</td>\n",
       "      <td>1</td>\n",
       "      <td>0</td>\n",
       "      <td>1</td>\n",
       "      <td>0</td>\n",
       "      <td>1</td>\n",
       "      <td>0</td>\n",
       "      <td>0</td>\n",
       "      <td>1</td>\n",
       "    </tr>\n",
       "    <tr>\n",
       "      <th>4</th>\n",
       "      <td>0</td>\n",
       "      <td>1</td>\n",
       "      <td>1</td>\n",
       "      <td>1</td>\n",
       "      <td>1</td>\n",
       "      <td>1</td>\n",
       "      <td>0</td>\n",
       "      <td>1</td>\n",
       "      <td>1</td>\n",
       "      <td>0</td>\n",
       "      <td>0</td>\n",
       "      <td>0</td>\n",
       "      <td>1</td>\n",
       "    </tr>\n",
       "  </tbody>\n",
       "</table>\n",
       "</div>"
      ],
      "text/plain": [
       "   gender_M  marital_status_1  high_education_ind_1  address_change_ind_1  \\\n",
       "0         1                 1                     1                     0   \n",
       "1         1                 1                     1                     1   \n",
       "2         0                 0                     1                     1   \n",
       "3         1                 1                     0                     1   \n",
       "4         0                 1                     1                     1   \n",
       "\n",
       "   living_status_Rent  accident_site_Local  accident_site_Parking Lot  \\\n",
       "0                   0                    0                          0   \n",
       "1                   0                    0                          0   \n",
       "2                   0                    0                          1   \n",
       "3                   0                    1                          0   \n",
       "4                   1                    1                          0   \n",
       "\n",
       "   witness_present_ind_1  channel_Online  channel_Phone  \\\n",
       "0                      0               0              1   \n",
       "1                      1               0              0   \n",
       "2                      0               0              0   \n",
       "3                      1               0              1   \n",
       "4                      1               1              0   \n",
       "\n",
       "   policy_report_filed_ind_1  vehicle_category_Large  vehicle_category_Medium  \n",
       "0                          0                       1                        0  \n",
       "1                          1                       1                        0  \n",
       "2                          1                       0                        1  \n",
       "3                          0                       0                        1  \n",
       "4                          0                       0                        1  "
      ]
     },
     "execution_count": 249,
     "metadata": {},
     "output_type": "execute_result"
    }
   ],
   "source": [
    "cat_test.head()"
   ]
  },
  {
   "cell_type": "code",
   "execution_count": 250,
   "id": "c8ebd024",
   "metadata": {},
   "outputs": [],
   "source": [
    "num_test = test.select_dtypes(include = [('int64'),('int32'),('float64')])"
   ]
  },
  {
   "cell_type": "code",
   "execution_count": 251,
   "id": "2020c7af",
   "metadata": {},
   "outputs": [
    {
     "data": {
      "text/html": [
       "<div>\n",
       "<style scoped>\n",
       "    .dataframe tbody tr th:only-of-type {\n",
       "        vertical-align: middle;\n",
       "    }\n",
       "\n",
       "    .dataframe tbody tr th {\n",
       "        vertical-align: top;\n",
       "    }\n",
       "\n",
       "    .dataframe thead th {\n",
       "        text-align: right;\n",
       "    }\n",
       "</style>\n",
       "<table border=\"1\" class=\"dataframe\">\n",
       "  <thead>\n",
       "    <tr style=\"text-align: right;\">\n",
       "      <th></th>\n",
       "      <th>safty_rating</th>\n",
       "      <th>annual_income</th>\n",
       "      <th>past_num_of_claims</th>\n",
       "      <th>liab_prct</th>\n",
       "      <th>claim_est_payout</th>\n",
       "      <th>age_of_vehicle</th>\n",
       "      <th>vehicle_price</th>\n",
       "      <th>vehicle_weight</th>\n",
       "    </tr>\n",
       "  </thead>\n",
       "  <tbody>\n",
       "    <tr>\n",
       "      <th>0</th>\n",
       "      <td>73.0</td>\n",
       "      <td>36633.0</td>\n",
       "      <td>0</td>\n",
       "      <td>25.0</td>\n",
       "      <td>5196.552552</td>\n",
       "      <td>8</td>\n",
       "      <td>24360.59273</td>\n",
       "      <td>26633.27819</td>\n",
       "    </tr>\n",
       "    <tr>\n",
       "      <th>1</th>\n",
       "      <td>63.0</td>\n",
       "      <td>40252.0</td>\n",
       "      <td>0</td>\n",
       "      <td>50.0</td>\n",
       "      <td>7381.165248</td>\n",
       "      <td>6</td>\n",
       "      <td>39710.42665</td>\n",
       "      <td>15875.34874</td>\n",
       "    </tr>\n",
       "    <tr>\n",
       "      <th>2</th>\n",
       "      <td>75.0</td>\n",
       "      <td>36634.0</td>\n",
       "      <td>0</td>\n",
       "      <td>98.0</td>\n",
       "      <td>5612.123938</td>\n",
       "      <td>7</td>\n",
       "      <td>50327.56618</td>\n",
       "      <td>21365.05932</td>\n",
       "    </tr>\n",
       "    <tr>\n",
       "      <th>3</th>\n",
       "      <td>72.0</td>\n",
       "      <td>34960.0</td>\n",
       "      <td>0</td>\n",
       "      <td>45.0</td>\n",
       "      <td>7957.267641</td>\n",
       "      <td>2</td>\n",
       "      <td>23457.35282</td>\n",
       "      <td>26707.46021</td>\n",
       "    </tr>\n",
       "    <tr>\n",
       "      <th>4</th>\n",
       "      <td>70.0</td>\n",
       "      <td>31776.0</td>\n",
       "      <td>0</td>\n",
       "      <td>11.0</td>\n",
       "      <td>6232.195932</td>\n",
       "      <td>1</td>\n",
       "      <td>18238.39202</td>\n",
       "      <td>22949.73744</td>\n",
       "    </tr>\n",
       "  </tbody>\n",
       "</table>\n",
       "</div>"
      ],
      "text/plain": [
       "   safty_rating  annual_income  past_num_of_claims  liab_prct  \\\n",
       "0          73.0        36633.0                   0       25.0   \n",
       "1          63.0        40252.0                   0       50.0   \n",
       "2          75.0        36634.0                   0       98.0   \n",
       "3          72.0        34960.0                   0       45.0   \n",
       "4          70.0        31776.0                   0       11.0   \n",
       "\n",
       "   claim_est_payout  age_of_vehicle  vehicle_price  vehicle_weight  \n",
       "0       5196.552552               8    24360.59273     26633.27819  \n",
       "1       7381.165248               6    39710.42665     15875.34874  \n",
       "2       5612.123938               7    50327.56618     21365.05932  \n",
       "3       7957.267641               2    23457.35282     26707.46021  \n",
       "4       6232.195932               1    18238.39202     22949.73744  "
      ]
     },
     "execution_count": 251,
     "metadata": {},
     "output_type": "execute_result"
    }
   ],
   "source": [
    "num_test.head()"
   ]
  },
  {
   "cell_type": "code",
   "execution_count": 252,
   "id": "2c390705",
   "metadata": {},
   "outputs": [],
   "source": [
    "test = pd.concat([num_test, cat_test], axis = 1)"
   ]
  },
  {
   "cell_type": "code",
   "execution_count": 253,
   "id": "a6336e68",
   "metadata": {},
   "outputs": [
    {
     "data": {
      "text/html": [
       "<div>\n",
       "<style scoped>\n",
       "    .dataframe tbody tr th:only-of-type {\n",
       "        vertical-align: middle;\n",
       "    }\n",
       "\n",
       "    .dataframe tbody tr th {\n",
       "        vertical-align: top;\n",
       "    }\n",
       "\n",
       "    .dataframe thead th {\n",
       "        text-align: right;\n",
       "    }\n",
       "</style>\n",
       "<table border=\"1\" class=\"dataframe\">\n",
       "  <thead>\n",
       "    <tr style=\"text-align: right;\">\n",
       "      <th></th>\n",
       "      <th>safty_rating</th>\n",
       "      <th>annual_income</th>\n",
       "      <th>past_num_of_claims</th>\n",
       "      <th>liab_prct</th>\n",
       "      <th>claim_est_payout</th>\n",
       "      <th>age_of_vehicle</th>\n",
       "      <th>vehicle_price</th>\n",
       "      <th>vehicle_weight</th>\n",
       "      <th>gender_M</th>\n",
       "      <th>marital_status_1</th>\n",
       "      <th>...</th>\n",
       "      <th>address_change_ind_1</th>\n",
       "      <th>living_status_Rent</th>\n",
       "      <th>accident_site_Local</th>\n",
       "      <th>accident_site_Parking Lot</th>\n",
       "      <th>witness_present_ind_1</th>\n",
       "      <th>channel_Online</th>\n",
       "      <th>channel_Phone</th>\n",
       "      <th>policy_report_filed_ind_1</th>\n",
       "      <th>vehicle_category_Large</th>\n",
       "      <th>vehicle_category_Medium</th>\n",
       "    </tr>\n",
       "  </thead>\n",
       "  <tbody>\n",
       "    <tr>\n",
       "      <th>0</th>\n",
       "      <td>73.0</td>\n",
       "      <td>36633.0</td>\n",
       "      <td>0</td>\n",
       "      <td>25.0</td>\n",
       "      <td>5196.552552</td>\n",
       "      <td>8</td>\n",
       "      <td>24360.59273</td>\n",
       "      <td>26633.27819</td>\n",
       "      <td>1</td>\n",
       "      <td>1</td>\n",
       "      <td>...</td>\n",
       "      <td>0</td>\n",
       "      <td>0</td>\n",
       "      <td>0</td>\n",
       "      <td>0</td>\n",
       "      <td>0</td>\n",
       "      <td>0</td>\n",
       "      <td>1</td>\n",
       "      <td>0</td>\n",
       "      <td>1</td>\n",
       "      <td>0</td>\n",
       "    </tr>\n",
       "    <tr>\n",
       "      <th>1</th>\n",
       "      <td>63.0</td>\n",
       "      <td>40252.0</td>\n",
       "      <td>0</td>\n",
       "      <td>50.0</td>\n",
       "      <td>7381.165248</td>\n",
       "      <td>6</td>\n",
       "      <td>39710.42665</td>\n",
       "      <td>15875.34874</td>\n",
       "      <td>1</td>\n",
       "      <td>1</td>\n",
       "      <td>...</td>\n",
       "      <td>1</td>\n",
       "      <td>0</td>\n",
       "      <td>0</td>\n",
       "      <td>0</td>\n",
       "      <td>1</td>\n",
       "      <td>0</td>\n",
       "      <td>0</td>\n",
       "      <td>1</td>\n",
       "      <td>1</td>\n",
       "      <td>0</td>\n",
       "    </tr>\n",
       "    <tr>\n",
       "      <th>2</th>\n",
       "      <td>75.0</td>\n",
       "      <td>36634.0</td>\n",
       "      <td>0</td>\n",
       "      <td>98.0</td>\n",
       "      <td>5612.123938</td>\n",
       "      <td>7</td>\n",
       "      <td>50327.56618</td>\n",
       "      <td>21365.05932</td>\n",
       "      <td>0</td>\n",
       "      <td>0</td>\n",
       "      <td>...</td>\n",
       "      <td>1</td>\n",
       "      <td>0</td>\n",
       "      <td>0</td>\n",
       "      <td>1</td>\n",
       "      <td>0</td>\n",
       "      <td>0</td>\n",
       "      <td>0</td>\n",
       "      <td>1</td>\n",
       "      <td>0</td>\n",
       "      <td>1</td>\n",
       "    </tr>\n",
       "    <tr>\n",
       "      <th>3</th>\n",
       "      <td>72.0</td>\n",
       "      <td>34960.0</td>\n",
       "      <td>0</td>\n",
       "      <td>45.0</td>\n",
       "      <td>7957.267641</td>\n",
       "      <td>2</td>\n",
       "      <td>23457.35282</td>\n",
       "      <td>26707.46021</td>\n",
       "      <td>1</td>\n",
       "      <td>1</td>\n",
       "      <td>...</td>\n",
       "      <td>1</td>\n",
       "      <td>0</td>\n",
       "      <td>1</td>\n",
       "      <td>0</td>\n",
       "      <td>1</td>\n",
       "      <td>0</td>\n",
       "      <td>1</td>\n",
       "      <td>0</td>\n",
       "      <td>0</td>\n",
       "      <td>1</td>\n",
       "    </tr>\n",
       "    <tr>\n",
       "      <th>4</th>\n",
       "      <td>70.0</td>\n",
       "      <td>31776.0</td>\n",
       "      <td>0</td>\n",
       "      <td>11.0</td>\n",
       "      <td>6232.195932</td>\n",
       "      <td>1</td>\n",
       "      <td>18238.39202</td>\n",
       "      <td>22949.73744</td>\n",
       "      <td>0</td>\n",
       "      <td>1</td>\n",
       "      <td>...</td>\n",
       "      <td>1</td>\n",
       "      <td>1</td>\n",
       "      <td>1</td>\n",
       "      <td>0</td>\n",
       "      <td>1</td>\n",
       "      <td>1</td>\n",
       "      <td>0</td>\n",
       "      <td>0</td>\n",
       "      <td>0</td>\n",
       "      <td>1</td>\n",
       "    </tr>\n",
       "  </tbody>\n",
       "</table>\n",
       "<p>5 rows × 21 columns</p>\n",
       "</div>"
      ],
      "text/plain": [
       "   safty_rating  annual_income  past_num_of_claims  liab_prct  \\\n",
       "0          73.0        36633.0                   0       25.0   \n",
       "1          63.0        40252.0                   0       50.0   \n",
       "2          75.0        36634.0                   0       98.0   \n",
       "3          72.0        34960.0                   0       45.0   \n",
       "4          70.0        31776.0                   0       11.0   \n",
       "\n",
       "   claim_est_payout  age_of_vehicle  vehicle_price  vehicle_weight  gender_M  \\\n",
       "0       5196.552552               8    24360.59273     26633.27819         1   \n",
       "1       7381.165248               6    39710.42665     15875.34874         1   \n",
       "2       5612.123938               7    50327.56618     21365.05932         0   \n",
       "3       7957.267641               2    23457.35282     26707.46021         1   \n",
       "4       6232.195932               1    18238.39202     22949.73744         0   \n",
       "\n",
       "   marital_status_1  ...  address_change_ind_1  living_status_Rent  \\\n",
       "0                 1  ...                     0                   0   \n",
       "1                 1  ...                     1                   0   \n",
       "2                 0  ...                     1                   0   \n",
       "3                 1  ...                     1                   0   \n",
       "4                 1  ...                     1                   1   \n",
       "\n",
       "   accident_site_Local  accident_site_Parking Lot  witness_present_ind_1  \\\n",
       "0                    0                          0                      0   \n",
       "1                    0                          0                      1   \n",
       "2                    0                          1                      0   \n",
       "3                    1                          0                      1   \n",
       "4                    1                          0                      1   \n",
       "\n",
       "   channel_Online  channel_Phone  policy_report_filed_ind_1  \\\n",
       "0               0              1                          0   \n",
       "1               0              0                          1   \n",
       "2               0              0                          1   \n",
       "3               0              1                          0   \n",
       "4               1              0                          0   \n",
       "\n",
       "   vehicle_category_Large  vehicle_category_Medium  \n",
       "0                       1                        0  \n",
       "1                       1                        0  \n",
       "2                       0                        1  \n",
       "3                       0                        1  \n",
       "4                       0                        1  \n",
       "\n",
       "[5 rows x 21 columns]"
      ]
     },
     "execution_count": 253,
     "metadata": {},
     "output_type": "execute_result"
    }
   ],
   "source": [
    "test.head()"
   ]
  },
  {
   "cell_type": "code",
   "execution_count": 254,
   "id": "06ddfbb3",
   "metadata": {},
   "outputs": [
    {
     "name": "stdout",
     "output_type": "stream",
     "text": [
      "<class 'pandas.core.frame.DataFrame'>\n",
      "RangeIndex: 12002 entries, 0 to 12001\n",
      "Data columns (total 21 columns):\n",
      " #   Column                     Non-Null Count  Dtype  \n",
      "---  ------                     --------------  -----  \n",
      " 0   safty_rating               12002 non-null  float64\n",
      " 1   annual_income              12002 non-null  float64\n",
      " 2   past_num_of_claims         12002 non-null  int32  \n",
      " 3   liab_prct                  12002 non-null  float64\n",
      " 4   claim_est_payout           12002 non-null  float64\n",
      " 5   age_of_vehicle             12002 non-null  int32  \n",
      " 6   vehicle_price              12002 non-null  float64\n",
      " 7   vehicle_weight             12002 non-null  float64\n",
      " 8   gender_M                   12002 non-null  uint8  \n",
      " 9   marital_status_1           12002 non-null  uint8  \n",
      " 10  high_education_ind_1       12002 non-null  uint8  \n",
      " 11  address_change_ind_1       12002 non-null  uint8  \n",
      " 12  living_status_Rent         12002 non-null  uint8  \n",
      " 13  accident_site_Local        12002 non-null  uint8  \n",
      " 14  accident_site_Parking Lot  12002 non-null  uint8  \n",
      " 15  witness_present_ind_1      12002 non-null  uint8  \n",
      " 16  channel_Online             12002 non-null  uint8  \n",
      " 17  channel_Phone              12002 non-null  uint8  \n",
      " 18  policy_report_filed_ind_1  12002 non-null  uint8  \n",
      " 19  vehicle_category_Large     12002 non-null  uint8  \n",
      " 20  vehicle_category_Medium    12002 non-null  uint8  \n",
      "dtypes: float64(6), int32(2), uint8(13)\n",
      "memory usage: 808.9 KB\n"
     ]
    }
   ],
   "source": [
    "test.info()"
   ]
  },
  {
   "cell_type": "code",
   "execution_count": 255,
   "id": "e2c798ae",
   "metadata": {},
   "outputs": [],
   "source": [
    "sc = StandardScaler()\n",
    "test = sc.fit_transform(test)"
   ]
  },
  {
   "cell_type": "code",
   "execution_count": 256,
   "id": "18e52e6e",
   "metadata": {},
   "outputs": [],
   "source": [
    "fraud_pred = sgbc.predict(test)"
   ]
  },
  {
   "cell_type": "code",
   "execution_count": 257,
   "id": "48e25be8",
   "metadata": {},
   "outputs": [],
   "source": [
    "fraud_pred = pd.DataFrame(fraud_pred, columns= ['fraud'])"
   ]
  },
  {
   "cell_type": "code",
   "execution_count": 258,
   "id": "6528ffca",
   "metadata": {},
   "outputs": [],
   "source": [
    "test = pd.read_csv('C:/Users/micke/Desktop/test_2021.csv')"
   ]
  },
  {
   "cell_type": "code",
   "execution_count": 259,
   "id": "02d76613",
   "metadata": {},
   "outputs": [],
   "source": [
    "claim_pred = pd.DataFrame(test, columns= ['claim_number'])"
   ]
  },
  {
   "cell_type": "code",
   "execution_count": 260,
   "id": "78a4cee0",
   "metadata": {},
   "outputs": [
    {
     "data": {
      "text/html": [
       "<div>\n",
       "<style scoped>\n",
       "    .dataframe tbody tr th:only-of-type {\n",
       "        vertical-align: middle;\n",
       "    }\n",
       "\n",
       "    .dataframe tbody tr th {\n",
       "        vertical-align: top;\n",
       "    }\n",
       "\n",
       "    .dataframe thead th {\n",
       "        text-align: right;\n",
       "    }\n",
       "</style>\n",
       "<table border=\"1\" class=\"dataframe\">\n",
       "  <thead>\n",
       "    <tr style=\"text-align: right;\">\n",
       "      <th></th>\n",
       "      <th>fraud</th>\n",
       "    </tr>\n",
       "  </thead>\n",
       "  <tbody>\n",
       "    <tr>\n",
       "      <th>0</th>\n",
       "      <td>0</td>\n",
       "    </tr>\n",
       "    <tr>\n",
       "      <th>1</th>\n",
       "      <td>0</td>\n",
       "    </tr>\n",
       "    <tr>\n",
       "      <th>2</th>\n",
       "      <td>0</td>\n",
       "    </tr>\n",
       "    <tr>\n",
       "      <th>3</th>\n",
       "      <td>0</td>\n",
       "    </tr>\n",
       "    <tr>\n",
       "      <th>4</th>\n",
       "      <td>0</td>\n",
       "    </tr>\n",
       "    <tr>\n",
       "      <th>...</th>\n",
       "      <td>...</td>\n",
       "    </tr>\n",
       "    <tr>\n",
       "      <th>11997</th>\n",
       "      <td>0</td>\n",
       "    </tr>\n",
       "    <tr>\n",
       "      <th>11998</th>\n",
       "      <td>0</td>\n",
       "    </tr>\n",
       "    <tr>\n",
       "      <th>11999</th>\n",
       "      <td>0</td>\n",
       "    </tr>\n",
       "    <tr>\n",
       "      <th>12000</th>\n",
       "      <td>0</td>\n",
       "    </tr>\n",
       "    <tr>\n",
       "      <th>12001</th>\n",
       "      <td>1</td>\n",
       "    </tr>\n",
       "  </tbody>\n",
       "</table>\n",
       "<p>12002 rows × 1 columns</p>\n",
       "</div>"
      ],
      "text/plain": [
       "      fraud\n",
       "0         0\n",
       "1         0\n",
       "2         0\n",
       "3         0\n",
       "4         0\n",
       "...     ...\n",
       "11997     0\n",
       "11998     0\n",
       "11999     0\n",
       "12000     0\n",
       "12001     1\n",
       "\n",
       "[12002 rows x 1 columns]"
      ]
     },
     "execution_count": 260,
     "metadata": {},
     "output_type": "execute_result"
    }
   ],
   "source": [
    "fraud_pred"
   ]
  },
  {
   "cell_type": "code",
   "execution_count": 261,
   "id": "83c03369",
   "metadata": {},
   "outputs": [
    {
     "data": {
      "text/html": [
       "<div>\n",
       "<style scoped>\n",
       "    .dataframe tbody tr th:only-of-type {\n",
       "        vertical-align: middle;\n",
       "    }\n",
       "\n",
       "    .dataframe tbody tr th {\n",
       "        vertical-align: top;\n",
       "    }\n",
       "\n",
       "    .dataframe thead th {\n",
       "        text-align: right;\n",
       "    }\n",
       "</style>\n",
       "<table border=\"1\" class=\"dataframe\">\n",
       "  <thead>\n",
       "    <tr style=\"text-align: right;\">\n",
       "      <th></th>\n",
       "      <th>claim_number</th>\n",
       "    </tr>\n",
       "  </thead>\n",
       "  <tbody>\n",
       "    <tr>\n",
       "      <th>0</th>\n",
       "      <td>2</td>\n",
       "    </tr>\n",
       "    <tr>\n",
       "      <th>1</th>\n",
       "      <td>9</td>\n",
       "    </tr>\n",
       "    <tr>\n",
       "      <th>2</th>\n",
       "      <td>11</td>\n",
       "    </tr>\n",
       "    <tr>\n",
       "      <th>3</th>\n",
       "      <td>13</td>\n",
       "    </tr>\n",
       "    <tr>\n",
       "      <th>4</th>\n",
       "      <td>14</td>\n",
       "    </tr>\n",
       "    <tr>\n",
       "      <th>...</th>\n",
       "      <td>...</td>\n",
       "    </tr>\n",
       "    <tr>\n",
       "      <th>11997</th>\n",
       "      <td>29990</td>\n",
       "    </tr>\n",
       "    <tr>\n",
       "      <th>11998</th>\n",
       "      <td>29992</td>\n",
       "    </tr>\n",
       "    <tr>\n",
       "      <th>11999</th>\n",
       "      <td>29994</td>\n",
       "    </tr>\n",
       "    <tr>\n",
       "      <th>12000</th>\n",
       "      <td>29995</td>\n",
       "    </tr>\n",
       "    <tr>\n",
       "      <th>12001</th>\n",
       "      <td>29998</td>\n",
       "    </tr>\n",
       "  </tbody>\n",
       "</table>\n",
       "<p>12002 rows × 1 columns</p>\n",
       "</div>"
      ],
      "text/plain": [
       "       claim_number\n",
       "0                 2\n",
       "1                 9\n",
       "2                11\n",
       "3                13\n",
       "4                14\n",
       "...             ...\n",
       "11997         29990\n",
       "11998         29992\n",
       "11999         29994\n",
       "12000         29995\n",
       "12001         29998\n",
       "\n",
       "[12002 rows x 1 columns]"
      ]
     },
     "execution_count": 261,
     "metadata": {},
     "output_type": "execute_result"
    }
   ],
   "source": [
    "claim_pred"
   ]
  },
  {
   "cell_type": "code",
   "execution_count": 266,
   "id": "85f0dde1",
   "metadata": {},
   "outputs": [],
   "source": [
    "test_pred=pd.concat([claim_pred,fraud_pred],axis=1)"
   ]
  },
  {
   "cell_type": "code",
   "execution_count": 267,
   "id": "7705e601",
   "metadata": {},
   "outputs": [
    {
     "data": {
      "text/html": [
       "<div>\n",
       "<style scoped>\n",
       "    .dataframe tbody tr th:only-of-type {\n",
       "        vertical-align: middle;\n",
       "    }\n",
       "\n",
       "    .dataframe tbody tr th {\n",
       "        vertical-align: top;\n",
       "    }\n",
       "\n",
       "    .dataframe thead th {\n",
       "        text-align: right;\n",
       "    }\n",
       "</style>\n",
       "<table border=\"1\" class=\"dataframe\">\n",
       "  <thead>\n",
       "    <tr style=\"text-align: right;\">\n",
       "      <th></th>\n",
       "      <th>claim_number</th>\n",
       "      <th>fraud</th>\n",
       "    </tr>\n",
       "  </thead>\n",
       "  <tbody>\n",
       "    <tr>\n",
       "      <th>0</th>\n",
       "      <td>2</td>\n",
       "      <td>0</td>\n",
       "    </tr>\n",
       "    <tr>\n",
       "      <th>1</th>\n",
       "      <td>9</td>\n",
       "      <td>0</td>\n",
       "    </tr>\n",
       "    <tr>\n",
       "      <th>2</th>\n",
       "      <td>11</td>\n",
       "      <td>0</td>\n",
       "    </tr>\n",
       "    <tr>\n",
       "      <th>3</th>\n",
       "      <td>13</td>\n",
       "      <td>0</td>\n",
       "    </tr>\n",
       "    <tr>\n",
       "      <th>4</th>\n",
       "      <td>14</td>\n",
       "      <td>0</td>\n",
       "    </tr>\n",
       "    <tr>\n",
       "      <th>...</th>\n",
       "      <td>...</td>\n",
       "      <td>...</td>\n",
       "    </tr>\n",
       "    <tr>\n",
       "      <th>11997</th>\n",
       "      <td>29990</td>\n",
       "      <td>0</td>\n",
       "    </tr>\n",
       "    <tr>\n",
       "      <th>11998</th>\n",
       "      <td>29992</td>\n",
       "      <td>0</td>\n",
       "    </tr>\n",
       "    <tr>\n",
       "      <th>11999</th>\n",
       "      <td>29994</td>\n",
       "      <td>0</td>\n",
       "    </tr>\n",
       "    <tr>\n",
       "      <th>12000</th>\n",
       "      <td>29995</td>\n",
       "      <td>0</td>\n",
       "    </tr>\n",
       "    <tr>\n",
       "      <th>12001</th>\n",
       "      <td>29998</td>\n",
       "      <td>1</td>\n",
       "    </tr>\n",
       "  </tbody>\n",
       "</table>\n",
       "<p>12002 rows × 2 columns</p>\n",
       "</div>"
      ],
      "text/plain": [
       "       claim_number fraud\n",
       "0                 2     0\n",
       "1                 9     0\n",
       "2                11     0\n",
       "3                13     0\n",
       "4                14     0\n",
       "...             ...   ...\n",
       "11997         29990     0\n",
       "11998         29992     0\n",
       "11999         29994     0\n",
       "12000         29995     0\n",
       "12001         29998     1\n",
       "\n",
       "[12002 rows x 2 columns]"
      ]
     },
     "execution_count": 267,
     "metadata": {},
     "output_type": "execute_result"
    }
   ],
   "source": [
    "test_pred"
   ]
  },
  {
   "cell_type": "code",
   "execution_count": 270,
   "id": "ac2ccf7c",
   "metadata": {},
   "outputs": [],
   "source": [
    "test_pred.to_csv('Prediction - SGB.csv' , index=False)"
   ]
  },
  {
   "cell_type": "code",
   "execution_count": null,
   "id": "eaf43dd5",
   "metadata": {},
   "outputs": [],
   "source": []
  }
 ],
 "metadata": {
  "kernelspec": {
   "display_name": "Python 3",
   "language": "python",
   "name": "python3"
  },
  "language_info": {
   "codemirror_mode": {
    "name": "ipython",
    "version": 3
   },
   "file_extension": ".py",
   "mimetype": "text/x-python",
   "name": "python",
   "nbconvert_exporter": "python",
   "pygments_lexer": "ipython3",
   "version": "3.8.8"
  }
 },
 "nbformat": 4,
 "nbformat_minor": 5
}
